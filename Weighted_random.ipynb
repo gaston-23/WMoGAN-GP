{
 "cells": [
  {
   "cell_type": "code",
   "execution_count": 1,
   "id": "f6dc83c0-e157-4fce-9ae7-83f3faa5c170",
   "metadata": {
    "scrolled": true
   },
   "outputs": [],
   "source": [
    "\n",
    "import numpy as np\n",
    "import pickle\n",
    "\n",
    "import random\n",
    "random.seed(3110)\n",
    "from tqdm import tqdm"
   ]
  },
  {
   "cell_type": "code",
   "execution_count": 4,
   "id": "c3655b14",
   "metadata": {},
   "outputs": [
    {
     "name": "stdout",
     "output_type": "stream",
     "text": [
      "/home/rapids/notebooks/project\n"
     ]
    }
   ],
   "source": [
    "%cd project/"
   ]
  },
  {
   "cell_type": "code",
   "execution_count": 2,
   "id": "297a4ffd-0615-4b83-b9d8-c2e885dd2077",
   "metadata": {
    "scrolled": true
   },
   "outputs": [],
   "source": [
    "city = \"generations\"\n",
    "transp = \"\""
   ]
  },
  {
   "cell_type": "code",
   "execution_count": 5,
   "id": "9541d1e2-68b5-41d1-be29-48e964be0da2",
   "metadata": {
    "scrolled": true
   },
   "outputs": [
    {
     "name": "stdout",
     "output_type": "stream",
     "text": [
      "200\n",
      "51\n"
     ]
    }
   ],
   "source": [
    "with open(\"./\"+ transp + city+ \"/v_train_sem.txt\", \"rb\") as fp:   # Unpickling\n",
    "    v_train = pickle.load(fp)\n",
    "print(len(v_train))\n",
    "\n",
    "\n",
    "with open(\"./\"+ transp + city+ \"/v_test_sem.txt\", \"rb\") as fp:   # Unpickling\n",
    "    v_test = pickle.load(fp)\n",
    "print(len(v_test))"
   ]
  },
  {
   "cell_type": "code",
   "execution_count": 7,
   "id": "124c4a89-9601-4262-9b4d-eb30cfd503db",
   "metadata": {
    "scrolled": true
   },
   "outputs": [
    {
     "name": "stderr",
     "output_type": "stream",
     "text": [
      "100%|█████████████████████████████████████████████████████████████████████████████████████████████████████████████████████████████████████████████████████████████████| 51/51 [00:10<00:00,  4.96it/s]\n"
     ]
    }
   ],
   "source": [
    "fake_set = []\n",
    "for n in tqdm(range (0, len(v_test))):\n",
    "    a = np.zeros((64,64))\n",
    "    for i in range(0,64): #select row\n",
    "        for j in range(0,64): #select column\n",
    "            lista = []\n",
    "            for t in v_train:\n",
    "                lista.append(t[i][j])\n",
    "            a[i][j] = random.choice(lista)\n",
    "    fake_set.append(a)"
   ]
  },
  {
   "cell_type": "code",
   "execution_count": 8,
   "id": "c210f71e-8c1b-427d-91ba-105389ac87a4",
   "metadata": {},
   "outputs": [
    {
     "name": "stdout",
     "output_type": "stream",
     "text": [
      "51\n"
     ]
    }
   ],
   "source": [
    "print(len(fake_set))"
   ]
  },
  {
   "cell_type": "code",
   "execution_count": 9,
   "id": "48790dd3-5f07-4306-b342-07f8ff5621fa",
   "metadata": {},
   "outputs": [],
   "source": [
    "with open(\"./\"+ transp+city+ \"/fake_set_random_weighted_sem.txt\", \"wb\") as fp:   # Unpickling\n",
    "    pickle.dump(fake_set,fp)"
   ]
  },
  {
   "cell_type": "code",
   "execution_count": null,
   "id": "8ce891ca-c097-4cb6-a80a-8fff1c5fab86",
   "metadata": {},
   "outputs": [],
   "source": []
  }
 ],
 "metadata": {
  "kernelspec": {
   "display_name": "Python 3 (ipykernel)",
   "language": "python",
   "name": "python3"
  },
  "language_info": {
   "codemirror_mode": {
    "name": "ipython",
    "version": 3
   },
   "file_extension": ".py",
   "mimetype": "text/x-python",
   "name": "python",
   "nbconvert_exporter": "python",
   "pygments_lexer": "ipython3",
   "version": "3.11.9"
  }
 },
 "nbformat": 4,
 "nbformat_minor": 5
}
