{
 "cells": [
  {
   "cell_type": "code",
   "execution_count": 31,
   "metadata": {},
   "outputs": [
    {
     "name": "stdout",
     "output_type": "stream",
     "text": [
      "[Errno 2] No such file or directory: 'project/'\n",
      "/home/rapids/notebooks/project\n"
     ]
    }
   ],
   "source": [
    "%cd project/"
   ]
  },
  {
   "cell_type": "code",
   "execution_count": 17,
   "metadata": {},
   "outputs": [],
   "source": [
    "import skmob\n",
    "from skmob.utils import utils, constants\n",
    "from skmob.tessellation import tilers\n",
    "from skmob.utils.plot import plot_gdf\n",
    "\n",
    "import numpy as np\n",
    "import pandas as pd\n",
    "import geopandas as gpd\n",
    "from skmob.models.radiation import Radiation\n",
    "\n",
    "\n",
    "from sklearn.model_selection import train_test_split\n",
    "from random import sample\n",
    "import pickle\n",
    "from scipy.spatial import distance\n",
    "import sys\n",
    "\n",
    "from matplotlib import pyplot as plt\n",
    "plt.rcParams[\"figure.figsize\"] = (12, 9) # (w, h)"
   ]
  },
  {
   "cell_type": "code",
   "execution_count": 3,
   "metadata": {},
   "outputs": [
    {
     "ename": "NameError",
     "evalue": "name 'data' is not defined",
     "output_type": "error",
     "traceback": [
      "\u001b[0;31m---------------------------------------------------------------------------\u001b[0m",
      "\u001b[0;31mNameError\u001b[0m                                 Traceback (most recent call last)",
      "Cell \u001b[0;32mIn[3], line 4\u001b[0m\n\u001b[1;32m      2\u001b[0m \u001b[38;5;66;03m# Visualizar geojson sobre un mapa base\u001b[39;00m\n\u001b[1;32m      3\u001b[0m fig, ax \u001b[38;5;241m=\u001b[39m plt\u001b[38;5;241m.\u001b[39msubplots(figsize\u001b[38;5;241m=\u001b[39m(\u001b[38;5;241m10\u001b[39m, \u001b[38;5;241m10\u001b[39m))\n\u001b[0;32m----> 4\u001b[0m \u001b[43mdata\u001b[49m\u001b[38;5;241m.\u001b[39mplot(ax\u001b[38;5;241m=\u001b[39max, alpha\u001b[38;5;241m=\u001b[39m\u001b[38;5;241m0.5\u001b[39m, edgecolor\u001b[38;5;241m=\u001b[39m\u001b[38;5;124m'\u001b[39m\u001b[38;5;124mk\u001b[39m\u001b[38;5;124m'\u001b[39m)\n\u001b[1;32m      5\u001b[0m ctx\u001b[38;5;241m.\u001b[39madd_basemap(ax, crs\u001b[38;5;241m=\u001b[39mdata\u001b[38;5;241m.\u001b[39mcrs\u001b[38;5;241m.\u001b[39mto_string(), source\u001b[38;5;241m=\u001b[39mctx\u001b[38;5;241m.\u001b[39mproviders\u001b[38;5;241m.\u001b[39mOpenStreetMap\u001b[38;5;241m.\u001b[39mMapnik)\n\u001b[1;32m      7\u001b[0m plt\u001b[38;5;241m.\u001b[39mtitle(\u001b[38;5;124m\"\u001b[39m\u001b[38;5;124mTesselación de Buenos Aires\u001b[39m\u001b[38;5;124m\"\u001b[39m)\n",
      "\u001b[0;31mNameError\u001b[0m: name 'data' is not defined"
     ]
    },
    {
     "data": {
      "image/png": "[encoded data removed]",
      "text/plain": [
       "<Figure size 1000x1000 with 1 Axes>"
      ]
     },
     "metadata": {},
     "output_type": "display_data"
    }
   ],
   "source": [
    "import contextily as ctx\n",
    "# Visualizar geojson sobre un mapa base\n",
    "fig, ax = plt.subplots(figsize=(10, 10))\n",
    "data.plot(ax=ax, alpha=0.5, edgecolor='k')\n",
    "ctx.add_basemap(ax, crs=data.crs.to_string(), source=ctx.providers.OpenStreetMap.Mapnik)\n",
    "\n",
    "plt.title(\"Tesselación de Buenos Aires\")\n",
    "plt.show()"
   ]
  },
  {
   "cell_type": "markdown",
   "metadata": {},
   "source": [
    "UTILS"
   ]
  },
  {
   "cell_type": "code",
   "execution_count": 11,
   "metadata": {},
   "outputs": [],
   "source": [
    "def toFdf(adj, tess, d):\n",
    "    l = []\n",
    "    for i in range(0,len(adj)):\n",
    "        for j in range(0,len(adj)):\n",
    "            if(adj[i,j]!=0):\n",
    "                l.append([d[i],d[j], adj[i,j]])\n",
    "    data = pd.DataFrame(l)\n",
    "    return(data)"
   ]
  },
  {
   "cell_type": "code",
   "execution_count": 12,
   "metadata": {},
   "outputs": [],
   "source": [
    "def toAdj(fdf, tess):\n",
    "    names = list(tess.tile_ID.values)\n",
    "    adj = pd.DataFrame(columns=names, index = names)\n",
    "    for i, row in enumerate(fdf.itertuples(), 1):\n",
    "         adj.at[str(row.origin), str(row.destination)] = row.flow\n",
    "    return adj"
   ]
  },
  {
   "cell_type": "markdown",
   "metadata": {},
   "source": [
    "TESSELLATION"
   ]
  },
  {
   "cell_type": "code",
   "execution_count": 13,
   "metadata": {},
   "outputs": [
    {
     "name": "stderr",
     "output_type": "stream",
     "text": [
      "/opt/conda/lib/python3.11/site-packages/skmob/tessellation/tilers.py:117: ShapelyDeprecationWarning: The 'cascaded_union()' function is deprecated. Use 'unary_union()' instead.\n",
      "  base_shape = gpd.GeoSeries(cascaded_union(polygons), crs=base_shape.crs)\n"
     ]
    },
    {
     "data": {
      "text/html": [
       "<div style=\"width:100%;\"><div style=\"position:relative;width:100%;height:0;padding-bottom:60%;\"><span style=\"color:#565656\">Make this Notebook Trusted to load map: File -> Trust Notebook</span><iframe srcdoc=\"&lt;!DOCTYPE html&gt;\n",
       "&lt;html&gt;\n",
       "&lt;head&gt;\n",
       "    \n",
       "    &lt;meta http-equiv=&quot;content-type&quot; content=&quot;text/html; charset=UTF-8&quot; /&gt;\n",
       "    \n",
       "        &lt;script&gt;\n",
       "            L_NO_TOUCH = false;\n",
       "            L_DISABLE_3D = false;\n",
       "        &lt;/script&gt;\n",
       "    \n",
       "    &lt;style&gt;html, body {width: 100%;height: 100%;margin: 0;padding: 0;}&lt;/style&gt;\n",
       "    &lt;style&gt;#map {position:absolute;top:0;bottom:0;right:0;left:0;}&lt;/style&gt;\n",
       "    &lt;script src=&quot;https://cdn.jsdelivr.net/npm/leaflet@1.9.3/dist/leaflet.js&quot;&gt;&lt;/script&gt;\n",
       "    &lt;script src=&quot;https://code.jquery.com/jquery-3.7.1.min.js&quot;&gt;&lt;/script&gt;\n",
       "    &lt;script src=&quot;https://cdn.jsdelivr.net/npm/bootstrap@5.2.2/dist/js/bootstrap.bundle.min.js&quot;&gt;&lt;/script&gt;\n",
       "    &lt;script src=&quot;https://cdnjs.cloudflare.com/ajax/libs/Leaflet.awesome-markers/2.0.2/leaflet.awesome-markers.js&quot;&gt;&lt;/script&gt;\n",
       "    &lt;link rel=&quot;stylesheet&quot; href=&quot;https://cdn.jsdelivr.net/npm/leaflet@1.9.3/dist/leaflet.css&quot;/&gt;\n",
       "    &lt;link rel=&quot;stylesheet&quot; href=&quot;https://cdn.jsdelivr.net/npm/bootstrap@5.2.2/dist/css/bootstrap.min.css&quot;/&gt;\n",
       "    &lt;link rel=&quot;stylesheet&quot; href=&quot;https://netdna.bootstrapcdn.com/bootstrap/3.0.0/css/bootstrap-glyphicons.css&quot;/&gt;\n",
       "    &lt;link rel=&quot;stylesheet&quot; href=&quot;https://cdn.jsdelivr.net/npm/@fortawesome/fontawesome-free@6.2.0/css/all.min.css&quot;/&gt;\n",
       "    &lt;link rel=&quot;stylesheet&quot; href=&quot;https://cdnjs.cloudflare.com/ajax/libs/Leaflet.awesome-markers/2.0.2/leaflet.awesome-markers.css&quot;/&gt;\n",
       "    &lt;link rel=&quot;stylesheet&quot; href=&quot;https://cdn.jsdelivr.net/gh/python-visualization/folium/folium/templates/leaflet.awesome.rotate.min.css&quot;/&gt;\n",
       "    \n",
       "            &lt;meta name=&quot;viewport&quot; content=&quot;width=device-width,\n",
       "                initial-scale=1.0, maximum-scale=1.0, user-scalable=no&quot; /&gt;\n",
       "            &lt;style&gt;\n",
       "                #map_86df2a7aa3cd2d4e6905691d1f366804 {\n",
       "                    position: relative;\n",
       "                    width: 100.0%;\n",
       "                    height: 100.0%;\n",
       "                    left: 0.0%;\n",
       "                    top: 0.0%;\n",
       "                }\n",
       "                .leaflet-container { font-size: 1rem; }\n",
       "            &lt;/style&gt;\n",
       "        \n",
       "&lt;/head&gt;\n",
       "&lt;body&gt;\n",
       "    \n",
       "    \n",
       "            &lt;div class=&quot;folium-map&quot; id=&quot;map_86df2a7aa3cd2d4e6905691d1f366804&quot; &gt;&lt;/div&gt;\n",
       "        \n",
       "&lt;/body&gt;\n",
       "&lt;script&gt;\n",
       "    \n",
       "    \n",
       "            var map_86df2a7aa3cd2d4e6905691d1f366804 = L.map(\n",
       "                &quot;map_86df2a7aa3cd2d4e6905691d1f366804&quot;,\n",
       "                {\n",
       "                    center: [-34.612372936931024, -58.440571899292834],\n",
       "                    crs: L.CRS.EPSG3857,\n",
       "                    zoom: 9,\n",
       "                    zoomControl: true,\n",
       "                    preferCanvas: false,\n",
       "                }\n",
       "            );\n",
       "            L.control.scale().addTo(map_86df2a7aa3cd2d4e6905691d1f366804);\n",
       "\n",
       "            \n",
       "\n",
       "        \n",
       "    \n",
       "            var tile_layer_9281581c95c2eba6eccd11aa997d0e0e = L.tileLayer(\n",
       "                &quot;https://{s}.basemaps.cartocdn.com/light_all/{z}/{x}/{y}{r}.png&quot;,\n",
       "                {&quot;attribution&quot;: &quot;\\u0026copy; \\u003ca href=\\&quot;https://www.openstreetmap.org/copyright\\&quot;\\u003eOpenStreetMap\\u003c/a\\u003e contributors \\u0026copy; \\u003ca href=\\&quot;https://carto.com/attributions\\&quot;\\u003eCARTO\\u003c/a\\u003e&quot;, &quot;detectRetina&quot;: false, &quot;maxNativeZoom&quot;: 20, &quot;maxZoom&quot;: 20, &quot;minZoom&quot;: 0, &quot;noWrap&quot;: false, &quot;opacity&quot;: 1, &quot;subdomains&quot;: &quot;abcd&quot;, &quot;tms&quot;: false}\n",
       "            );\n",
       "        \n",
       "    \n",
       "            tile_layer_9281581c95c2eba6eccd11aa997d0e0e.addTo(map_86df2a7aa3cd2d4e6905691d1f366804);\n",
       "        \n",
       "    \n",
       "        function geo_json_dd6e4e5a2efe869dd9ab950d104160d9_styler(feature) {\n",
       "            switch(feature.id) {\n",
       "                default:\n",
       "                    return {&quot;color&quot;: &quot;black&quot;, &quot;fillColor&quot;: &quot;gray&quot;, &quot;fillOpacity&quot;: 0.25, &quot;opacity&quot;: 0.2, &quot;weight&quot;: 1};\n",
       "            }\n",
       "        }\n",
       "\n",
       "        function geo_json_dd6e4e5a2efe869dd9ab950d104160d9_onEachFeature(feature, layer) {\n",
       "            layer.on({\n",
       "            });\n",
       "        };\n",
       "        var geo_json_dd6e4e5a2efe869dd9ab950d104160d9 = L.geoJson(null, {\n",
       "                onEachFeature: geo_json_dd6e4e5a2efe869dd9ab950d104160d9_onEachFeature,\n",
       "            \n",
       "                style: geo_json_dd6e4e5a2efe869dd9ab950d104160d9_styler,\n",
       "        });\n",
       "\n",
       "        function geo_json_dd6e4e5a2efe869dd9ab950d104160d9_add (data) {\n",
       "            geo_json_dd6e4e5a2efe869dd9ab950d104160d9\n",
       "                .addData(data);\n",
       "        }\n",
       "            geo_json_dd6e4e5a2efe869dd9ab950d104160d9_add({&quot;features&quot;: [{&quot;geometry&quot;: {&quot;coordinates&quot;: [[[-58.53151611470252, -34.685994060382804], [-58.53151611470252, -34.66669325685824], [-58.508046639758085, -34.66669325685824], [-58.508046639758085, -34.685994060382804], [-58.53151611470252, -34.685994060382804]]], &quot;type&quot;: &quot;Polygon&quot;}, &quot;id&quot;: &quot;0&quot;, &quot;type&quot;: &quot;Feature&quot;}], &quot;type&quot;: &quot;FeatureCollection&quot;});\n",
       "\n",
       "        \n",
       "    \n",
       "            geo_json_dd6e4e5a2efe869dd9ab950d104160d9.addTo(map_86df2a7aa3cd2d4e6905691d1f366804);\n",
       "        \n",
       "    \n",
       "        function geo_json_f5376811c491d42411f3cb14bf14c4c7_styler(feature) {\n",
       "            switch(feature.id) {\n",
       "                default:\n",
       "                    return {&quot;color&quot;: &quot;black&quot;, &quot;fillColor&quot;: &quot;gray&quot;, &quot;fillOpacity&quot;: 0.25, &quot;opacity&quot;: 0.2, &quot;weight&quot;: 1};\n",
       "            }\n",
       "        }\n",
       "\n",
       "        function geo_json_f5376811c491d42411f3cb14bf14c4c7_onEachFeature(feature, layer) {\n",
       "            layer.on({\n",
       "            });\n",
       "        };\n",
       "        var geo_json_f5376811c491d42411f3cb14bf14c4c7 = L.geoJson(null, {\n",
       "                onEachFeature: geo_json_f5376811c491d42411f3cb14bf14c4c7_onEachFeature,\n",
       "            \n",
       "                style: geo_json_f5376811c491d42411f3cb14bf14c4c7_styler,\n",
       "        });\n",
       "\n",
       "        function geo_json_f5376811c491d42411f3cb14bf14c4c7_add (data) {\n",
       "            geo_json_f5376811c491d42411f3cb14bf14c4c7\n",
       "                .addData(data);\n",
       "        }\n",
       "            geo_json_f5376811c491d42411f3cb14bf14c4c7_add({&quot;features&quot;: [{&quot;geometry&quot;: {&quot;coordinates&quot;: [[[-58.53151611470252, -34.66669325685824], [-58.53151611470252, -34.64738795587222], [-58.508046639758085, -34.64738795587222], [-58.508046639758085, -34.66669325685824], [-58.53151611470252, -34.66669325685824]]], &quot;type&quot;: &quot;Polygon&quot;}, &quot;id&quot;: &quot;0&quot;, &quot;type&quot;: &quot;Feature&quot;}], &quot;type&quot;: &quot;FeatureCollection&quot;});\n",
       "\n",
       "        \n",
       "    \n",
       "            geo_json_f5376811c491d42411f3cb14bf14c4c7.addTo(map_86df2a7aa3cd2d4e6905691d1f366804);\n",
       "        \n",
       "    \n",
       "        function geo_json_601f36a310549ef2ed0df99e6ee7202b_styler(feature) {\n",
       "            switch(feature.id) {\n",
       "                default:\n",
       "                    return {&quot;color&quot;: &quot;black&quot;, &quot;fillColor&quot;: &quot;gray&quot;, &quot;fillOpacity&quot;: 0.25, &quot;opacity&quot;: 0.2, &quot;weight&quot;: 1};\n",
       "            }\n",
       "        }\n",
       "\n",
       "        function geo_json_601f36a310549ef2ed0df99e6ee7202b_onEachFeature(feature, layer) {\n",
       "            layer.on({\n",
       "            });\n",
       "        };\n",
       "        var geo_json_601f36a310549ef2ed0df99e6ee7202b = L.geoJson(null, {\n",
       "                onEachFeature: geo_json_601f36a310549ef2ed0df99e6ee7202b_onEachFeature,\n",
       "            \n",
       "                style: geo_json_601f36a310549ef2ed0df99e6ee7202b_styler,\n",
       "        });\n",
       "\n",
       "        function geo_json_601f36a310549ef2ed0df99e6ee7202b_add (data) {\n",
       "            geo_json_601f36a310549ef2ed0df99e6ee7202b\n",
       "                .addData(data);\n",
       "        }\n",
       "            geo_json_601f36a310549ef2ed0df99e6ee7202b_add({&quot;features&quot;: [{&quot;geometry&quot;: {&quot;coordinates&quot;: [[[-58.53151611470252, -34.64738795587222], [-58.53151611470252, -34.628078158568975], [-58.508046639758085, -34.628078158568975], [-58.508046639758085, -34.64738795587222], [-58.53151611470252, -34.64738795587222]]], &quot;type&quot;: &quot;Polygon&quot;}, &quot;id&quot;: &quot;0&quot;, &quot;type&quot;: &quot;Feature&quot;}], &quot;type&quot;: &quot;FeatureCollection&quot;});\n",
       "\n",
       "        \n",
       "    \n",
       "            geo_json_601f36a310549ef2ed0df99e6ee7202b.addTo(map_86df2a7aa3cd2d4e6905691d1f366804);\n",
       "        \n",
       "    \n",
       "        function geo_json_c4eb5adcf019581c848b39c3c747bf11_styler(feature) {\n",
       "            switch(feature.id) {\n",
       "                default:\n",
       "                    return {&quot;color&quot;: &quot;black&quot;, &quot;fillColor&quot;: &quot;gray&quot;, &quot;fillOpacity&quot;: 0.25, &quot;opacity&quot;: 0.2, &quot;weight&quot;: 1};\n",
       "            }\n",
       "        }\n",
       "\n",
       "        function geo_json_c4eb5adcf019581c848b39c3c747bf11_onEachFeature(feature, layer) {\n",
       "            layer.on({\n",
       "            });\n",
       "        };\n",
       "        var geo_json_c4eb5adcf019581c848b39c3c747bf11 = L.geoJson(null, {\n",
       "                onEachFeature: geo_json_c4eb5adcf019581c848b39c3c747bf11_onEachFeature,\n",
       "            \n",
       "                style: geo_json_c4eb5adcf019581c848b39c3c747bf11_styler,\n",
       "        });\n",
       "\n",
       "        function geo_json_c4eb5adcf019581c848b39c3c747bf11_add (data) {\n",
       "            geo_json_c4eb5adcf019581c848b39c3c747bf11\n",
       "                .addData(data);\n",
       "        }\n",
       "            geo_json_c4eb5adcf019581c848b39c3c747bf11_add({&quot;features&quot;: [{&quot;geometry&quot;: {&quot;coordinates&quot;: [[[-58.53151611470252, -34.628078158568975], [-58.53151611470252, -34.608763866095046], [-58.508046639758085, -34.608763866095046], [-58.508046639758085, -34.628078158568975], [-58.53151611470252, -34.628078158568975]]], &quot;type&quot;: &quot;Polygon&quot;}, &quot;id&quot;: &quot;0&quot;, &quot;type&quot;: &quot;Feature&quot;}], &quot;type&quot;: &quot;FeatureCollection&quot;});\n",
       "\n",
       "        \n",
       "    \n",
       "            geo_json_c4eb5adcf019581c848b39c3c747bf11.addTo(map_86df2a7aa3cd2d4e6905691d1f366804);\n",
       "        \n",
       "    \n",
       "        function geo_json_ceab9fbcfec9df9a37100eca36b98d14_styler(feature) {\n",
       "            switch(feature.id) {\n",
       "                default:\n",
       "                    return {&quot;color&quot;: &quot;black&quot;, &quot;fillColor&quot;: &quot;gray&quot;, &quot;fillOpacity&quot;: 0.25, &quot;opacity&quot;: 0.2, &quot;weight&quot;: 1};\n",
       "            }\n",
       "        }\n",
       "\n",
       "        function geo_json_ceab9fbcfec9df9a37100eca36b98d14_onEachFeature(feature, layer) {\n",
       "            layer.on({\n",
       "            });\n",
       "        };\n",
       "        var geo_json_ceab9fbcfec9df9a37100eca36b98d14 = L.geoJson(null, {\n",
       "                onEachFeature: geo_json_ceab9fbcfec9df9a37100eca36b98d14_onEachFeature,\n",
       "            \n",
       "                style: geo_json_ceab9fbcfec9df9a37100eca36b98d14_styler,\n",
       "        });\n",
       "\n",
       "        function geo_json_ceab9fbcfec9df9a37100eca36b98d14_add (data) {\n",
       "            geo_json_ceab9fbcfec9df9a37100eca36b98d14\n",
       "                .addData(data);\n",
       "        }\n",
       "            geo_json_ceab9fbcfec9df9a37100eca36b98d14_add({&quot;features&quot;: [{&quot;geometry&quot;: {&quot;coordinates&quot;: [[[-58.53151611470252, -34.608763866095046], [-58.53151611470252, -34.58944507959928], [-58.508046639758085, -34.58944507959928], [-58.508046639758085, -34.608763866095046], [-58.53151611470252, -34.608763866095046]]], &quot;type&quot;: &quot;Polygon&quot;}, &quot;id&quot;: &quot;0&quot;, &quot;type&quot;: &quot;Feature&quot;}], &quot;type&quot;: &quot;FeatureCollection&quot;});\n",
       "\n",
       "        \n",
       "    \n",
       "            geo_json_ceab9fbcfec9df9a37100eca36b98d14.addTo(map_86df2a7aa3cd2d4e6905691d1f366804);\n",
       "        \n",
       "    \n",
       "        function geo_json_73eacc90c895f4f47daee290d61a56b9_styler(feature) {\n",
       "            switch(feature.id) {\n",
       "                default:\n",
       "                    return {&quot;color&quot;: &quot;black&quot;, &quot;fillColor&quot;: &quot;gray&quot;, &quot;fillOpacity&quot;: 0.25, &quot;opacity&quot;: 0.2, &quot;weight&quot;: 1};\n",
       "            }\n",
       "        }\n",
       "\n",
       "        function geo_json_73eacc90c895f4f47daee290d61a56b9_onEachFeature(feature, layer) {\n",
       "            layer.on({\n",
       "            });\n",
       "        };\n",
       "        var geo_json_73eacc90c895f4f47daee290d61a56b9 = L.geoJson(null, {\n",
       "                onEachFeature: geo_json_73eacc90c895f4f47daee290d61a56b9_onEachFeature,\n",
       "            \n",
       "                style: geo_json_73eacc90c895f4f47daee290d61a56b9_styler,\n",
       "        });\n",
       "\n",
       "        function geo_json_73eacc90c895f4f47daee290d61a56b9_add (data) {\n",
       "            geo_json_73eacc90c895f4f47daee290d61a56b9\n",
       "                .addData(data);\n",
       "        }\n",
       "            geo_json_73eacc90c895f4f47daee290d61a56b9_add({&quot;features&quot;: [{&quot;geometry&quot;: {&quot;coordinates&quot;: [[[-58.53151611470252, -34.58944507959928], [-58.53151611470252, -34.570121800232855], [-58.508046639758085, -34.570121800232855], [-58.508046639758085, -34.58944507959928], [-58.53151611470252, -34.58944507959928]]], &quot;type&quot;: &quot;Polygon&quot;}, &quot;id&quot;: &quot;0&quot;, &quot;type&quot;: &quot;Feature&quot;}], &quot;type&quot;: &quot;FeatureCollection&quot;});\n",
       "\n",
       "        \n",
       "    \n",
       "            geo_json_73eacc90c895f4f47daee290d61a56b9.addTo(map_86df2a7aa3cd2d4e6905691d1f366804);\n",
       "        \n",
       "    \n",
       "        function geo_json_60f451b7471ec2b987216ab578d612df_styler(feature) {\n",
       "            switch(feature.id) {\n",
       "                default:\n",
       "                    return {&quot;color&quot;: &quot;black&quot;, &quot;fillColor&quot;: &quot;gray&quot;, &quot;fillOpacity&quot;: 0.25, &quot;opacity&quot;: 0.2, &quot;weight&quot;: 1};\n",
       "            }\n",
       "        }\n",
       "\n",
       "        function geo_json_60f451b7471ec2b987216ab578d612df_onEachFeature(feature, layer) {\n",
       "            layer.on({\n",
       "            });\n",
       "        };\n",
       "        var geo_json_60f451b7471ec2b987216ab578d612df = L.geoJson(null, {\n",
       "                onEachFeature: geo_json_60f451b7471ec2b987216ab578d612df_onEachFeature,\n",
       "            \n",
       "                style: geo_json_60f451b7471ec2b987216ab578d612df_styler,\n",
       "        });\n",
       "\n",
       "        function geo_json_60f451b7471ec2b987216ab578d612df_add (data) {\n",
       "            geo_json_60f451b7471ec2b987216ab578d612df\n",
       "                .addData(data);\n",
       "        }\n",
       "            geo_json_60f451b7471ec2b987216ab578d612df_add({&quot;features&quot;: [{&quot;geometry&quot;: {&quot;coordinates&quot;: [[[-58.53151611470252, -34.570121800232855], [-58.53151611470252, -34.55079402914923], [-58.508046639758085, -34.55079402914923], [-58.508046639758085, -34.570121800232855], [-58.53151611470252, -34.570121800232855]]], &quot;type&quot;: &quot;Polygon&quot;}, &quot;id&quot;: &quot;0&quot;, &quot;type&quot;: &quot;Feature&quot;}], &quot;type&quot;: &quot;FeatureCollection&quot;});\n",
       "\n",
       "        \n",
       "    \n",
       "            geo_json_60f451b7471ec2b987216ab578d612df.addTo(map_86df2a7aa3cd2d4e6905691d1f366804);\n",
       "        \n",
       "    \n",
       "        function geo_json_e1a1448fe33df291ed8b2bf434a15dd5_styler(feature) {\n",
       "            switch(feature.id) {\n",
       "                default:\n",
       "                    return {&quot;color&quot;: &quot;black&quot;, &quot;fillColor&quot;: &quot;gray&quot;, &quot;fillOpacity&quot;: 0.25, &quot;opacity&quot;: 0.2, &quot;weight&quot;: 1};\n",
       "            }\n",
       "        }\n",
       "\n",
       "        function geo_json_e1a1448fe33df291ed8b2bf434a15dd5_onEachFeature(feature, layer) {\n",
       "            layer.on({\n",
       "            });\n",
       "        };\n",
       "        var geo_json_e1a1448fe33df291ed8b2bf434a15dd5 = L.geoJson(null, {\n",
       "                onEachFeature: geo_json_e1a1448fe33df291ed8b2bf434a15dd5_onEachFeature,\n",
       "            \n",
       "                style: geo_json_e1a1448fe33df291ed8b2bf434a15dd5_styler,\n",
       "        });\n",
       "\n",
       "        function geo_json_e1a1448fe33df291ed8b2bf434a15dd5_add (data) {\n",
       "            geo_json_e1a1448fe33df291ed8b2bf434a15dd5\n",
       "                .addData(data);\n",
       "        }\n",
       "            geo_json_e1a1448fe33df291ed8b2bf434a15dd5_add({&quot;features&quot;: [{&quot;geometry&quot;: {&quot;coordinates&quot;: [[[-58.508046639758085, -34.70529036530399], [-58.508046639758085, -34.685994060382804], [-58.48457716481365, -34.685994060382804], [-58.48457716481365, -34.70529036530399], [-58.508046639758085, -34.70529036530399]]], &quot;type&quot;: &quot;Polygon&quot;}, &quot;id&quot;: &quot;0&quot;, &quot;type&quot;: &quot;Feature&quot;}], &quot;type&quot;: &quot;FeatureCollection&quot;});\n",
       "\n",
       "        \n",
       "    \n",
       "            geo_json_e1a1448fe33df291ed8b2bf434a15dd5.addTo(map_86df2a7aa3cd2d4e6905691d1f366804);\n",
       "        \n",
       "    \n",
       "        function geo_json_4ecce03b55f429172ff127c0962590b0_styler(feature) {\n",
       "            switch(feature.id) {\n",
       "                default:\n",
       "                    return {&quot;color&quot;: &quot;black&quot;, &quot;fillColor&quot;: &quot;gray&quot;, &quot;fillOpacity&quot;: 0.25, &quot;opacity&quot;: 0.2, &quot;weight&quot;: 1};\n",
       "            }\n",
       "        }\n",
       "\n",
       "        function geo_json_4ecce03b55f429172ff127c0962590b0_onEachFeature(feature, layer) {\n",
       "            layer.on({\n",
       "            });\n",
       "        };\n",
       "        var geo_json_4ecce03b55f429172ff127c0962590b0 = L.geoJson(null, {\n",
       "                onEachFeature: geo_json_4ecce03b55f429172ff127c0962590b0_onEachFeature,\n",
       "            \n",
       "                style: geo_json_4ecce03b55f429172ff127c0962590b0_styler,\n",
       "        });\n",
       "\n",
       "        function geo_json_4ecce03b55f429172ff127c0962590b0_add (data) {\n",
       "            geo_json_4ecce03b55f429172ff127c0962590b0\n",
       "                .addData(data);\n",
       "        }\n",
       "            geo_json_4ecce03b55f429172ff127c0962590b0_add({&quot;features&quot;: [{&quot;geometry&quot;: {&quot;coordinates&quot;: [[[-58.508046639758085, -34.685994060382804], [-58.508046639758085, -34.66669325685824], [-58.48457716481365, -34.66669325685824], [-58.48457716481365, -34.685994060382804], [-58.508046639758085, -34.685994060382804]]], &quot;type&quot;: &quot;Polygon&quot;}, &quot;id&quot;: &quot;0&quot;, &quot;type&quot;: &quot;Feature&quot;}], &quot;type&quot;: &quot;FeatureCollection&quot;});\n",
       "\n",
       "        \n",
       "    \n",
       "            geo_json_4ecce03b55f429172ff127c0962590b0.addTo(map_86df2a7aa3cd2d4e6905691d1f366804);\n",
       "        \n",
       "    \n",
       "        function geo_json_2701006a1df35adf93104f2c71a6c214_styler(feature) {\n",
       "            switch(feature.id) {\n",
       "                default:\n",
       "                    return {&quot;color&quot;: &quot;black&quot;, &quot;fillColor&quot;: &quot;gray&quot;, &quot;fillOpacity&quot;: 0.25, &quot;opacity&quot;: 0.2, &quot;weight&quot;: 1};\n",
       "            }\n",
       "        }\n",
       "\n",
       "        function geo_json_2701006a1df35adf93104f2c71a6c214_onEachFeature(feature, layer) {\n",
       "            layer.on({\n",
       "            });\n",
       "        };\n",
       "        var geo_json_2701006a1df35adf93104f2c71a6c214 = L.geoJson(null, {\n",
       "                onEachFeature: geo_json_2701006a1df35adf93104f2c71a6c214_onEachFeature,\n",
       "            \n",
       "                style: geo_json_2701006a1df35adf93104f2c71a6c214_styler,\n",
       "        });\n",
       "\n",
       "        function geo_json_2701006a1df35adf93104f2c71a6c214_add (data) {\n",
       "            geo_json_2701006a1df35adf93104f2c71a6c214\n",
       "                .addData(data);\n",
       "        }\n",
       "            geo_json_2701006a1df35adf93104f2c71a6c214_add({&quot;features&quot;: [{&quot;geometry&quot;: {&quot;coordinates&quot;: [[[-58.508046639758085, -34.66669325685824], [-58.508046639758085, -34.64738795587222], [-58.48457716481365, -34.64738795587222], [-58.48457716481365, -34.66669325685824], [-58.508046639758085, -34.66669325685824]]], &quot;type&quot;: &quot;Polygon&quot;}, &quot;id&quot;: &quot;0&quot;, &quot;type&quot;: &quot;Feature&quot;}], &quot;type&quot;: &quot;FeatureCollection&quot;});\n",
       "\n",
       "        \n",
       "    \n",
       "            geo_json_2701006a1df35adf93104f2c71a6c214.addTo(map_86df2a7aa3cd2d4e6905691d1f366804);\n",
       "        \n",
       "    \n",
       "        function geo_json_fc57fe095774f4af0d0a2d1423724586_styler(feature) {\n",
       "            switch(feature.id) {\n",
       "                default:\n",
       "                    return {&quot;color&quot;: &quot;black&quot;, &quot;fillColor&quot;: &quot;gray&quot;, &quot;fillOpacity&quot;: 0.25, &quot;opacity&quot;: 0.2, &quot;weight&quot;: 1};\n",
       "            }\n",
       "        }\n",
       "\n",
       "        function geo_json_fc57fe095774f4af0d0a2d1423724586_onEachFeature(feature, layer) {\n",
       "            layer.on({\n",
       "            });\n",
       "        };\n",
       "        var geo_json_fc57fe095774f4af0d0a2d1423724586 = L.geoJson(null, {\n",
       "                onEachFeature: geo_json_fc57fe095774f4af0d0a2d1423724586_onEachFeature,\n",
       "            \n",
       "                style: geo_json_fc57fe095774f4af0d0a2d1423724586_styler,\n",
       "        });\n",
       "\n",
       "        function geo_json_fc57fe095774f4af0d0a2d1423724586_add (data) {\n",
       "            geo_json_fc57fe095774f4af0d0a2d1423724586\n",
       "                .addData(data);\n",
       "        }\n",
       "            geo_json_fc57fe095774f4af0d0a2d1423724586_add({&quot;features&quot;: [{&quot;geometry&quot;: {&quot;coordinates&quot;: [[[-58.508046639758085, -34.64738795587222], [-58.508046639758085, -34.628078158568975], [-58.48457716481365, -34.628078158568975], [-58.48457716481365, -34.64738795587222], [-58.508046639758085, -34.64738795587222]]], &quot;type&quot;: &quot;Polygon&quot;}, &quot;id&quot;: &quot;0&quot;, &quot;type&quot;: &quot;Feature&quot;}], &quot;type&quot;: &quot;FeatureCollection&quot;});\n",
       "\n",
       "        \n",
       "    \n",
       "            geo_json_fc57fe095774f4af0d0a2d1423724586.addTo(map_86df2a7aa3cd2d4e6905691d1f366804);\n",
       "        \n",
       "    \n",
       "        function geo_json_84aab11b1605460a2909b9920ec1a8b2_styler(feature) {\n",
       "            switch(feature.id) {\n",
       "                default:\n",
       "                    return {&quot;color&quot;: &quot;black&quot;, &quot;fillColor&quot;: &quot;gray&quot;, &quot;fillOpacity&quot;: 0.25, &quot;opacity&quot;: 0.2, &quot;weight&quot;: 1};\n",
       "            }\n",
       "        }\n",
       "\n",
       "        function geo_json_84aab11b1605460a2909b9920ec1a8b2_onEachFeature(feature, layer) {\n",
       "            layer.on({\n",
       "            });\n",
       "        };\n",
       "        var geo_json_84aab11b1605460a2909b9920ec1a8b2 = L.geoJson(null, {\n",
       "                onEachFeature: geo_json_84aab11b1605460a2909b9920ec1a8b2_onEachFeature,\n",
       "            \n",
       "                style: geo_json_84aab11b1605460a2909b9920ec1a8b2_styler,\n",
       "        });\n",
       "\n",
       "        function geo_json_84aab11b1605460a2909b9920ec1a8b2_add (data) {\n",
       "            geo_json_84aab11b1605460a2909b9920ec1a8b2\n",
       "                .addData(data);\n",
       "        }\n",
       "            geo_json_84aab11b1605460a2909b9920ec1a8b2_add({&quot;features&quot;: [{&quot;geometry&quot;: {&quot;coordinates&quot;: [[[-58.508046639758085, -34.628078158568975], [-58.508046639758085, -34.608763866095046], [-58.48457716481365, -34.608763866095046], [-58.48457716481365, -34.628078158568975], [-58.508046639758085, -34.628078158568975]]], &quot;type&quot;: &quot;Polygon&quot;}, &quot;id&quot;: &quot;0&quot;, &quot;type&quot;: &quot;Feature&quot;}], &quot;type&quot;: &quot;FeatureCollection&quot;});\n",
       "\n",
       "        \n",
       "    \n",
       "            geo_json_84aab11b1605460a2909b9920ec1a8b2.addTo(map_86df2a7aa3cd2d4e6905691d1f366804);\n",
       "        \n",
       "    \n",
       "        function geo_json_2a1fd79d45bccfe19bbb658a751dc72e_styler(feature) {\n",
       "            switch(feature.id) {\n",
       "                default:\n",
       "                    return {&quot;color&quot;: &quot;black&quot;, &quot;fillColor&quot;: &quot;gray&quot;, &quot;fillOpacity&quot;: 0.25, &quot;opacity&quot;: 0.2, &quot;weight&quot;: 1};\n",
       "            }\n",
       "        }\n",
       "\n",
       "        function geo_json_2a1fd79d45bccfe19bbb658a751dc72e_onEachFeature(feature, layer) {\n",
       "            layer.on({\n",
       "            });\n",
       "        };\n",
       "        var geo_json_2a1fd79d45bccfe19bbb658a751dc72e = L.geoJson(null, {\n",
       "                onEachFeature: geo_json_2a1fd79d45bccfe19bbb658a751dc72e_onEachFeature,\n",
       "            \n",
       "                style: geo_json_2a1fd79d45bccfe19bbb658a751dc72e_styler,\n",
       "        });\n",
       "\n",
       "        function geo_json_2a1fd79d45bccfe19bbb658a751dc72e_add (data) {\n",
       "            geo_json_2a1fd79d45bccfe19bbb658a751dc72e\n",
       "                .addData(data);\n",
       "        }\n",
       "            geo_json_2a1fd79d45bccfe19bbb658a751dc72e_add({&quot;features&quot;: [{&quot;geometry&quot;: {&quot;coordinates&quot;: [[[-58.508046639758085, -34.608763866095046], [-58.508046639758085, -34.58944507959928], [-58.48457716481365, -34.58944507959928], [-58.48457716481365, -34.608763866095046], [-58.508046639758085, -34.608763866095046]]], &quot;type&quot;: &quot;Polygon&quot;}, &quot;id&quot;: &quot;0&quot;, &quot;type&quot;: &quot;Feature&quot;}], &quot;type&quot;: &quot;FeatureCollection&quot;});\n",
       "\n",
       "        \n",
       "    \n",
       "            geo_json_2a1fd79d45bccfe19bbb658a751dc72e.addTo(map_86df2a7aa3cd2d4e6905691d1f366804);\n",
       "        \n",
       "    \n",
       "        function geo_json_d817cc724426b2083a720df5af88d65b_styler(feature) {\n",
       "            switch(feature.id) {\n",
       "                default:\n",
       "                    return {&quot;color&quot;: &quot;black&quot;, &quot;fillColor&quot;: &quot;gray&quot;, &quot;fillOpacity&quot;: 0.25, &quot;opacity&quot;: 0.2, &quot;weight&quot;: 1};\n",
       "            }\n",
       "        }\n",
       "\n",
       "        function geo_json_d817cc724426b2083a720df5af88d65b_onEachFeature(feature, layer) {\n",
       "            layer.on({\n",
       "            });\n",
       "        };\n",
       "        var geo_json_d817cc724426b2083a720df5af88d65b = L.geoJson(null, {\n",
       "                onEachFeature: geo_json_d817cc724426b2083a720df5af88d65b_onEachFeature,\n",
       "            \n",
       "                style: geo_json_d817cc724426b2083a720df5af88d65b_styler,\n",
       "        });\n",
       "\n",
       "        function geo_json_d817cc724426b2083a720df5af88d65b_add (data) {\n",
       "            geo_json_d817cc724426b2083a720df5af88d65b\n",
       "                .addData(data);\n",
       "        }\n",
       "            geo_json_d817cc724426b2083a720df5af88d65b_add({&quot;features&quot;: [{&quot;geometry&quot;: {&quot;coordinates&quot;: [[[-58.508046639758085, -34.58944507959928], [-58.508046639758085, -34.570121800232855], [-58.48457716481365, -34.570121800232855], [-58.48457716481365, -34.58944507959928], [-58.508046639758085, -34.58944507959928]]], &quot;type&quot;: &quot;Polygon&quot;}, &quot;id&quot;: &quot;0&quot;, &quot;type&quot;: &quot;Feature&quot;}], &quot;type&quot;: &quot;FeatureCollection&quot;});\n",
       "\n",
       "        \n",
       "    \n",
       "            geo_json_d817cc724426b2083a720df5af88d65b.addTo(map_86df2a7aa3cd2d4e6905691d1f366804);\n",
       "        \n",
       "    \n",
       "        function geo_json_5162b178049e40441d3057df93f9f050_styler(feature) {\n",
       "            switch(feature.id) {\n",
       "                default:\n",
       "                    return {&quot;color&quot;: &quot;black&quot;, &quot;fillColor&quot;: &quot;gray&quot;, &quot;fillOpacity&quot;: 0.25, &quot;opacity&quot;: 0.2, &quot;weight&quot;: 1};\n",
       "            }\n",
       "        }\n",
       "\n",
       "        function geo_json_5162b178049e40441d3057df93f9f050_onEachFeature(feature, layer) {\n",
       "            layer.on({\n",
       "            });\n",
       "        };\n",
       "        var geo_json_5162b178049e40441d3057df93f9f050 = L.geoJson(null, {\n",
       "                onEachFeature: geo_json_5162b178049e40441d3057df93f9f050_onEachFeature,\n",
       "            \n",
       "                style: geo_json_5162b178049e40441d3057df93f9f050_styler,\n",
       "        });\n",
       "\n",
       "        function geo_json_5162b178049e40441d3057df93f9f050_add (data) {\n",
       "            geo_json_5162b178049e40441d3057df93f9f050\n",
       "                .addData(data);\n",
       "        }\n",
       "            geo_json_5162b178049e40441d3057df93f9f050_add({&quot;features&quot;: [{&quot;geometry&quot;: {&quot;coordinates&quot;: [[[-58.508046639758085, -34.570121800232855], [-58.508046639758085, -34.55079402914923], [-58.48457716481365, -34.55079402914923], [-58.48457716481365, -34.570121800232855], [-58.508046639758085, -34.570121800232855]]], &quot;type&quot;: &quot;Polygon&quot;}, &quot;id&quot;: &quot;0&quot;, &quot;type&quot;: &quot;Feature&quot;}], &quot;type&quot;: &quot;FeatureCollection&quot;});\n",
       "\n",
       "        \n",
       "    \n",
       "            geo_json_5162b178049e40441d3057df93f9f050.addTo(map_86df2a7aa3cd2d4e6905691d1f366804);\n",
       "        \n",
       "    \n",
       "        function geo_json_c820eca0cc720fd0622d188176930b96_styler(feature) {\n",
       "            switch(feature.id) {\n",
       "                default:\n",
       "                    return {&quot;color&quot;: &quot;black&quot;, &quot;fillColor&quot;: &quot;gray&quot;, &quot;fillOpacity&quot;: 0.25, &quot;opacity&quot;: 0.2, &quot;weight&quot;: 1};\n",
       "            }\n",
       "        }\n",
       "\n",
       "        function geo_json_c820eca0cc720fd0622d188176930b96_onEachFeature(feature, layer) {\n",
       "            layer.on({\n",
       "            });\n",
       "        };\n",
       "        var geo_json_c820eca0cc720fd0622d188176930b96 = L.geoJson(null, {\n",
       "                onEachFeature: geo_json_c820eca0cc720fd0622d188176930b96_onEachFeature,\n",
       "            \n",
       "                style: geo_json_c820eca0cc720fd0622d188176930b96_styler,\n",
       "        });\n",
       "\n",
       "        function geo_json_c820eca0cc720fd0622d188176930b96_add (data) {\n",
       "            geo_json_c820eca0cc720fd0622d188176930b96\n",
       "                .addData(data);\n",
       "        }\n",
       "            geo_json_c820eca0cc720fd0622d188176930b96_add({&quot;features&quot;: [{&quot;geometry&quot;: {&quot;coordinates&quot;: [[[-58.508046639758085, -34.55079402914923], [-58.508046639758085, -34.53146176750418], [-58.48457716481365, -34.53146176750418], [-58.48457716481365, -34.55079402914923], [-58.508046639758085, -34.55079402914923]]], &quot;type&quot;: &quot;Polygon&quot;}, &quot;id&quot;: &quot;0&quot;, &quot;type&quot;: &quot;Feature&quot;}], &quot;type&quot;: &quot;FeatureCollection&quot;});\n",
       "\n",
       "        \n",
       "    \n",
       "            geo_json_c820eca0cc720fd0622d188176930b96.addTo(map_86df2a7aa3cd2d4e6905691d1f366804);\n",
       "        \n",
       "    \n",
       "        function geo_json_dfac3f22222b1a41f1922d3176416893_styler(feature) {\n",
       "            switch(feature.id) {\n",
       "                default:\n",
       "                    return {&quot;color&quot;: &quot;black&quot;, &quot;fillColor&quot;: &quot;gray&quot;, &quot;fillOpacity&quot;: 0.25, &quot;opacity&quot;: 0.2, &quot;weight&quot;: 1};\n",
       "            }\n",
       "        }\n",
       "\n",
       "        function geo_json_dfac3f22222b1a41f1922d3176416893_onEachFeature(feature, layer) {\n",
       "            layer.on({\n",
       "            });\n",
       "        };\n",
       "        var geo_json_dfac3f22222b1a41f1922d3176416893 = L.geoJson(null, {\n",
       "                onEachFeature: geo_json_dfac3f22222b1a41f1922d3176416893_onEachFeature,\n",
       "            \n",
       "                style: geo_json_dfac3f22222b1a41f1922d3176416893_styler,\n",
       "        });\n",
       "\n",
       "        function geo_json_dfac3f22222b1a41f1922d3176416893_add (data) {\n",
       "            geo_json_dfac3f22222b1a41f1922d3176416893\n",
       "                .addData(data);\n",
       "        }\n",
       "            geo_json_dfac3f22222b1a41f1922d3176416893_add({&quot;features&quot;: [{&quot;geometry&quot;: {&quot;coordinates&quot;: [[[-58.48457716481365, -34.70529036530399], [-58.48457716481365, -34.685994060382804], [-58.46110768986921, -34.685994060382804], [-58.46110768986921, -34.70529036530399], [-58.48457716481365, -34.70529036530399]]], &quot;type&quot;: &quot;Polygon&quot;}, &quot;id&quot;: &quot;0&quot;, &quot;type&quot;: &quot;Feature&quot;}], &quot;type&quot;: &quot;FeatureCollection&quot;});\n",
       "\n",
       "        \n",
       "    \n",
       "            geo_json_dfac3f22222b1a41f1922d3176416893.addTo(map_86df2a7aa3cd2d4e6905691d1f366804);\n",
       "        \n",
       "    \n",
       "        function geo_json_067b5d8d1317ac9c32fd113700020f83_styler(feature) {\n",
       "            switch(feature.id) {\n",
       "                default:\n",
       "                    return {&quot;color&quot;: &quot;black&quot;, &quot;fillColor&quot;: &quot;gray&quot;, &quot;fillOpacity&quot;: 0.25, &quot;opacity&quot;: 0.2, &quot;weight&quot;: 1};\n",
       "            }\n",
       "        }\n",
       "\n",
       "        function geo_json_067b5d8d1317ac9c32fd113700020f83_onEachFeature(feature, layer) {\n",
       "            layer.on({\n",
       "            });\n",
       "        };\n",
       "        var geo_json_067b5d8d1317ac9c32fd113700020f83 = L.geoJson(null, {\n",
       "                onEachFeature: geo_json_067b5d8d1317ac9c32fd113700020f83_onEachFeature,\n",
       "            \n",
       "                style: geo_json_067b5d8d1317ac9c32fd113700020f83_styler,\n",
       "        });\n",
       "\n",
       "        function geo_json_067b5d8d1317ac9c32fd113700020f83_add (data) {\n",
       "            geo_json_067b5d8d1317ac9c32fd113700020f83\n",
       "                .addData(data);\n",
       "        }\n",
       "            geo_json_067b5d8d1317ac9c32fd113700020f83_add({&quot;features&quot;: [{&quot;geometry&quot;: {&quot;coordinates&quot;: [[[-58.48457716481365, -34.685994060382804], [-58.48457716481365, -34.66669325685824], [-58.46110768986921, -34.66669325685824], [-58.46110768986921, -34.685994060382804], [-58.48457716481365, -34.685994060382804]]], &quot;type&quot;: &quot;Polygon&quot;}, &quot;id&quot;: &quot;0&quot;, &quot;type&quot;: &quot;Feature&quot;}], &quot;type&quot;: &quot;FeatureCollection&quot;});\n",
       "\n",
       "        \n",
       "    \n",
       "            geo_json_067b5d8d1317ac9c32fd113700020f83.addTo(map_86df2a7aa3cd2d4e6905691d1f366804);\n",
       "        \n",
       "    \n",
       "        function geo_json_a26f91c1ed579b5823d0eebb7c0ca311_styler(feature) {\n",
       "            switch(feature.id) {\n",
       "                default:\n",
       "                    return {&quot;color&quot;: &quot;black&quot;, &quot;fillColor&quot;: &quot;gray&quot;, &quot;fillOpacity&quot;: 0.25, &quot;opacity&quot;: 0.2, &quot;weight&quot;: 1};\n",
       "            }\n",
       "        }\n",
       "\n",
       "        function geo_json_a26f91c1ed579b5823d0eebb7c0ca311_onEachFeature(feature, layer) {\n",
       "            layer.on({\n",
       "            });\n",
       "        };\n",
       "        var geo_json_a26f91c1ed579b5823d0eebb7c0ca311 = L.geoJson(null, {\n",
       "                onEachFeature: geo_json_a26f91c1ed579b5823d0eebb7c0ca311_onEachFeature,\n",
       "            \n",
       "                style: geo_json_a26f91c1ed579b5823d0eebb7c0ca311_styler,\n",
       "        });\n",
       "\n",
       "        function geo_json_a26f91c1ed579b5823d0eebb7c0ca311_add (data) {\n",
       "            geo_json_a26f91c1ed579b5823d0eebb7c0ca311\n",
       "                .addData(data);\n",
       "        }\n",
       "            geo_json_a26f91c1ed579b5823d0eebb7c0ca311_add({&quot;features&quot;: [{&quot;geometry&quot;: {&quot;coordinates&quot;: [[[-58.48457716481365, -34.66669325685824], [-58.48457716481365, -34.64738795587222], [-58.46110768986921, -34.64738795587222], [-58.46110768986921, -34.66669325685824], [-58.48457716481365, -34.66669325685824]]], &quot;type&quot;: &quot;Polygon&quot;}, &quot;id&quot;: &quot;0&quot;, &quot;type&quot;: &quot;Feature&quot;}], &quot;type&quot;: &quot;FeatureCollection&quot;});\n",
       "\n",
       "        \n",
       "    \n",
       "            geo_json_a26f91c1ed579b5823d0eebb7c0ca311.addTo(map_86df2a7aa3cd2d4e6905691d1f366804);\n",
       "        \n",
       "    \n",
       "        function geo_json_276c533ad3ed02585f319fd224ffd39c_styler(feature) {\n",
       "            switch(feature.id) {\n",
       "                default:\n",
       "                    return {&quot;color&quot;: &quot;black&quot;, &quot;fillColor&quot;: &quot;gray&quot;, &quot;fillOpacity&quot;: 0.25, &quot;opacity&quot;: 0.2, &quot;weight&quot;: 1};\n",
       "            }\n",
       "        }\n",
       "\n",
       "        function geo_json_276c533ad3ed02585f319fd224ffd39c_onEachFeature(feature, layer) {\n",
       "            layer.on({\n",
       "            });\n",
       "        };\n",
       "        var geo_json_276c533ad3ed02585f319fd224ffd39c = L.geoJson(null, {\n",
       "                onEachFeature: geo_json_276c533ad3ed02585f319fd224ffd39c_onEachFeature,\n",
       "            \n",
       "                style: geo_json_276c533ad3ed02585f319fd224ffd39c_styler,\n",
       "        });\n",
       "\n",
       "        function geo_json_276c533ad3ed02585f319fd224ffd39c_add (data) {\n",
       "            geo_json_276c533ad3ed02585f319fd224ffd39c\n",
       "                .addData(data);\n",
       "        }\n",
       "            geo_json_276c533ad3ed02585f319fd224ffd39c_add({&quot;features&quot;: [{&quot;geometry&quot;: {&quot;coordinates&quot;: [[[-58.48457716481365, -34.64738795587222], [-58.48457716481365, -34.628078158568975], [-58.46110768986921, -34.628078158568975], [-58.46110768986921, -34.64738795587222], [-58.48457716481365, -34.64738795587222]]], &quot;type&quot;: &quot;Polygon&quot;}, &quot;id&quot;: &quot;0&quot;, &quot;type&quot;: &quot;Feature&quot;}], &quot;type&quot;: &quot;FeatureCollection&quot;});\n",
       "\n",
       "        \n",
       "    \n",
       "            geo_json_276c533ad3ed02585f319fd224ffd39c.addTo(map_86df2a7aa3cd2d4e6905691d1f366804);\n",
       "        \n",
       "    \n",
       "        function geo_json_2508f28d5179d0b74ba3aca3bece00c1_styler(feature) {\n",
       "            switch(feature.id) {\n",
       "                default:\n",
       "                    return {&quot;color&quot;: &quot;black&quot;, &quot;fillColor&quot;: &quot;gray&quot;, &quot;fillOpacity&quot;: 0.25, &quot;opacity&quot;: 0.2, &quot;weight&quot;: 1};\n",
       "            }\n",
       "        }\n",
       "\n",
       "        function geo_json_2508f28d5179d0b74ba3aca3bece00c1_onEachFeature(feature, layer) {\n",
       "            layer.on({\n",
       "            });\n",
       "        };\n",
       "        var geo_json_2508f28d5179d0b74ba3aca3bece00c1 = L.geoJson(null, {\n",
       "                onEachFeature: geo_json_2508f28d5179d0b74ba3aca3bece00c1_onEachFeature,\n",
       "            \n",
       "                style: geo_json_2508f28d5179d0b74ba3aca3bece00c1_styler,\n",
       "        });\n",
       "\n",
       "        function geo_json_2508f28d5179d0b74ba3aca3bece00c1_add (data) {\n",
       "            geo_json_2508f28d5179d0b74ba3aca3bece00c1\n",
       "                .addData(data);\n",
       "        }\n",
       "            geo_json_2508f28d5179d0b74ba3aca3bece00c1_add({&quot;features&quot;: [{&quot;geometry&quot;: {&quot;coordinates&quot;: [[[-58.48457716481365, -34.628078158568975], [-58.48457716481365, -34.608763866095046], [-58.46110768986921, -34.608763866095046], [-58.46110768986921, -34.628078158568975], [-58.48457716481365, -34.628078158568975]]], &quot;type&quot;: &quot;Polygon&quot;}, &quot;id&quot;: &quot;0&quot;, &quot;type&quot;: &quot;Feature&quot;}], &quot;type&quot;: &quot;FeatureCollection&quot;});\n",
       "\n",
       "        \n",
       "    \n",
       "            geo_json_2508f28d5179d0b74ba3aca3bece00c1.addTo(map_86df2a7aa3cd2d4e6905691d1f366804);\n",
       "        \n",
       "    \n",
       "        function geo_json_ec17142e8d9f03a06fdcc4de28cd5d00_styler(feature) {\n",
       "            switch(feature.id) {\n",
       "                default:\n",
       "                    return {&quot;color&quot;: &quot;black&quot;, &quot;fillColor&quot;: &quot;gray&quot;, &quot;fillOpacity&quot;: 0.25, &quot;opacity&quot;: 0.2, &quot;weight&quot;: 1};\n",
       "            }\n",
       "        }\n",
       "\n",
       "        function geo_json_ec17142e8d9f03a06fdcc4de28cd5d00_onEachFeature(feature, layer) {\n",
       "            layer.on({\n",
       "            });\n",
       "        };\n",
       "        var geo_json_ec17142e8d9f03a06fdcc4de28cd5d00 = L.geoJson(null, {\n",
       "                onEachFeature: geo_json_ec17142e8d9f03a06fdcc4de28cd5d00_onEachFeature,\n",
       "            \n",
       "                style: geo_json_ec17142e8d9f03a06fdcc4de28cd5d00_styler,\n",
       "        });\n",
       "\n",
       "        function geo_json_ec17142e8d9f03a06fdcc4de28cd5d00_add (data) {\n",
       "            geo_json_ec17142e8d9f03a06fdcc4de28cd5d00\n",
       "                .addData(data);\n",
       "        }\n",
       "            geo_json_ec17142e8d9f03a06fdcc4de28cd5d00_add({&quot;features&quot;: [{&quot;geometry&quot;: {&quot;coordinates&quot;: [[[-58.48457716481365, -34.608763866095046], [-58.48457716481365, -34.58944507959928], [-58.46110768986921, -34.58944507959928], [-58.46110768986921, -34.608763866095046], [-58.48457716481365, -34.608763866095046]]], &quot;type&quot;: &quot;Polygon&quot;}, &quot;id&quot;: &quot;0&quot;, &quot;type&quot;: &quot;Feature&quot;}], &quot;type&quot;: &quot;FeatureCollection&quot;});\n",
       "\n",
       "        \n",
       "    \n",
       "            geo_json_ec17142e8d9f03a06fdcc4de28cd5d00.addTo(map_86df2a7aa3cd2d4e6905691d1f366804);\n",
       "        \n",
       "    \n",
       "        function geo_json_2af7dab921ee44afef89493b9c1cdeab_styler(feature) {\n",
       "            switch(feature.id) {\n",
       "                default:\n",
       "                    return {&quot;color&quot;: &quot;black&quot;, &quot;fillColor&quot;: &quot;gray&quot;, &quot;fillOpacity&quot;: 0.25, &quot;opacity&quot;: 0.2, &quot;weight&quot;: 1};\n",
       "            }\n",
       "        }\n",
       "\n",
       "        function geo_json_2af7dab921ee44afef89493b9c1cdeab_onEachFeature(feature, layer) {\n",
       "            layer.on({\n",
       "            });\n",
       "        };\n",
       "        var geo_json_2af7dab921ee44afef89493b9c1cdeab = L.geoJson(null, {\n",
       "                onEachFeature: geo_json_2af7dab921ee44afef89493b9c1cdeab_onEachFeature,\n",
       "            \n",
       "                style: geo_json_2af7dab921ee44afef89493b9c1cdeab_styler,\n",
       "        });\n",
       "\n",
       "        function geo_json_2af7dab921ee44afef89493b9c1cdeab_add (data) {\n",
       "            geo_json_2af7dab921ee44afef89493b9c1cdeab\n",
       "                .addData(data);\n",
       "        }\n",
       "            geo_json_2af7dab921ee44afef89493b9c1cdeab_add({&quot;features&quot;: [{&quot;geometry&quot;: {&quot;coordinates&quot;: [[[-58.48457716481365, -34.58944507959928], [-58.48457716481365, -34.570121800232855], [-58.46110768986921, -34.570121800232855], [-58.46110768986921, -34.58944507959928], [-58.48457716481365, -34.58944507959928]]], &quot;type&quot;: &quot;Polygon&quot;}, &quot;id&quot;: &quot;0&quot;, &quot;type&quot;: &quot;Feature&quot;}], &quot;type&quot;: &quot;FeatureCollection&quot;});\n",
       "\n",
       "        \n",
       "    \n",
       "            geo_json_2af7dab921ee44afef89493b9c1cdeab.addTo(map_86df2a7aa3cd2d4e6905691d1f366804);\n",
       "        \n",
       "    \n",
       "        function geo_json_a3091f4a767ca58c9d77144c095e04ac_styler(feature) {\n",
       "            switch(feature.id) {\n",
       "                default:\n",
       "                    return {&quot;color&quot;: &quot;black&quot;, &quot;fillColor&quot;: &quot;gray&quot;, &quot;fillOpacity&quot;: 0.25, &quot;opacity&quot;: 0.2, &quot;weight&quot;: 1};\n",
       "            }\n",
       "        }\n",
       "\n",
       "        function geo_json_a3091f4a767ca58c9d77144c095e04ac_onEachFeature(feature, layer) {\n",
       "            layer.on({\n",
       "            });\n",
       "        };\n",
       "        var geo_json_a3091f4a767ca58c9d77144c095e04ac = L.geoJson(null, {\n",
       "                onEachFeature: geo_json_a3091f4a767ca58c9d77144c095e04ac_onEachFeature,\n",
       "            \n",
       "                style: geo_json_a3091f4a767ca58c9d77144c095e04ac_styler,\n",
       "        });\n",
       "\n",
       "        function geo_json_a3091f4a767ca58c9d77144c095e04ac_add (data) {\n",
       "            geo_json_a3091f4a767ca58c9d77144c095e04ac\n",
       "                .addData(data);\n",
       "        }\n",
       "            geo_json_a3091f4a767ca58c9d77144c095e04ac_add({&quot;features&quot;: [{&quot;geometry&quot;: {&quot;coordinates&quot;: [[[-58.48457716481365, -34.570121800232855], [-58.48457716481365, -34.55079402914923], [-58.46110768986921, -34.55079402914923], [-58.46110768986921, -34.570121800232855], [-58.48457716481365, -34.570121800232855]]], &quot;type&quot;: &quot;Polygon&quot;}, &quot;id&quot;: &quot;0&quot;, &quot;type&quot;: &quot;Feature&quot;}], &quot;type&quot;: &quot;FeatureCollection&quot;});\n",
       "\n",
       "        \n",
       "    \n",
       "            geo_json_a3091f4a767ca58c9d77144c095e04ac.addTo(map_86df2a7aa3cd2d4e6905691d1f366804);\n",
       "        \n",
       "    \n",
       "        function geo_json_b2aa7c32f5cad962e5e13938e01bd6e8_styler(feature) {\n",
       "            switch(feature.id) {\n",
       "                default:\n",
       "                    return {&quot;color&quot;: &quot;black&quot;, &quot;fillColor&quot;: &quot;gray&quot;, &quot;fillOpacity&quot;: 0.25, &quot;opacity&quot;: 0.2, &quot;weight&quot;: 1};\n",
       "            }\n",
       "        }\n",
       "\n",
       "        function geo_json_b2aa7c32f5cad962e5e13938e01bd6e8_onEachFeature(feature, layer) {\n",
       "            layer.on({\n",
       "            });\n",
       "        };\n",
       "        var geo_json_b2aa7c32f5cad962e5e13938e01bd6e8 = L.geoJson(null, {\n",
       "                onEachFeature: geo_json_b2aa7c32f5cad962e5e13938e01bd6e8_onEachFeature,\n",
       "            \n",
       "                style: geo_json_b2aa7c32f5cad962e5e13938e01bd6e8_styler,\n",
       "        });\n",
       "\n",
       "        function geo_json_b2aa7c32f5cad962e5e13938e01bd6e8_add (data) {\n",
       "            geo_json_b2aa7c32f5cad962e5e13938e01bd6e8\n",
       "                .addData(data);\n",
       "        }\n",
       "            geo_json_b2aa7c32f5cad962e5e13938e01bd6e8_add({&quot;features&quot;: [{&quot;geometry&quot;: {&quot;coordinates&quot;: [[[-58.48457716481365, -34.55079402914923], [-58.48457716481365, -34.53146176750418], [-58.46110768986921, -34.53146176750418], [-58.46110768986921, -34.55079402914923], [-58.48457716481365, -34.55079402914923]]], &quot;type&quot;: &quot;Polygon&quot;}, &quot;id&quot;: &quot;0&quot;, &quot;type&quot;: &quot;Feature&quot;}], &quot;type&quot;: &quot;FeatureCollection&quot;});\n",
       "\n",
       "        \n",
       "    \n",
       "            geo_json_b2aa7c32f5cad962e5e13938e01bd6e8.addTo(map_86df2a7aa3cd2d4e6905691d1f366804);\n",
       "        \n",
       "    \n",
       "        function geo_json_9393432c6988216d6978726d21504229_styler(feature) {\n",
       "            switch(feature.id) {\n",
       "                default:\n",
       "                    return {&quot;color&quot;: &quot;black&quot;, &quot;fillColor&quot;: &quot;gray&quot;, &quot;fillOpacity&quot;: 0.25, &quot;opacity&quot;: 0.2, &quot;weight&quot;: 1};\n",
       "            }\n",
       "        }\n",
       "\n",
       "        function geo_json_9393432c6988216d6978726d21504229_onEachFeature(feature, layer) {\n",
       "            layer.on({\n",
       "            });\n",
       "        };\n",
       "        var geo_json_9393432c6988216d6978726d21504229 = L.geoJson(null, {\n",
       "                onEachFeature: geo_json_9393432c6988216d6978726d21504229_onEachFeature,\n",
       "            \n",
       "                style: geo_json_9393432c6988216d6978726d21504229_styler,\n",
       "        });\n",
       "\n",
       "        function geo_json_9393432c6988216d6978726d21504229_add (data) {\n",
       "            geo_json_9393432c6988216d6978726d21504229\n",
       "                .addData(data);\n",
       "        }\n",
       "            geo_json_9393432c6988216d6978726d21504229_add({&quot;features&quot;: [{&quot;geometry&quot;: {&quot;coordinates&quot;: [[[-58.48457716481365, -34.53146176750418], [-58.48457716481365, -34.51212501645583], [-58.46110768986921, -34.51212501645583], [-58.46110768986921, -34.53146176750418], [-58.48457716481365, -34.53146176750418]]], &quot;type&quot;: &quot;Polygon&quot;}, &quot;id&quot;: &quot;0&quot;, &quot;type&quot;: &quot;Feature&quot;}], &quot;type&quot;: &quot;FeatureCollection&quot;});\n",
       "\n",
       "        \n",
       "    \n",
       "            geo_json_9393432c6988216d6978726d21504229.addTo(map_86df2a7aa3cd2d4e6905691d1f366804);\n",
       "        \n",
       "    \n",
       "        function geo_json_4ebb5f1bd208a8a0b33af45f9b0f4d1f_styler(feature) {\n",
       "            switch(feature.id) {\n",
       "                default:\n",
       "                    return {&quot;color&quot;: &quot;black&quot;, &quot;fillColor&quot;: &quot;gray&quot;, &quot;fillOpacity&quot;: 0.25, &quot;opacity&quot;: 0.2, &quot;weight&quot;: 1};\n",
       "            }\n",
       "        }\n",
       "\n",
       "        function geo_json_4ebb5f1bd208a8a0b33af45f9b0f4d1f_onEachFeature(feature, layer) {\n",
       "            layer.on({\n",
       "            });\n",
       "        };\n",
       "        var geo_json_4ebb5f1bd208a8a0b33af45f9b0f4d1f = L.geoJson(null, {\n",
       "                onEachFeature: geo_json_4ebb5f1bd208a8a0b33af45f9b0f4d1f_onEachFeature,\n",
       "            \n",
       "                style: geo_json_4ebb5f1bd208a8a0b33af45f9b0f4d1f_styler,\n",
       "        });\n",
       "\n",
       "        function geo_json_4ebb5f1bd208a8a0b33af45f9b0f4d1f_add (data) {\n",
       "            geo_json_4ebb5f1bd208a8a0b33af45f9b0f4d1f\n",
       "                .addData(data);\n",
       "        }\n",
       "            geo_json_4ebb5f1bd208a8a0b33af45f9b0f4d1f_add({&quot;features&quot;: [{&quot;geometry&quot;: {&quot;coordinates&quot;: [[[-58.46110768986921, -34.70529036530399], [-58.46110768986921, -34.685994060382804], [-58.437638214924775, -34.685994060382804], [-58.437638214924775, -34.70529036530399], [-58.46110768986921, -34.70529036530399]]], &quot;type&quot;: &quot;Polygon&quot;}, &quot;id&quot;: &quot;0&quot;, &quot;type&quot;: &quot;Feature&quot;}], &quot;type&quot;: &quot;FeatureCollection&quot;});\n",
       "\n",
       "        \n",
       "    \n",
       "            geo_json_4ebb5f1bd208a8a0b33af45f9b0f4d1f.addTo(map_86df2a7aa3cd2d4e6905691d1f366804);\n",
       "        \n",
       "    \n",
       "        function geo_json_d78c0a307243393a43ee77b30e2975da_styler(feature) {\n",
       "            switch(feature.id) {\n",
       "                default:\n",
       "                    return {&quot;color&quot;: &quot;black&quot;, &quot;fillColor&quot;: &quot;gray&quot;, &quot;fillOpacity&quot;: 0.25, &quot;opacity&quot;: 0.2, &quot;weight&quot;: 1};\n",
       "            }\n",
       "        }\n",
       "\n",
       "        function geo_json_d78c0a307243393a43ee77b30e2975da_onEachFeature(feature, layer) {\n",
       "            layer.on({\n",
       "            });\n",
       "        };\n",
       "        var geo_json_d78c0a307243393a43ee77b30e2975da = L.geoJson(null, {\n",
       "                onEachFeature: geo_json_d78c0a307243393a43ee77b30e2975da_onEachFeature,\n",
       "            \n",
       "                style: geo_json_d78c0a307243393a43ee77b30e2975da_styler,\n",
       "        });\n",
       "\n",
       "        function geo_json_d78c0a307243393a43ee77b30e2975da_add (data) {\n",
       "            geo_json_d78c0a307243393a43ee77b30e2975da\n",
       "                .addData(data);\n",
       "        }\n",
       "            geo_json_d78c0a307243393a43ee77b30e2975da_add({&quot;features&quot;: [{&quot;geometry&quot;: {&quot;coordinates&quot;: [[[-58.46110768986921, -34.685994060382804], [-58.46110768986921, -34.66669325685824], [-58.437638214924775, -34.66669325685824], [-58.437638214924775, -34.685994060382804], [-58.46110768986921, -34.685994060382804]]], &quot;type&quot;: &quot;Polygon&quot;}, &quot;id&quot;: &quot;0&quot;, &quot;type&quot;: &quot;Feature&quot;}], &quot;type&quot;: &quot;FeatureCollection&quot;});\n",
       "\n",
       "        \n",
       "    \n",
       "            geo_json_d78c0a307243393a43ee77b30e2975da.addTo(map_86df2a7aa3cd2d4e6905691d1f366804);\n",
       "        \n",
       "    \n",
       "        function geo_json_c178623f7fa90c4348bcf86f0e87be2e_styler(feature) {\n",
       "            switch(feature.id) {\n",
       "                default:\n",
       "                    return {&quot;color&quot;: &quot;black&quot;, &quot;fillColor&quot;: &quot;gray&quot;, &quot;fillOpacity&quot;: 0.25, &quot;opacity&quot;: 0.2, &quot;weight&quot;: 1};\n",
       "            }\n",
       "        }\n",
       "\n",
       "        function geo_json_c178623f7fa90c4348bcf86f0e87be2e_onEachFeature(feature, layer) {\n",
       "            layer.on({\n",
       "            });\n",
       "        };\n",
       "        var geo_json_c178623f7fa90c4348bcf86f0e87be2e = L.geoJson(null, {\n",
       "                onEachFeature: geo_json_c178623f7fa90c4348bcf86f0e87be2e_onEachFeature,\n",
       "            \n",
       "                style: geo_json_c178623f7fa90c4348bcf86f0e87be2e_styler,\n",
       "        });\n",
       "\n",
       "        function geo_json_c178623f7fa90c4348bcf86f0e87be2e_add (data) {\n",
       "            geo_json_c178623f7fa90c4348bcf86f0e87be2e\n",
       "                .addData(data);\n",
       "        }\n",
       "            geo_json_c178623f7fa90c4348bcf86f0e87be2e_add({&quot;features&quot;: [{&quot;geometry&quot;: {&quot;coordinates&quot;: [[[-58.46110768986921, -34.66669325685824], [-58.46110768986921, -34.64738795587222], [-58.437638214924775, -34.64738795587222], [-58.437638214924775, -34.66669325685824], [-58.46110768986921, -34.66669325685824]]], &quot;type&quot;: &quot;Polygon&quot;}, &quot;id&quot;: &quot;0&quot;, &quot;type&quot;: &quot;Feature&quot;}], &quot;type&quot;: &quot;FeatureCollection&quot;});\n",
       "\n",
       "        \n",
       "    \n",
       "            geo_json_c178623f7fa90c4348bcf86f0e87be2e.addTo(map_86df2a7aa3cd2d4e6905691d1f366804);\n",
       "        \n",
       "    \n",
       "        function geo_json_155ef3dae1420fb393a6e687e3546a28_styler(feature) {\n",
       "            switch(feature.id) {\n",
       "                default:\n",
       "                    return {&quot;color&quot;: &quot;black&quot;, &quot;fillColor&quot;: &quot;gray&quot;, &quot;fillOpacity&quot;: 0.25, &quot;opacity&quot;: 0.2, &quot;weight&quot;: 1};\n",
       "            }\n",
       "        }\n",
       "\n",
       "        function geo_json_155ef3dae1420fb393a6e687e3546a28_onEachFeature(feature, layer) {\n",
       "            layer.on({\n",
       "            });\n",
       "        };\n",
       "        var geo_json_155ef3dae1420fb393a6e687e3546a28 = L.geoJson(null, {\n",
       "                onEachFeature: geo_json_155ef3dae1420fb393a6e687e3546a28_onEachFeature,\n",
       "            \n",
       "                style: geo_json_155ef3dae1420fb393a6e687e3546a28_styler,\n",
       "        });\n",
       "\n",
       "        function geo_json_155ef3dae1420fb393a6e687e3546a28_add (data) {\n",
       "            geo_json_155ef3dae1420fb393a6e687e3546a28\n",
       "                .addData(data);\n",
       "        }\n",
       "            geo_json_155ef3dae1420fb393a6e687e3546a28_add({&quot;features&quot;: [{&quot;geometry&quot;: {&quot;coordinates&quot;: [[[-58.46110768986921, -34.64738795587222], [-58.46110768986921, -34.628078158568975], [-58.437638214924775, -34.628078158568975], [-58.437638214924775, -34.64738795587222], [-58.46110768986921, -34.64738795587222]]], &quot;type&quot;: &quot;Polygon&quot;}, &quot;id&quot;: &quot;0&quot;, &quot;type&quot;: &quot;Feature&quot;}], &quot;type&quot;: &quot;FeatureCollection&quot;});\n",
       "\n",
       "        \n",
       "    \n",
       "            geo_json_155ef3dae1420fb393a6e687e3546a28.addTo(map_86df2a7aa3cd2d4e6905691d1f366804);\n",
       "        \n",
       "    \n",
       "        function geo_json_9d4b38daaabb800a87a2d1edf95eff76_styler(feature) {\n",
       "            switch(feature.id) {\n",
       "                default:\n",
       "                    return {&quot;color&quot;: &quot;black&quot;, &quot;fillColor&quot;: &quot;gray&quot;, &quot;fillOpacity&quot;: 0.25, &quot;opacity&quot;: 0.2, &quot;weight&quot;: 1};\n",
       "            }\n",
       "        }\n",
       "\n",
       "        function geo_json_9d4b38daaabb800a87a2d1edf95eff76_onEachFeature(feature, layer) {\n",
       "            layer.on({\n",
       "            });\n",
       "        };\n",
       "        var geo_json_9d4b38daaabb800a87a2d1edf95eff76 = L.geoJson(null, {\n",
       "                onEachFeature: geo_json_9d4b38daaabb800a87a2d1edf95eff76_onEachFeature,\n",
       "            \n",
       "                style: geo_json_9d4b38daaabb800a87a2d1edf95eff76_styler,\n",
       "        });\n",
       "\n",
       "        function geo_json_9d4b38daaabb800a87a2d1edf95eff76_add (data) {\n",
       "            geo_json_9d4b38daaabb800a87a2d1edf95eff76\n",
       "                .addData(data);\n",
       "        }\n",
       "            geo_json_9d4b38daaabb800a87a2d1edf95eff76_add({&quot;features&quot;: [{&quot;geometry&quot;: {&quot;coordinates&quot;: [[[-58.46110768986921, -34.628078158568975], [-58.46110768986921, -34.608763866095046], [-58.437638214924775, -34.608763866095046], [-58.437638214924775, -34.628078158568975], [-58.46110768986921, -34.628078158568975]]], &quot;type&quot;: &quot;Polygon&quot;}, &quot;id&quot;: &quot;0&quot;, &quot;type&quot;: &quot;Feature&quot;}], &quot;type&quot;: &quot;FeatureCollection&quot;});\n",
       "\n",
       "        \n",
       "    \n",
       "            geo_json_9d4b38daaabb800a87a2d1edf95eff76.addTo(map_86df2a7aa3cd2d4e6905691d1f366804);\n",
       "        \n",
       "    \n",
       "        function geo_json_2cfd3c7cc2b064701981b346650eb05e_styler(feature) {\n",
       "            switch(feature.id) {\n",
       "                default:\n",
       "                    return {&quot;color&quot;: &quot;black&quot;, &quot;fillColor&quot;: &quot;gray&quot;, &quot;fillOpacity&quot;: 0.25, &quot;opacity&quot;: 0.2, &quot;weight&quot;: 1};\n",
       "            }\n",
       "        }\n",
       "\n",
       "        function geo_json_2cfd3c7cc2b064701981b346650eb05e_onEachFeature(feature, layer) {\n",
       "            layer.on({\n",
       "            });\n",
       "        };\n",
       "        var geo_json_2cfd3c7cc2b064701981b346650eb05e = L.geoJson(null, {\n",
       "                onEachFeature: geo_json_2cfd3c7cc2b064701981b346650eb05e_onEachFeature,\n",
       "            \n",
       "                style: geo_json_2cfd3c7cc2b064701981b346650eb05e_styler,\n",
       "        });\n",
       "\n",
       "        function geo_json_2cfd3c7cc2b064701981b346650eb05e_add (data) {\n",
       "            geo_json_2cfd3c7cc2b064701981b346650eb05e\n",
       "                .addData(data);\n",
       "        }\n",
       "            geo_json_2cfd3c7cc2b064701981b346650eb05e_add({&quot;features&quot;: [{&quot;geometry&quot;: {&quot;coordinates&quot;: [[[-58.46110768986921, -34.608763866095046], [-58.46110768986921, -34.58944507959928], [-58.437638214924775, -34.58944507959928], [-58.437638214924775, -34.608763866095046], [-58.46110768986921, -34.608763866095046]]], &quot;type&quot;: &quot;Polygon&quot;}, &quot;id&quot;: &quot;0&quot;, &quot;type&quot;: &quot;Feature&quot;}], &quot;type&quot;: &quot;FeatureCollection&quot;});\n",
       "\n",
       "        \n",
       "    \n",
       "            geo_json_2cfd3c7cc2b064701981b346650eb05e.addTo(map_86df2a7aa3cd2d4e6905691d1f366804);\n",
       "        \n",
       "    \n",
       "        function geo_json_c10d36d3cba4006d361b84ea787619ac_styler(feature) {\n",
       "            switch(feature.id) {\n",
       "                default:\n",
       "                    return {&quot;color&quot;: &quot;black&quot;, &quot;fillColor&quot;: &quot;gray&quot;, &quot;fillOpacity&quot;: 0.25, &quot;opacity&quot;: 0.2, &quot;weight&quot;: 1};\n",
       "            }\n",
       "        }\n",
       "\n",
       "        function geo_json_c10d36d3cba4006d361b84ea787619ac_onEachFeature(feature, layer) {\n",
       "            layer.on({\n",
       "            });\n",
       "        };\n",
       "        var geo_json_c10d36d3cba4006d361b84ea787619ac = L.geoJson(null, {\n",
       "                onEachFeature: geo_json_c10d36d3cba4006d361b84ea787619ac_onEachFeature,\n",
       "            \n",
       "                style: geo_json_c10d36d3cba4006d361b84ea787619ac_styler,\n",
       "        });\n",
       "\n",
       "        function geo_json_c10d36d3cba4006d361b84ea787619ac_add (data) {\n",
       "            geo_json_c10d36d3cba4006d361b84ea787619ac\n",
       "                .addData(data);\n",
       "        }\n",
       "            geo_json_c10d36d3cba4006d361b84ea787619ac_add({&quot;features&quot;: [{&quot;geometry&quot;: {&quot;coordinates&quot;: [[[-58.46110768986921, -34.58944507959928], [-58.46110768986921, -34.570121800232855], [-58.437638214924775, -34.570121800232855], [-58.437638214924775, -34.58944507959928], [-58.46110768986921, -34.58944507959928]]], &quot;type&quot;: &quot;Polygon&quot;}, &quot;id&quot;: &quot;0&quot;, &quot;type&quot;: &quot;Feature&quot;}], &quot;type&quot;: &quot;FeatureCollection&quot;});\n",
       "\n",
       "        \n",
       "    \n",
       "            geo_json_c10d36d3cba4006d361b84ea787619ac.addTo(map_86df2a7aa3cd2d4e6905691d1f366804);\n",
       "        \n",
       "    \n",
       "        function geo_json_95909562ab98df3b0364f374b077f19f_styler(feature) {\n",
       "            switch(feature.id) {\n",
       "                default:\n",
       "                    return {&quot;color&quot;: &quot;black&quot;, &quot;fillColor&quot;: &quot;gray&quot;, &quot;fillOpacity&quot;: 0.25, &quot;opacity&quot;: 0.2, &quot;weight&quot;: 1};\n",
       "            }\n",
       "        }\n",
       "\n",
       "        function geo_json_95909562ab98df3b0364f374b077f19f_onEachFeature(feature, layer) {\n",
       "            layer.on({\n",
       "            });\n",
       "        };\n",
       "        var geo_json_95909562ab98df3b0364f374b077f19f = L.geoJson(null, {\n",
       "                onEachFeature: geo_json_95909562ab98df3b0364f374b077f19f_onEachFeature,\n",
       "            \n",
       "                style: geo_json_95909562ab98df3b0364f374b077f19f_styler,\n",
       "        });\n",
       "\n",
       "        function geo_json_95909562ab98df3b0364f374b077f19f_add (data) {\n",
       "            geo_json_95909562ab98df3b0364f374b077f19f\n",
       "                .addData(data);\n",
       "        }\n",
       "            geo_json_95909562ab98df3b0364f374b077f19f_add({&quot;features&quot;: [{&quot;geometry&quot;: {&quot;coordinates&quot;: [[[-58.46110768986921, -34.570121800232855], [-58.46110768986921, -34.55079402914923], [-58.437638214924775, -34.55079402914923], [-58.437638214924775, -34.570121800232855], [-58.46110768986921, -34.570121800232855]]], &quot;type&quot;: &quot;Polygon&quot;}, &quot;id&quot;: &quot;0&quot;, &quot;type&quot;: &quot;Feature&quot;}], &quot;type&quot;: &quot;FeatureCollection&quot;});\n",
       "\n",
       "        \n",
       "    \n",
       "            geo_json_95909562ab98df3b0364f374b077f19f.addTo(map_86df2a7aa3cd2d4e6905691d1f366804);\n",
       "        \n",
       "    \n",
       "        function geo_json_fd0c86460afc4eae6b5ff1e6d2079cab_styler(feature) {\n",
       "            switch(feature.id) {\n",
       "                default:\n",
       "                    return {&quot;color&quot;: &quot;black&quot;, &quot;fillColor&quot;: &quot;gray&quot;, &quot;fillOpacity&quot;: 0.25, &quot;opacity&quot;: 0.2, &quot;weight&quot;: 1};\n",
       "            }\n",
       "        }\n",
       "\n",
       "        function geo_json_fd0c86460afc4eae6b5ff1e6d2079cab_onEachFeature(feature, layer) {\n",
       "            layer.on({\n",
       "            });\n",
       "        };\n",
       "        var geo_json_fd0c86460afc4eae6b5ff1e6d2079cab = L.geoJson(null, {\n",
       "                onEachFeature: geo_json_fd0c86460afc4eae6b5ff1e6d2079cab_onEachFeature,\n",
       "            \n",
       "                style: geo_json_fd0c86460afc4eae6b5ff1e6d2079cab_styler,\n",
       "        });\n",
       "\n",
       "        function geo_json_fd0c86460afc4eae6b5ff1e6d2079cab_add (data) {\n",
       "            geo_json_fd0c86460afc4eae6b5ff1e6d2079cab\n",
       "                .addData(data);\n",
       "        }\n",
       "            geo_json_fd0c86460afc4eae6b5ff1e6d2079cab_add({&quot;features&quot;: [{&quot;geometry&quot;: {&quot;coordinates&quot;: [[[-58.46110768986921, -34.55079402914923], [-58.46110768986921, -34.53146176750418], [-58.437638214924775, -34.53146176750418], [-58.437638214924775, -34.55079402914923], [-58.46110768986921, -34.55079402914923]]], &quot;type&quot;: &quot;Polygon&quot;}, &quot;id&quot;: &quot;0&quot;, &quot;type&quot;: &quot;Feature&quot;}], &quot;type&quot;: &quot;FeatureCollection&quot;});\n",
       "\n",
       "        \n",
       "    \n",
       "            geo_json_fd0c86460afc4eae6b5ff1e6d2079cab.addTo(map_86df2a7aa3cd2d4e6905691d1f366804);\n",
       "        \n",
       "    \n",
       "        function geo_json_10eb3ea4fc796d4efcafc3c4c437adcb_styler(feature) {\n",
       "            switch(feature.id) {\n",
       "                default:\n",
       "                    return {&quot;color&quot;: &quot;black&quot;, &quot;fillColor&quot;: &quot;gray&quot;, &quot;fillOpacity&quot;: 0.25, &quot;opacity&quot;: 0.2, &quot;weight&quot;: 1};\n",
       "            }\n",
       "        }\n",
       "\n",
       "        function geo_json_10eb3ea4fc796d4efcafc3c4c437adcb_onEachFeature(feature, layer) {\n",
       "            layer.on({\n",
       "            });\n",
       "        };\n",
       "        var geo_json_10eb3ea4fc796d4efcafc3c4c437adcb = L.geoJson(null, {\n",
       "                onEachFeature: geo_json_10eb3ea4fc796d4efcafc3c4c437adcb_onEachFeature,\n",
       "            \n",
       "                style: geo_json_10eb3ea4fc796d4efcafc3c4c437adcb_styler,\n",
       "        });\n",
       "\n",
       "        function geo_json_10eb3ea4fc796d4efcafc3c4c437adcb_add (data) {\n",
       "            geo_json_10eb3ea4fc796d4efcafc3c4c437adcb\n",
       "                .addData(data);\n",
       "        }\n",
       "            geo_json_10eb3ea4fc796d4efcafc3c4c437adcb_add({&quot;features&quot;: [{&quot;geometry&quot;: {&quot;coordinates&quot;: [[[-58.46110768986921, -34.53146176750418], [-58.46110768986921, -34.51212501645583], [-58.437638214924775, -34.51212501645583], [-58.437638214924775, -34.53146176750418], [-58.46110768986921, -34.53146176750418]]], &quot;type&quot;: &quot;Polygon&quot;}, &quot;id&quot;: &quot;0&quot;, &quot;type&quot;: &quot;Feature&quot;}], &quot;type&quot;: &quot;FeatureCollection&quot;});\n",
       "\n",
       "        \n",
       "    \n",
       "            geo_json_10eb3ea4fc796d4efcafc3c4c437adcb.addTo(map_86df2a7aa3cd2d4e6905691d1f366804);\n",
       "        \n",
       "    \n",
       "        function geo_json_2f2526d14ce0cd052e1c769107bab437_styler(feature) {\n",
       "            switch(feature.id) {\n",
       "                default:\n",
       "                    return {&quot;color&quot;: &quot;black&quot;, &quot;fillColor&quot;: &quot;gray&quot;, &quot;fillOpacity&quot;: 0.25, &quot;opacity&quot;: 0.2, &quot;weight&quot;: 1};\n",
       "            }\n",
       "        }\n",
       "\n",
       "        function geo_json_2f2526d14ce0cd052e1c769107bab437_onEachFeature(feature, layer) {\n",
       "            layer.on({\n",
       "            });\n",
       "        };\n",
       "        var geo_json_2f2526d14ce0cd052e1c769107bab437 = L.geoJson(null, {\n",
       "                onEachFeature: geo_json_2f2526d14ce0cd052e1c769107bab437_onEachFeature,\n",
       "            \n",
       "                style: geo_json_2f2526d14ce0cd052e1c769107bab437_styler,\n",
       "        });\n",
       "\n",
       "        function geo_json_2f2526d14ce0cd052e1c769107bab437_add (data) {\n",
       "            geo_json_2f2526d14ce0cd052e1c769107bab437\n",
       "                .addData(data);\n",
       "        }\n",
       "            geo_json_2f2526d14ce0cd052e1c769107bab437_add({&quot;features&quot;: [{&quot;geometry&quot;: {&quot;coordinates&quot;: [[[-58.437638214924775, -34.685994060382804], [-58.437638214924775, -34.66669325685824], [-58.41416873998034, -34.66669325685824], [-58.41416873998034, -34.685994060382804], [-58.437638214924775, -34.685994060382804]]], &quot;type&quot;: &quot;Polygon&quot;}, &quot;id&quot;: &quot;0&quot;, &quot;type&quot;: &quot;Feature&quot;}], &quot;type&quot;: &quot;FeatureCollection&quot;});\n",
       "\n",
       "        \n",
       "    \n",
       "            geo_json_2f2526d14ce0cd052e1c769107bab437.addTo(map_86df2a7aa3cd2d4e6905691d1f366804);\n",
       "        \n",
       "    \n",
       "        function geo_json_0c57a844a78533898ad5d0f488cdd1df_styler(feature) {\n",
       "            switch(feature.id) {\n",
       "                default:\n",
       "                    return {&quot;color&quot;: &quot;black&quot;, &quot;fillColor&quot;: &quot;gray&quot;, &quot;fillOpacity&quot;: 0.25, &quot;opacity&quot;: 0.2, &quot;weight&quot;: 1};\n",
       "            }\n",
       "        }\n",
       "\n",
       "        function geo_json_0c57a844a78533898ad5d0f488cdd1df_onEachFeature(feature, layer) {\n",
       "            layer.on({\n",
       "            });\n",
       "        };\n",
       "        var geo_json_0c57a844a78533898ad5d0f488cdd1df = L.geoJson(null, {\n",
       "                onEachFeature: geo_json_0c57a844a78533898ad5d0f488cdd1df_onEachFeature,\n",
       "            \n",
       "                style: geo_json_0c57a844a78533898ad5d0f488cdd1df_styler,\n",
       "        });\n",
       "\n",
       "        function geo_json_0c57a844a78533898ad5d0f488cdd1df_add (data) {\n",
       "            geo_json_0c57a844a78533898ad5d0f488cdd1df\n",
       "                .addData(data);\n",
       "        }\n",
       "            geo_json_0c57a844a78533898ad5d0f488cdd1df_add({&quot;features&quot;: [{&quot;geometry&quot;: {&quot;coordinates&quot;: [[[-58.437638214924775, -34.66669325685824], [-58.437638214924775, -34.64738795587222], [-58.41416873998034, -34.64738795587222], [-58.41416873998034, -34.66669325685824], [-58.437638214924775, -34.66669325685824]]], &quot;type&quot;: &quot;Polygon&quot;}, &quot;id&quot;: &quot;0&quot;, &quot;type&quot;: &quot;Feature&quot;}], &quot;type&quot;: &quot;FeatureCollection&quot;});\n",
       "\n",
       "        \n",
       "    \n",
       "            geo_json_0c57a844a78533898ad5d0f488cdd1df.addTo(map_86df2a7aa3cd2d4e6905691d1f366804);\n",
       "        \n",
       "    \n",
       "        function geo_json_269c11df11eddce97b5b24cfce4d148d_styler(feature) {\n",
       "            switch(feature.id) {\n",
       "                default:\n",
       "                    return {&quot;color&quot;: &quot;black&quot;, &quot;fillColor&quot;: &quot;gray&quot;, &quot;fillOpacity&quot;: 0.25, &quot;opacity&quot;: 0.2, &quot;weight&quot;: 1};\n",
       "            }\n",
       "        }\n",
       "\n",
       "        function geo_json_269c11df11eddce97b5b24cfce4d148d_onEachFeature(feature, layer) {\n",
       "            layer.on({\n",
       "            });\n",
       "        };\n",
       "        var geo_json_269c11df11eddce97b5b24cfce4d148d = L.geoJson(null, {\n",
       "                onEachFeature: geo_json_269c11df11eddce97b5b24cfce4d148d_onEachFeature,\n",
       "            \n",
       "                style: geo_json_269c11df11eddce97b5b24cfce4d148d_styler,\n",
       "        });\n",
       "\n",
       "        function geo_json_269c11df11eddce97b5b24cfce4d148d_add (data) {\n",
       "            geo_json_269c11df11eddce97b5b24cfce4d148d\n",
       "                .addData(data);\n",
       "        }\n",
       "            geo_json_269c11df11eddce97b5b24cfce4d148d_add({&quot;features&quot;: [{&quot;geometry&quot;: {&quot;coordinates&quot;: [[[-58.437638214924775, -34.64738795587222], [-58.437638214924775, -34.628078158568975], [-58.41416873998034, -34.628078158568975], [-58.41416873998034, -34.64738795587222], [-58.437638214924775, -34.64738795587222]]], &quot;type&quot;: &quot;Polygon&quot;}, &quot;id&quot;: &quot;0&quot;, &quot;type&quot;: &quot;Feature&quot;}], &quot;type&quot;: &quot;FeatureCollection&quot;});\n",
       "\n",
       "        \n",
       "    \n",
       "            geo_json_269c11df11eddce97b5b24cfce4d148d.addTo(map_86df2a7aa3cd2d4e6905691d1f366804);\n",
       "        \n",
       "    \n",
       "        function geo_json_779e5c2f7aa6725a47da883c4ed03d07_styler(feature) {\n",
       "            switch(feature.id) {\n",
       "                default:\n",
       "                    return {&quot;color&quot;: &quot;black&quot;, &quot;fillColor&quot;: &quot;gray&quot;, &quot;fillOpacity&quot;: 0.25, &quot;opacity&quot;: 0.2, &quot;weight&quot;: 1};\n",
       "            }\n",
       "        }\n",
       "\n",
       "        function geo_json_779e5c2f7aa6725a47da883c4ed03d07_onEachFeature(feature, layer) {\n",
       "            layer.on({\n",
       "            });\n",
       "        };\n",
       "        var geo_json_779e5c2f7aa6725a47da883c4ed03d07 = L.geoJson(null, {\n",
       "                onEachFeature: geo_json_779e5c2f7aa6725a47da883c4ed03d07_onEachFeature,\n",
       "            \n",
       "                style: geo_json_779e5c2f7aa6725a47da883c4ed03d07_styler,\n",
       "        });\n",
       "\n",
       "        function geo_json_779e5c2f7aa6725a47da883c4ed03d07_add (data) {\n",
       "            geo_json_779e5c2f7aa6725a47da883c4ed03d07\n",
       "                .addData(data);\n",
       "        }\n",
       "            geo_json_779e5c2f7aa6725a47da883c4ed03d07_add({&quot;features&quot;: [{&quot;geometry&quot;: {&quot;coordinates&quot;: [[[-58.437638214924775, -34.628078158568975], [-58.437638214924775, -34.608763866095046], [-58.41416873998034, -34.608763866095046], [-58.41416873998034, -34.628078158568975], [-58.437638214924775, -34.628078158568975]]], &quot;type&quot;: &quot;Polygon&quot;}, &quot;id&quot;: &quot;0&quot;, &quot;type&quot;: &quot;Feature&quot;}], &quot;type&quot;: &quot;FeatureCollection&quot;});\n",
       "\n",
       "        \n",
       "    \n",
       "            geo_json_779e5c2f7aa6725a47da883c4ed03d07.addTo(map_86df2a7aa3cd2d4e6905691d1f366804);\n",
       "        \n",
       "    \n",
       "        function geo_json_ae8b288050a582c39f228c3d32504d25_styler(feature) {\n",
       "            switch(feature.id) {\n",
       "                default:\n",
       "                    return {&quot;color&quot;: &quot;black&quot;, &quot;fillColor&quot;: &quot;gray&quot;, &quot;fillOpacity&quot;: 0.25, &quot;opacity&quot;: 0.2, &quot;weight&quot;: 1};\n",
       "            }\n",
       "        }\n",
       "\n",
       "        function geo_json_ae8b288050a582c39f228c3d32504d25_onEachFeature(feature, layer) {\n",
       "            layer.on({\n",
       "            });\n",
       "        };\n",
       "        var geo_json_ae8b288050a582c39f228c3d32504d25 = L.geoJson(null, {\n",
       "                onEachFeature: geo_json_ae8b288050a582c39f228c3d32504d25_onEachFeature,\n",
       "            \n",
       "                style: geo_json_ae8b288050a582c39f228c3d32504d25_styler,\n",
       "        });\n",
       "\n",
       "        function geo_json_ae8b288050a582c39f228c3d32504d25_add (data) {\n",
       "            geo_json_ae8b288050a582c39f228c3d32504d25\n",
       "                .addData(data);\n",
       "        }\n",
       "            geo_json_ae8b288050a582c39f228c3d32504d25_add({&quot;features&quot;: [{&quot;geometry&quot;: {&quot;coordinates&quot;: [[[-58.437638214924775, -34.608763866095046], [-58.437638214924775, -34.58944507959928], [-58.41416873998034, -34.58944507959928], [-58.41416873998034, -34.608763866095046], [-58.437638214924775, -34.608763866095046]]], &quot;type&quot;: &quot;Polygon&quot;}, &quot;id&quot;: &quot;0&quot;, &quot;type&quot;: &quot;Feature&quot;}], &quot;type&quot;: &quot;FeatureCollection&quot;});\n",
       "\n",
       "        \n",
       "    \n",
       "            geo_json_ae8b288050a582c39f228c3d32504d25.addTo(map_86df2a7aa3cd2d4e6905691d1f366804);\n",
       "        \n",
       "    \n",
       "        function geo_json_1f52a5a7bfb4742450165d66688069e4_styler(feature) {\n",
       "            switch(feature.id) {\n",
       "                default:\n",
       "                    return {&quot;color&quot;: &quot;black&quot;, &quot;fillColor&quot;: &quot;gray&quot;, &quot;fillOpacity&quot;: 0.25, &quot;opacity&quot;: 0.2, &quot;weight&quot;: 1};\n",
       "            }\n",
       "        }\n",
       "\n",
       "        function geo_json_1f52a5a7bfb4742450165d66688069e4_onEachFeature(feature, layer) {\n",
       "            layer.on({\n",
       "            });\n",
       "        };\n",
       "        var geo_json_1f52a5a7bfb4742450165d66688069e4 = L.geoJson(null, {\n",
       "                onEachFeature: geo_json_1f52a5a7bfb4742450165d66688069e4_onEachFeature,\n",
       "            \n",
       "                style: geo_json_1f52a5a7bfb4742450165d66688069e4_styler,\n",
       "        });\n",
       "\n",
       "        function geo_json_1f52a5a7bfb4742450165d66688069e4_add (data) {\n",
       "            geo_json_1f52a5a7bfb4742450165d66688069e4\n",
       "                .addData(data);\n",
       "        }\n",
       "            geo_json_1f52a5a7bfb4742450165d66688069e4_add({&quot;features&quot;: [{&quot;geometry&quot;: {&quot;coordinates&quot;: [[[-58.437638214924775, -34.58944507959928], [-58.437638214924775, -34.570121800232855], [-58.41416873998034, -34.570121800232855], [-58.41416873998034, -34.58944507959928], [-58.437638214924775, -34.58944507959928]]], &quot;type&quot;: &quot;Polygon&quot;}, &quot;id&quot;: &quot;0&quot;, &quot;type&quot;: &quot;Feature&quot;}], &quot;type&quot;: &quot;FeatureCollection&quot;});\n",
       "\n",
       "        \n",
       "    \n",
       "            geo_json_1f52a5a7bfb4742450165d66688069e4.addTo(map_86df2a7aa3cd2d4e6905691d1f366804);\n",
       "        \n",
       "    \n",
       "        function geo_json_e106d2e9482322f554615f7eca5a88fa_styler(feature) {\n",
       "            switch(feature.id) {\n",
       "                default:\n",
       "                    return {&quot;color&quot;: &quot;black&quot;, &quot;fillColor&quot;: &quot;gray&quot;, &quot;fillOpacity&quot;: 0.25, &quot;opacity&quot;: 0.2, &quot;weight&quot;: 1};\n",
       "            }\n",
       "        }\n",
       "\n",
       "        function geo_json_e106d2e9482322f554615f7eca5a88fa_onEachFeature(feature, layer) {\n",
       "            layer.on({\n",
       "            });\n",
       "        };\n",
       "        var geo_json_e106d2e9482322f554615f7eca5a88fa = L.geoJson(null, {\n",
       "                onEachFeature: geo_json_e106d2e9482322f554615f7eca5a88fa_onEachFeature,\n",
       "            \n",
       "                style: geo_json_e106d2e9482322f554615f7eca5a88fa_styler,\n",
       "        });\n",
       "\n",
       "        function geo_json_e106d2e9482322f554615f7eca5a88fa_add (data) {\n",
       "            geo_json_e106d2e9482322f554615f7eca5a88fa\n",
       "                .addData(data);\n",
       "        }\n",
       "            geo_json_e106d2e9482322f554615f7eca5a88fa_add({&quot;features&quot;: [{&quot;geometry&quot;: {&quot;coordinates&quot;: [[[-58.437638214924775, -34.570121800232855], [-58.437638214924775, -34.55079402914923], [-58.41416873998034, -34.55079402914923], [-58.41416873998034, -34.570121800232855], [-58.437638214924775, -34.570121800232855]]], &quot;type&quot;: &quot;Polygon&quot;}, &quot;id&quot;: &quot;0&quot;, &quot;type&quot;: &quot;Feature&quot;}], &quot;type&quot;: &quot;FeatureCollection&quot;});\n",
       "\n",
       "        \n",
       "    \n",
       "            geo_json_e106d2e9482322f554615f7eca5a88fa.addTo(map_86df2a7aa3cd2d4e6905691d1f366804);\n",
       "        \n",
       "    \n",
       "        function geo_json_a67f0c2b2b5a3de198fc92cb6dacd979_styler(feature) {\n",
       "            switch(feature.id) {\n",
       "                default:\n",
       "                    return {&quot;color&quot;: &quot;black&quot;, &quot;fillColor&quot;: &quot;gray&quot;, &quot;fillOpacity&quot;: 0.25, &quot;opacity&quot;: 0.2, &quot;weight&quot;: 1};\n",
       "            }\n",
       "        }\n",
       "\n",
       "        function geo_json_a67f0c2b2b5a3de198fc92cb6dacd979_onEachFeature(feature, layer) {\n",
       "            layer.on({\n",
       "            });\n",
       "        };\n",
       "        var geo_json_a67f0c2b2b5a3de198fc92cb6dacd979 = L.geoJson(null, {\n",
       "                onEachFeature: geo_json_a67f0c2b2b5a3de198fc92cb6dacd979_onEachFeature,\n",
       "            \n",
       "                style: geo_json_a67f0c2b2b5a3de198fc92cb6dacd979_styler,\n",
       "        });\n",
       "\n",
       "        function geo_json_a67f0c2b2b5a3de198fc92cb6dacd979_add (data) {\n",
       "            geo_json_a67f0c2b2b5a3de198fc92cb6dacd979\n",
       "                .addData(data);\n",
       "        }\n",
       "            geo_json_a67f0c2b2b5a3de198fc92cb6dacd979_add({&quot;features&quot;: [{&quot;geometry&quot;: {&quot;coordinates&quot;: [[[-58.437638214924775, -34.55079402914923], [-58.437638214924775, -34.53146176750418], [-58.41416873998034, -34.53146176750418], [-58.41416873998034, -34.55079402914923], [-58.437638214924775, -34.55079402914923]]], &quot;type&quot;: &quot;Polygon&quot;}, &quot;id&quot;: &quot;0&quot;, &quot;type&quot;: &quot;Feature&quot;}], &quot;type&quot;: &quot;FeatureCollection&quot;});\n",
       "\n",
       "        \n",
       "    \n",
       "            geo_json_a67f0c2b2b5a3de198fc92cb6dacd979.addTo(map_86df2a7aa3cd2d4e6905691d1f366804);\n",
       "        \n",
       "    \n",
       "        function geo_json_f8dc5895f052105921c04030308e431b_styler(feature) {\n",
       "            switch(feature.id) {\n",
       "                default:\n",
       "                    return {&quot;color&quot;: &quot;black&quot;, &quot;fillColor&quot;: &quot;gray&quot;, &quot;fillOpacity&quot;: 0.25, &quot;opacity&quot;: 0.2, &quot;weight&quot;: 1};\n",
       "            }\n",
       "        }\n",
       "\n",
       "        function geo_json_f8dc5895f052105921c04030308e431b_onEachFeature(feature, layer) {\n",
       "            layer.on({\n",
       "            });\n",
       "        };\n",
       "        var geo_json_f8dc5895f052105921c04030308e431b = L.geoJson(null, {\n",
       "                onEachFeature: geo_json_f8dc5895f052105921c04030308e431b_onEachFeature,\n",
       "            \n",
       "                style: geo_json_f8dc5895f052105921c04030308e431b_styler,\n",
       "        });\n",
       "\n",
       "        function geo_json_f8dc5895f052105921c04030308e431b_add (data) {\n",
       "            geo_json_f8dc5895f052105921c04030308e431b\n",
       "                .addData(data);\n",
       "        }\n",
       "            geo_json_f8dc5895f052105921c04030308e431b_add({&quot;features&quot;: [{&quot;geometry&quot;: {&quot;coordinates&quot;: [[[-58.41416873998034, -34.66669325685824], [-58.41416873998034, -34.64738795587222], [-58.39069926503591, -34.64738795587222], [-58.39069926503591, -34.66669325685824], [-58.41416873998034, -34.66669325685824]]], &quot;type&quot;: &quot;Polygon&quot;}, &quot;id&quot;: &quot;0&quot;, &quot;type&quot;: &quot;Feature&quot;}], &quot;type&quot;: &quot;FeatureCollection&quot;});\n",
       "\n",
       "        \n",
       "    \n",
       "            geo_json_f8dc5895f052105921c04030308e431b.addTo(map_86df2a7aa3cd2d4e6905691d1f366804);\n",
       "        \n",
       "    \n",
       "        function geo_json_00f00cc335f7329689d7b9fc102a961d_styler(feature) {\n",
       "            switch(feature.id) {\n",
       "                default:\n",
       "                    return {&quot;color&quot;: &quot;black&quot;, &quot;fillColor&quot;: &quot;gray&quot;, &quot;fillOpacity&quot;: 0.25, &quot;opacity&quot;: 0.2, &quot;weight&quot;: 1};\n",
       "            }\n",
       "        }\n",
       "\n",
       "        function geo_json_00f00cc335f7329689d7b9fc102a961d_onEachFeature(feature, layer) {\n",
       "            layer.on({\n",
       "            });\n",
       "        };\n",
       "        var geo_json_00f00cc335f7329689d7b9fc102a961d = L.geoJson(null, {\n",
       "                onEachFeature: geo_json_00f00cc335f7329689d7b9fc102a961d_onEachFeature,\n",
       "            \n",
       "                style: geo_json_00f00cc335f7329689d7b9fc102a961d_styler,\n",
       "        });\n",
       "\n",
       "        function geo_json_00f00cc335f7329689d7b9fc102a961d_add (data) {\n",
       "            geo_json_00f00cc335f7329689d7b9fc102a961d\n",
       "                .addData(data);\n",
       "        }\n",
       "            geo_json_00f00cc335f7329689d7b9fc102a961d_add({&quot;features&quot;: [{&quot;geometry&quot;: {&quot;coordinates&quot;: [[[-58.41416873998034, -34.64738795587222], [-58.41416873998034, -34.628078158568975], [-58.39069926503591, -34.628078158568975], [-58.39069926503591, -34.64738795587222], [-58.41416873998034, -34.64738795587222]]], &quot;type&quot;: &quot;Polygon&quot;}, &quot;id&quot;: &quot;0&quot;, &quot;type&quot;: &quot;Feature&quot;}], &quot;type&quot;: &quot;FeatureCollection&quot;});\n",
       "\n",
       "        \n",
       "    \n",
       "            geo_json_00f00cc335f7329689d7b9fc102a961d.addTo(map_86df2a7aa3cd2d4e6905691d1f366804);\n",
       "        \n",
       "    \n",
       "        function geo_json_a13d2c7475fc1f80b12cffa9c6f0f78a_styler(feature) {\n",
       "            switch(feature.id) {\n",
       "                default:\n",
       "                    return {&quot;color&quot;: &quot;black&quot;, &quot;fillColor&quot;: &quot;gray&quot;, &quot;fillOpacity&quot;: 0.25, &quot;opacity&quot;: 0.2, &quot;weight&quot;: 1};\n",
       "            }\n",
       "        }\n",
       "\n",
       "        function geo_json_a13d2c7475fc1f80b12cffa9c6f0f78a_onEachFeature(feature, layer) {\n",
       "            layer.on({\n",
       "            });\n",
       "        };\n",
       "        var geo_json_a13d2c7475fc1f80b12cffa9c6f0f78a = L.geoJson(null, {\n",
       "                onEachFeature: geo_json_a13d2c7475fc1f80b12cffa9c6f0f78a_onEachFeature,\n",
       "            \n",
       "                style: geo_json_a13d2c7475fc1f80b12cffa9c6f0f78a_styler,\n",
       "        });\n",
       "\n",
       "        function geo_json_a13d2c7475fc1f80b12cffa9c6f0f78a_add (data) {\n",
       "            geo_json_a13d2c7475fc1f80b12cffa9c6f0f78a\n",
       "                .addData(data);\n",
       "        }\n",
       "            geo_json_a13d2c7475fc1f80b12cffa9c6f0f78a_add({&quot;features&quot;: [{&quot;geometry&quot;: {&quot;coordinates&quot;: [[[-58.41416873998034, -34.628078158568975], [-58.41416873998034, -34.608763866095046], [-58.39069926503591, -34.608763866095046], [-58.39069926503591, -34.628078158568975], [-58.41416873998034, -34.628078158568975]]], &quot;type&quot;: &quot;Polygon&quot;}, &quot;id&quot;: &quot;0&quot;, &quot;type&quot;: &quot;Feature&quot;}], &quot;type&quot;: &quot;FeatureCollection&quot;});\n",
       "\n",
       "        \n",
       "    \n",
       "            geo_json_a13d2c7475fc1f80b12cffa9c6f0f78a.addTo(map_86df2a7aa3cd2d4e6905691d1f366804);\n",
       "        \n",
       "    \n",
       "        function geo_json_b1cfc11e6504683891e0ee85f7fb4144_styler(feature) {\n",
       "            switch(feature.id) {\n",
       "                default:\n",
       "                    return {&quot;color&quot;: &quot;black&quot;, &quot;fillColor&quot;: &quot;gray&quot;, &quot;fillOpacity&quot;: 0.25, &quot;opacity&quot;: 0.2, &quot;weight&quot;: 1};\n",
       "            }\n",
       "        }\n",
       "\n",
       "        function geo_json_b1cfc11e6504683891e0ee85f7fb4144_onEachFeature(feature, layer) {\n",
       "            layer.on({\n",
       "            });\n",
       "        };\n",
       "        var geo_json_b1cfc11e6504683891e0ee85f7fb4144 = L.geoJson(null, {\n",
       "                onEachFeature: geo_json_b1cfc11e6504683891e0ee85f7fb4144_onEachFeature,\n",
       "            \n",
       "                style: geo_json_b1cfc11e6504683891e0ee85f7fb4144_styler,\n",
       "        });\n",
       "\n",
       "        function geo_json_b1cfc11e6504683891e0ee85f7fb4144_add (data) {\n",
       "            geo_json_b1cfc11e6504683891e0ee85f7fb4144\n",
       "                .addData(data);\n",
       "        }\n",
       "            geo_json_b1cfc11e6504683891e0ee85f7fb4144_add({&quot;features&quot;: [{&quot;geometry&quot;: {&quot;coordinates&quot;: [[[-58.41416873998034, -34.608763866095046], [-58.41416873998034, -34.58944507959928], [-58.39069926503591, -34.58944507959928], [-58.39069926503591, -34.608763866095046], [-58.41416873998034, -34.608763866095046]]], &quot;type&quot;: &quot;Polygon&quot;}, &quot;id&quot;: &quot;0&quot;, &quot;type&quot;: &quot;Feature&quot;}], &quot;type&quot;: &quot;FeatureCollection&quot;});\n",
       "\n",
       "        \n",
       "    \n",
       "            geo_json_b1cfc11e6504683891e0ee85f7fb4144.addTo(map_86df2a7aa3cd2d4e6905691d1f366804);\n",
       "        \n",
       "    \n",
       "        function geo_json_6925357856aa3270a03677abeac366ee_styler(feature) {\n",
       "            switch(feature.id) {\n",
       "                default:\n",
       "                    return {&quot;color&quot;: &quot;black&quot;, &quot;fillColor&quot;: &quot;gray&quot;, &quot;fillOpacity&quot;: 0.25, &quot;opacity&quot;: 0.2, &quot;weight&quot;: 1};\n",
       "            }\n",
       "        }\n",
       "\n",
       "        function geo_json_6925357856aa3270a03677abeac366ee_onEachFeature(feature, layer) {\n",
       "            layer.on({\n",
       "            });\n",
       "        };\n",
       "        var geo_json_6925357856aa3270a03677abeac366ee = L.geoJson(null, {\n",
       "                onEachFeature: geo_json_6925357856aa3270a03677abeac366ee_onEachFeature,\n",
       "            \n",
       "                style: geo_json_6925357856aa3270a03677abeac366ee_styler,\n",
       "        });\n",
       "\n",
       "        function geo_json_6925357856aa3270a03677abeac366ee_add (data) {\n",
       "            geo_json_6925357856aa3270a03677abeac366ee\n",
       "                .addData(data);\n",
       "        }\n",
       "            geo_json_6925357856aa3270a03677abeac366ee_add({&quot;features&quot;: [{&quot;geometry&quot;: {&quot;coordinates&quot;: [[[-58.41416873998034, -34.58944507959928], [-58.41416873998034, -34.570121800232855], [-58.39069926503591, -34.570121800232855], [-58.39069926503591, -34.58944507959928], [-58.41416873998034, -34.58944507959928]]], &quot;type&quot;: &quot;Polygon&quot;}, &quot;id&quot;: &quot;0&quot;, &quot;type&quot;: &quot;Feature&quot;}], &quot;type&quot;: &quot;FeatureCollection&quot;});\n",
       "\n",
       "        \n",
       "    \n",
       "            geo_json_6925357856aa3270a03677abeac366ee.addTo(map_86df2a7aa3cd2d4e6905691d1f366804);\n",
       "        \n",
       "    \n",
       "        function geo_json_6a6759b99c7db2bac470d0c632949907_styler(feature) {\n",
       "            switch(feature.id) {\n",
       "                default:\n",
       "                    return {&quot;color&quot;: &quot;black&quot;, &quot;fillColor&quot;: &quot;gray&quot;, &quot;fillOpacity&quot;: 0.25, &quot;opacity&quot;: 0.2, &quot;weight&quot;: 1};\n",
       "            }\n",
       "        }\n",
       "\n",
       "        function geo_json_6a6759b99c7db2bac470d0c632949907_onEachFeature(feature, layer) {\n",
       "            layer.on({\n",
       "            });\n",
       "        };\n",
       "        var geo_json_6a6759b99c7db2bac470d0c632949907 = L.geoJson(null, {\n",
       "                onEachFeature: geo_json_6a6759b99c7db2bac470d0c632949907_onEachFeature,\n",
       "            \n",
       "                style: geo_json_6a6759b99c7db2bac470d0c632949907_styler,\n",
       "        });\n",
       "\n",
       "        function geo_json_6a6759b99c7db2bac470d0c632949907_add (data) {\n",
       "            geo_json_6a6759b99c7db2bac470d0c632949907\n",
       "                .addData(data);\n",
       "        }\n",
       "            geo_json_6a6759b99c7db2bac470d0c632949907_add({&quot;features&quot;: [{&quot;geometry&quot;: {&quot;coordinates&quot;: [[[-58.41416873998034, -34.570121800232855], [-58.41416873998034, -34.55079402914923], [-58.39069926503591, -34.55079402914923], [-58.39069926503591, -34.570121800232855], [-58.41416873998034, -34.570121800232855]]], &quot;type&quot;: &quot;Polygon&quot;}, &quot;id&quot;: &quot;0&quot;, &quot;type&quot;: &quot;Feature&quot;}], &quot;type&quot;: &quot;FeatureCollection&quot;});\n",
       "\n",
       "        \n",
       "    \n",
       "            geo_json_6a6759b99c7db2bac470d0c632949907.addTo(map_86df2a7aa3cd2d4e6905691d1f366804);\n",
       "        \n",
       "    \n",
       "        function geo_json_844fa021c60bf951ef5d8fbeb4d53bee_styler(feature) {\n",
       "            switch(feature.id) {\n",
       "                default:\n",
       "                    return {&quot;color&quot;: &quot;black&quot;, &quot;fillColor&quot;: &quot;gray&quot;, &quot;fillOpacity&quot;: 0.25, &quot;opacity&quot;: 0.2, &quot;weight&quot;: 1};\n",
       "            }\n",
       "        }\n",
       "\n",
       "        function geo_json_844fa021c60bf951ef5d8fbeb4d53bee_onEachFeature(feature, layer) {\n",
       "            layer.on({\n",
       "            });\n",
       "        };\n",
       "        var geo_json_844fa021c60bf951ef5d8fbeb4d53bee = L.geoJson(null, {\n",
       "                onEachFeature: geo_json_844fa021c60bf951ef5d8fbeb4d53bee_onEachFeature,\n",
       "            \n",
       "                style: geo_json_844fa021c60bf951ef5d8fbeb4d53bee_styler,\n",
       "        });\n",
       "\n",
       "        function geo_json_844fa021c60bf951ef5d8fbeb4d53bee_add (data) {\n",
       "            geo_json_844fa021c60bf951ef5d8fbeb4d53bee\n",
       "                .addData(data);\n",
       "        }\n",
       "            geo_json_844fa021c60bf951ef5d8fbeb4d53bee_add({&quot;features&quot;: [{&quot;geometry&quot;: {&quot;coordinates&quot;: [[[-58.39069926503591, -34.66669325685824], [-58.39069926503591, -34.64738795587222], [-58.36722979009148, -34.64738795587222], [-58.36722979009148, -34.66669325685824], [-58.39069926503591, -34.66669325685824]]], &quot;type&quot;: &quot;Polygon&quot;}, &quot;id&quot;: &quot;0&quot;, &quot;type&quot;: &quot;Feature&quot;}], &quot;type&quot;: &quot;FeatureCollection&quot;});\n",
       "\n",
       "        \n",
       "    \n",
       "            geo_json_844fa021c60bf951ef5d8fbeb4d53bee.addTo(map_86df2a7aa3cd2d4e6905691d1f366804);\n",
       "        \n",
       "    \n",
       "        function geo_json_77681e3d82b44f08a33ddcc1018e5755_styler(feature) {\n",
       "            switch(feature.id) {\n",
       "                default:\n",
       "                    return {&quot;color&quot;: &quot;black&quot;, &quot;fillColor&quot;: &quot;gray&quot;, &quot;fillOpacity&quot;: 0.25, &quot;opacity&quot;: 0.2, &quot;weight&quot;: 1};\n",
       "            }\n",
       "        }\n",
       "\n",
       "        function geo_json_77681e3d82b44f08a33ddcc1018e5755_onEachFeature(feature, layer) {\n",
       "            layer.on({\n",
       "            });\n",
       "        };\n",
       "        var geo_json_77681e3d82b44f08a33ddcc1018e5755 = L.geoJson(null, {\n",
       "                onEachFeature: geo_json_77681e3d82b44f08a33ddcc1018e5755_onEachFeature,\n",
       "            \n",
       "                style: geo_json_77681e3d82b44f08a33ddcc1018e5755_styler,\n",
       "        });\n",
       "\n",
       "        function geo_json_77681e3d82b44f08a33ddcc1018e5755_add (data) {\n",
       "            geo_json_77681e3d82b44f08a33ddcc1018e5755\n",
       "                .addData(data);\n",
       "        }\n",
       "            geo_json_77681e3d82b44f08a33ddcc1018e5755_add({&quot;features&quot;: [{&quot;geometry&quot;: {&quot;coordinates&quot;: [[[-58.39069926503591, -34.64738795587222], [-58.39069926503591, -34.628078158568975], [-58.36722979009148, -34.628078158568975], [-58.36722979009148, -34.64738795587222], [-58.39069926503591, -34.64738795587222]]], &quot;type&quot;: &quot;Polygon&quot;}, &quot;id&quot;: &quot;0&quot;, &quot;type&quot;: &quot;Feature&quot;}], &quot;type&quot;: &quot;FeatureCollection&quot;});\n",
       "\n",
       "        \n",
       "    \n",
       "            geo_json_77681e3d82b44f08a33ddcc1018e5755.addTo(map_86df2a7aa3cd2d4e6905691d1f366804);\n",
       "        \n",
       "    \n",
       "        function geo_json_1e1ecf7d9881f6e2eb8e6193ab175b3d_styler(feature) {\n",
       "            switch(feature.id) {\n",
       "                default:\n",
       "                    return {&quot;color&quot;: &quot;black&quot;, &quot;fillColor&quot;: &quot;gray&quot;, &quot;fillOpacity&quot;: 0.25, &quot;opacity&quot;: 0.2, &quot;weight&quot;: 1};\n",
       "            }\n",
       "        }\n",
       "\n",
       "        function geo_json_1e1ecf7d9881f6e2eb8e6193ab175b3d_onEachFeature(feature, layer) {\n",
       "            layer.on({\n",
       "            });\n",
       "        };\n",
       "        var geo_json_1e1ecf7d9881f6e2eb8e6193ab175b3d = L.geoJson(null, {\n",
       "                onEachFeature: geo_json_1e1ecf7d9881f6e2eb8e6193ab175b3d_onEachFeature,\n",
       "            \n",
       "                style: geo_json_1e1ecf7d9881f6e2eb8e6193ab175b3d_styler,\n",
       "        });\n",
       "\n",
       "        function geo_json_1e1ecf7d9881f6e2eb8e6193ab175b3d_add (data) {\n",
       "            geo_json_1e1ecf7d9881f6e2eb8e6193ab175b3d\n",
       "                .addData(data);\n",
       "        }\n",
       "            geo_json_1e1ecf7d9881f6e2eb8e6193ab175b3d_add({&quot;features&quot;: [{&quot;geometry&quot;: {&quot;coordinates&quot;: [[[-58.39069926503591, -34.628078158568975], [-58.39069926503591, -34.608763866095046], [-58.36722979009148, -34.608763866095046], [-58.36722979009148, -34.628078158568975], [-58.39069926503591, -34.628078158568975]]], &quot;type&quot;: &quot;Polygon&quot;}, &quot;id&quot;: &quot;0&quot;, &quot;type&quot;: &quot;Feature&quot;}], &quot;type&quot;: &quot;FeatureCollection&quot;});\n",
       "\n",
       "        \n",
       "    \n",
       "            geo_json_1e1ecf7d9881f6e2eb8e6193ab175b3d.addTo(map_86df2a7aa3cd2d4e6905691d1f366804);\n",
       "        \n",
       "    \n",
       "        function geo_json_7a2191da385e0b27b9431ad147489a12_styler(feature) {\n",
       "            switch(feature.id) {\n",
       "                default:\n",
       "                    return {&quot;color&quot;: &quot;black&quot;, &quot;fillColor&quot;: &quot;gray&quot;, &quot;fillOpacity&quot;: 0.25, &quot;opacity&quot;: 0.2, &quot;weight&quot;: 1};\n",
       "            }\n",
       "        }\n",
       "\n",
       "        function geo_json_7a2191da385e0b27b9431ad147489a12_onEachFeature(feature, layer) {\n",
       "            layer.on({\n",
       "            });\n",
       "        };\n",
       "        var geo_json_7a2191da385e0b27b9431ad147489a12 = L.geoJson(null, {\n",
       "                onEachFeature: geo_json_7a2191da385e0b27b9431ad147489a12_onEachFeature,\n",
       "            \n",
       "                style: geo_json_7a2191da385e0b27b9431ad147489a12_styler,\n",
       "        });\n",
       "\n",
       "        function geo_json_7a2191da385e0b27b9431ad147489a12_add (data) {\n",
       "            geo_json_7a2191da385e0b27b9431ad147489a12\n",
       "                .addData(data);\n",
       "        }\n",
       "            geo_json_7a2191da385e0b27b9431ad147489a12_add({&quot;features&quot;: [{&quot;geometry&quot;: {&quot;coordinates&quot;: [[[-58.39069926503591, -34.608763866095046], [-58.39069926503591, -34.58944507959928], [-58.36722979009148, -34.58944507959928], [-58.36722979009148, -34.608763866095046], [-58.39069926503591, -34.608763866095046]]], &quot;type&quot;: &quot;Polygon&quot;}, &quot;id&quot;: &quot;0&quot;, &quot;type&quot;: &quot;Feature&quot;}], &quot;type&quot;: &quot;FeatureCollection&quot;});\n",
       "\n",
       "        \n",
       "    \n",
       "            geo_json_7a2191da385e0b27b9431ad147489a12.addTo(map_86df2a7aa3cd2d4e6905691d1f366804);\n",
       "        \n",
       "    \n",
       "        function geo_json_b2b24735947fde869bcc13b7b099bcd6_styler(feature) {\n",
       "            switch(feature.id) {\n",
       "                default:\n",
       "                    return {&quot;color&quot;: &quot;black&quot;, &quot;fillColor&quot;: &quot;gray&quot;, &quot;fillOpacity&quot;: 0.25, &quot;opacity&quot;: 0.2, &quot;weight&quot;: 1};\n",
       "            }\n",
       "        }\n",
       "\n",
       "        function geo_json_b2b24735947fde869bcc13b7b099bcd6_onEachFeature(feature, layer) {\n",
       "            layer.on({\n",
       "            });\n",
       "        };\n",
       "        var geo_json_b2b24735947fde869bcc13b7b099bcd6 = L.geoJson(null, {\n",
       "                onEachFeature: geo_json_b2b24735947fde869bcc13b7b099bcd6_onEachFeature,\n",
       "            \n",
       "                style: geo_json_b2b24735947fde869bcc13b7b099bcd6_styler,\n",
       "        });\n",
       "\n",
       "        function geo_json_b2b24735947fde869bcc13b7b099bcd6_add (data) {\n",
       "            geo_json_b2b24735947fde869bcc13b7b099bcd6\n",
       "                .addData(data);\n",
       "        }\n",
       "            geo_json_b2b24735947fde869bcc13b7b099bcd6_add({&quot;features&quot;: [{&quot;geometry&quot;: {&quot;coordinates&quot;: [[[-58.39069926503591, -34.58944507959928], [-58.39069926503591, -34.570121800232855], [-58.36722979009148, -34.570121800232855], [-58.36722979009148, -34.58944507959928], [-58.39069926503591, -34.58944507959928]]], &quot;type&quot;: &quot;Polygon&quot;}, &quot;id&quot;: &quot;0&quot;, &quot;type&quot;: &quot;Feature&quot;}], &quot;type&quot;: &quot;FeatureCollection&quot;});\n",
       "\n",
       "        \n",
       "    \n",
       "            geo_json_b2b24735947fde869bcc13b7b099bcd6.addTo(map_86df2a7aa3cd2d4e6905691d1f366804);\n",
       "        \n",
       "    \n",
       "        function geo_json_3f409532d675e6eeb4dcbe87586c5fde_styler(feature) {\n",
       "            switch(feature.id) {\n",
       "                default:\n",
       "                    return {&quot;color&quot;: &quot;black&quot;, &quot;fillColor&quot;: &quot;gray&quot;, &quot;fillOpacity&quot;: 0.25, &quot;opacity&quot;: 0.2, &quot;weight&quot;: 1};\n",
       "            }\n",
       "        }\n",
       "\n",
       "        function geo_json_3f409532d675e6eeb4dcbe87586c5fde_onEachFeature(feature, layer) {\n",
       "            layer.on({\n",
       "            });\n",
       "        };\n",
       "        var geo_json_3f409532d675e6eeb4dcbe87586c5fde = L.geoJson(null, {\n",
       "                onEachFeature: geo_json_3f409532d675e6eeb4dcbe87586c5fde_onEachFeature,\n",
       "            \n",
       "                style: geo_json_3f409532d675e6eeb4dcbe87586c5fde_styler,\n",
       "        });\n",
       "\n",
       "        function geo_json_3f409532d675e6eeb4dcbe87586c5fde_add (data) {\n",
       "            geo_json_3f409532d675e6eeb4dcbe87586c5fde\n",
       "                .addData(data);\n",
       "        }\n",
       "            geo_json_3f409532d675e6eeb4dcbe87586c5fde_add({&quot;features&quot;: [{&quot;geometry&quot;: {&quot;coordinates&quot;: [[[-58.39069926503591, -34.570121800232855], [-58.39069926503591, -34.55079402914923], [-58.36722979009148, -34.55079402914923], [-58.36722979009148, -34.570121800232855], [-58.39069926503591, -34.570121800232855]]], &quot;type&quot;: &quot;Polygon&quot;}, &quot;id&quot;: &quot;0&quot;, &quot;type&quot;: &quot;Feature&quot;}], &quot;type&quot;: &quot;FeatureCollection&quot;});\n",
       "\n",
       "        \n",
       "    \n",
       "            geo_json_3f409532d675e6eeb4dcbe87586c5fde.addTo(map_86df2a7aa3cd2d4e6905691d1f366804);\n",
       "        \n",
       "    \n",
       "        function geo_json_7ab5020a578436c8e3a009cd81f8ca06_styler(feature) {\n",
       "            switch(feature.id) {\n",
       "                default:\n",
       "                    return {&quot;color&quot;: &quot;black&quot;, &quot;fillColor&quot;: &quot;gray&quot;, &quot;fillOpacity&quot;: 0.25, &quot;opacity&quot;: 0.2, &quot;weight&quot;: 1};\n",
       "            }\n",
       "        }\n",
       "\n",
       "        function geo_json_7ab5020a578436c8e3a009cd81f8ca06_onEachFeature(feature, layer) {\n",
       "            layer.on({\n",
       "            });\n",
       "        };\n",
       "        var geo_json_7ab5020a578436c8e3a009cd81f8ca06 = L.geoJson(null, {\n",
       "                onEachFeature: geo_json_7ab5020a578436c8e3a009cd81f8ca06_onEachFeature,\n",
       "            \n",
       "                style: geo_json_7ab5020a578436c8e3a009cd81f8ca06_styler,\n",
       "        });\n",
       "\n",
       "        function geo_json_7ab5020a578436c8e3a009cd81f8ca06_add (data) {\n",
       "            geo_json_7ab5020a578436c8e3a009cd81f8ca06\n",
       "                .addData(data);\n",
       "        }\n",
       "            geo_json_7ab5020a578436c8e3a009cd81f8ca06_add({&quot;features&quot;: [{&quot;geometry&quot;: {&quot;coordinates&quot;: [[[-58.36722979009148, -34.66669325685824], [-58.36722979009148, -34.64738795587222], [-58.34376031514704, -34.64738795587222], [-58.34376031514704, -34.66669325685824], [-58.36722979009148, -34.66669325685824]]], &quot;type&quot;: &quot;Polygon&quot;}, &quot;id&quot;: &quot;0&quot;, &quot;type&quot;: &quot;Feature&quot;}], &quot;type&quot;: &quot;FeatureCollection&quot;});\n",
       "\n",
       "        \n",
       "    \n",
       "            geo_json_7ab5020a578436c8e3a009cd81f8ca06.addTo(map_86df2a7aa3cd2d4e6905691d1f366804);\n",
       "        \n",
       "    \n",
       "        function geo_json_89e6ca7e0777f3b2f3d07bc2028503f1_styler(feature) {\n",
       "            switch(feature.id) {\n",
       "                default:\n",
       "                    return {&quot;color&quot;: &quot;black&quot;, &quot;fillColor&quot;: &quot;gray&quot;, &quot;fillOpacity&quot;: 0.25, &quot;opacity&quot;: 0.2, &quot;weight&quot;: 1};\n",
       "            }\n",
       "        }\n",
       "\n",
       "        function geo_json_89e6ca7e0777f3b2f3d07bc2028503f1_onEachFeature(feature, layer) {\n",
       "            layer.on({\n",
       "            });\n",
       "        };\n",
       "        var geo_json_89e6ca7e0777f3b2f3d07bc2028503f1 = L.geoJson(null, {\n",
       "                onEachFeature: geo_json_89e6ca7e0777f3b2f3d07bc2028503f1_onEachFeature,\n",
       "            \n",
       "                style: geo_json_89e6ca7e0777f3b2f3d07bc2028503f1_styler,\n",
       "        });\n",
       "\n",
       "        function geo_json_89e6ca7e0777f3b2f3d07bc2028503f1_add (data) {\n",
       "            geo_json_89e6ca7e0777f3b2f3d07bc2028503f1\n",
       "                .addData(data);\n",
       "        }\n",
       "            geo_json_89e6ca7e0777f3b2f3d07bc2028503f1_add({&quot;features&quot;: [{&quot;geometry&quot;: {&quot;coordinates&quot;: [[[-58.36722979009148, -34.64738795587222], [-58.36722979009148, -34.628078158568975], [-58.34376031514704, -34.628078158568975], [-58.34376031514704, -34.64738795587222], [-58.36722979009148, -34.64738795587222]]], &quot;type&quot;: &quot;Polygon&quot;}, &quot;id&quot;: &quot;0&quot;, &quot;type&quot;: &quot;Feature&quot;}], &quot;type&quot;: &quot;FeatureCollection&quot;});\n",
       "\n",
       "        \n",
       "    \n",
       "            geo_json_89e6ca7e0777f3b2f3d07bc2028503f1.addTo(map_86df2a7aa3cd2d4e6905691d1f366804);\n",
       "        \n",
       "    \n",
       "        function geo_json_857f7762a38fa4d22022743b15c62a22_styler(feature) {\n",
       "            switch(feature.id) {\n",
       "                default:\n",
       "                    return {&quot;color&quot;: &quot;black&quot;, &quot;fillColor&quot;: &quot;gray&quot;, &quot;fillOpacity&quot;: 0.25, &quot;opacity&quot;: 0.2, &quot;weight&quot;: 1};\n",
       "            }\n",
       "        }\n",
       "\n",
       "        function geo_json_857f7762a38fa4d22022743b15c62a22_onEachFeature(feature, layer) {\n",
       "            layer.on({\n",
       "            });\n",
       "        };\n",
       "        var geo_json_857f7762a38fa4d22022743b15c62a22 = L.geoJson(null, {\n",
       "                onEachFeature: geo_json_857f7762a38fa4d22022743b15c62a22_onEachFeature,\n",
       "            \n",
       "                style: geo_json_857f7762a38fa4d22022743b15c62a22_styler,\n",
       "        });\n",
       "\n",
       "        function geo_json_857f7762a38fa4d22022743b15c62a22_add (data) {\n",
       "            geo_json_857f7762a38fa4d22022743b15c62a22\n",
       "                .addData(data);\n",
       "        }\n",
       "            geo_json_857f7762a38fa4d22022743b15c62a22_add({&quot;features&quot;: [{&quot;geometry&quot;: {&quot;coordinates&quot;: [[[-58.36722979009148, -34.628078158568975], [-58.36722979009148, -34.608763866095046], [-58.34376031514704, -34.608763866095046], [-58.34376031514704, -34.628078158568975], [-58.36722979009148, -34.628078158568975]]], &quot;type&quot;: &quot;Polygon&quot;}, &quot;id&quot;: &quot;0&quot;, &quot;type&quot;: &quot;Feature&quot;}], &quot;type&quot;: &quot;FeatureCollection&quot;});\n",
       "\n",
       "        \n",
       "    \n",
       "            geo_json_857f7762a38fa4d22022743b15c62a22.addTo(map_86df2a7aa3cd2d4e6905691d1f366804);\n",
       "        \n",
       "    \n",
       "        function geo_json_14c2d30171430f01036197f040998a41_styler(feature) {\n",
       "            switch(feature.id) {\n",
       "                default:\n",
       "                    return {&quot;color&quot;: &quot;black&quot;, &quot;fillColor&quot;: &quot;gray&quot;, &quot;fillOpacity&quot;: 0.25, &quot;opacity&quot;: 0.2, &quot;weight&quot;: 1};\n",
       "            }\n",
       "        }\n",
       "\n",
       "        function geo_json_14c2d30171430f01036197f040998a41_onEachFeature(feature, layer) {\n",
       "            layer.on({\n",
       "            });\n",
       "        };\n",
       "        var geo_json_14c2d30171430f01036197f040998a41 = L.geoJson(null, {\n",
       "                onEachFeature: geo_json_14c2d30171430f01036197f040998a41_onEachFeature,\n",
       "            \n",
       "                style: geo_json_14c2d30171430f01036197f040998a41_styler,\n",
       "        });\n",
       "\n",
       "        function geo_json_14c2d30171430f01036197f040998a41_add (data) {\n",
       "            geo_json_14c2d30171430f01036197f040998a41\n",
       "                .addData(data);\n",
       "        }\n",
       "            geo_json_14c2d30171430f01036197f040998a41_add({&quot;features&quot;: [{&quot;geometry&quot;: {&quot;coordinates&quot;: [[[-58.36722979009148, -34.608763866095046], [-58.36722979009148, -34.58944507959928], [-58.34376031514704, -34.58944507959928], [-58.34376031514704, -34.608763866095046], [-58.36722979009148, -34.608763866095046]]], &quot;type&quot;: &quot;Polygon&quot;}, &quot;id&quot;: &quot;0&quot;, &quot;type&quot;: &quot;Feature&quot;}], &quot;type&quot;: &quot;FeatureCollection&quot;});\n",
       "\n",
       "        \n",
       "    \n",
       "            geo_json_14c2d30171430f01036197f040998a41.addTo(map_86df2a7aa3cd2d4e6905691d1f366804);\n",
       "        \n",
       "    \n",
       "        function geo_json_1bd39e454ed76d8839698b0fae68a851_styler(feature) {\n",
       "            switch(feature.id) {\n",
       "                default:\n",
       "                    return {&quot;color&quot;: &quot;black&quot;, &quot;fillColor&quot;: &quot;gray&quot;, &quot;fillOpacity&quot;: 0.25, &quot;opacity&quot;: 0.2, &quot;weight&quot;: 1};\n",
       "            }\n",
       "        }\n",
       "\n",
       "        function geo_json_1bd39e454ed76d8839698b0fae68a851_onEachFeature(feature, layer) {\n",
       "            layer.on({\n",
       "            });\n",
       "        };\n",
       "        var geo_json_1bd39e454ed76d8839698b0fae68a851 = L.geoJson(null, {\n",
       "                onEachFeature: geo_json_1bd39e454ed76d8839698b0fae68a851_onEachFeature,\n",
       "            \n",
       "                style: geo_json_1bd39e454ed76d8839698b0fae68a851_styler,\n",
       "        });\n",
       "\n",
       "        function geo_json_1bd39e454ed76d8839698b0fae68a851_add (data) {\n",
       "            geo_json_1bd39e454ed76d8839698b0fae68a851\n",
       "                .addData(data);\n",
       "        }\n",
       "            geo_json_1bd39e454ed76d8839698b0fae68a851_add({&quot;features&quot;: [{&quot;geometry&quot;: {&quot;coordinates&quot;: [[[-58.36722979009148, -34.58944507959928], [-58.36722979009148, -34.570121800232855], [-58.34376031514704, -34.570121800232855], [-58.34376031514704, -34.58944507959928], [-58.36722979009148, -34.58944507959928]]], &quot;type&quot;: &quot;Polygon&quot;}, &quot;id&quot;: &quot;0&quot;, &quot;type&quot;: &quot;Feature&quot;}], &quot;type&quot;: &quot;FeatureCollection&quot;});\n",
       "\n",
       "        \n",
       "    \n",
       "            geo_json_1bd39e454ed76d8839698b0fae68a851.addTo(map_86df2a7aa3cd2d4e6905691d1f366804);\n",
       "        \n",
       "    \n",
       "        function geo_json_5b0e71296a0764d39829e3f19a526d54_styler(feature) {\n",
       "            switch(feature.id) {\n",
       "                default:\n",
       "                    return {&quot;color&quot;: &quot;black&quot;, &quot;fillColor&quot;: &quot;gray&quot;, &quot;fillOpacity&quot;: 0.25, &quot;opacity&quot;: 0.2, &quot;weight&quot;: 1};\n",
       "            }\n",
       "        }\n",
       "\n",
       "        function geo_json_5b0e71296a0764d39829e3f19a526d54_onEachFeature(feature, layer) {\n",
       "            layer.on({\n",
       "            });\n",
       "        };\n",
       "        var geo_json_5b0e71296a0764d39829e3f19a526d54 = L.geoJson(null, {\n",
       "                onEachFeature: geo_json_5b0e71296a0764d39829e3f19a526d54_onEachFeature,\n",
       "            \n",
       "                style: geo_json_5b0e71296a0764d39829e3f19a526d54_styler,\n",
       "        });\n",
       "\n",
       "        function geo_json_5b0e71296a0764d39829e3f19a526d54_add (data) {\n",
       "            geo_json_5b0e71296a0764d39829e3f19a526d54\n",
       "                .addData(data);\n",
       "        }\n",
       "            geo_json_5b0e71296a0764d39829e3f19a526d54_add({&quot;features&quot;: [{&quot;geometry&quot;: {&quot;coordinates&quot;: [[[-58.34376031514704, -34.64738795587222], [-58.34376031514704, -34.628078158568975], [-58.3202908402026, -34.628078158568975], [-58.3202908402026, -34.64738795587222], [-58.34376031514704, -34.64738795587222]]], &quot;type&quot;: &quot;Polygon&quot;}, &quot;id&quot;: &quot;0&quot;, &quot;type&quot;: &quot;Feature&quot;}], &quot;type&quot;: &quot;FeatureCollection&quot;});\n",
       "\n",
       "        \n",
       "    \n",
       "            geo_json_5b0e71296a0764d39829e3f19a526d54.addTo(map_86df2a7aa3cd2d4e6905691d1f366804);\n",
       "        \n",
       "    \n",
       "        function geo_json_92d23ea2e7184178c3a0a799d71ffe67_styler(feature) {\n",
       "            switch(feature.id) {\n",
       "                default:\n",
       "                    return {&quot;color&quot;: &quot;black&quot;, &quot;fillColor&quot;: &quot;gray&quot;, &quot;fillOpacity&quot;: 0.25, &quot;opacity&quot;: 0.2, &quot;weight&quot;: 1};\n",
       "            }\n",
       "        }\n",
       "\n",
       "        function geo_json_92d23ea2e7184178c3a0a799d71ffe67_onEachFeature(feature, layer) {\n",
       "            layer.on({\n",
       "            });\n",
       "        };\n",
       "        var geo_json_92d23ea2e7184178c3a0a799d71ffe67 = L.geoJson(null, {\n",
       "                onEachFeature: geo_json_92d23ea2e7184178c3a0a799d71ffe67_onEachFeature,\n",
       "            \n",
       "                style: geo_json_92d23ea2e7184178c3a0a799d71ffe67_styler,\n",
       "        });\n",
       "\n",
       "        function geo_json_92d23ea2e7184178c3a0a799d71ffe67_add (data) {\n",
       "            geo_json_92d23ea2e7184178c3a0a799d71ffe67\n",
       "                .addData(data);\n",
       "        }\n",
       "            geo_json_92d23ea2e7184178c3a0a799d71ffe67_add({&quot;features&quot;: [{&quot;geometry&quot;: {&quot;coordinates&quot;: [[[-58.34376031514704, -34.628078158568975], [-58.34376031514704, -34.608763866095046], [-58.3202908402026, -34.608763866095046], [-58.3202908402026, -34.628078158568975], [-58.34376031514704, -34.628078158568975]]], &quot;type&quot;: &quot;Polygon&quot;}, &quot;id&quot;: &quot;0&quot;, &quot;type&quot;: &quot;Feature&quot;}], &quot;type&quot;: &quot;FeatureCollection&quot;});\n",
       "\n",
       "        \n",
       "    \n",
       "            geo_json_92d23ea2e7184178c3a0a799d71ffe67.addTo(map_86df2a7aa3cd2d4e6905691d1f366804);\n",
       "        \n",
       "    \n",
       "        function geo_json_84131773ad5aec9b91a42e158b513b41_styler(feature) {\n",
       "            switch(feature.id) {\n",
       "                default:\n",
       "                    return {&quot;color&quot;: &quot;black&quot;, &quot;fillColor&quot;: &quot;gray&quot;, &quot;fillOpacity&quot;: 0.25, &quot;opacity&quot;: 0.2, &quot;weight&quot;: 1};\n",
       "            }\n",
       "        }\n",
       "\n",
       "        function geo_json_84131773ad5aec9b91a42e158b513b41_onEachFeature(feature, layer) {\n",
       "            layer.on({\n",
       "            });\n",
       "        };\n",
       "        var geo_json_84131773ad5aec9b91a42e158b513b41 = L.geoJson(null, {\n",
       "                onEachFeature: geo_json_84131773ad5aec9b91a42e158b513b41_onEachFeature,\n",
       "            \n",
       "                style: geo_json_84131773ad5aec9b91a42e158b513b41_styler,\n",
       "        });\n",
       "\n",
       "        function geo_json_84131773ad5aec9b91a42e158b513b41_add (data) {\n",
       "            geo_json_84131773ad5aec9b91a42e158b513b41\n",
       "                .addData(data);\n",
       "        }\n",
       "            geo_json_84131773ad5aec9b91a42e158b513b41_add({&quot;features&quot;: [{&quot;geometry&quot;: {&quot;coordinates&quot;: [[[-58.34376031514704, -34.608763866095046], [-58.34376031514704, -34.58944507959928], [-58.3202908402026, -34.58944507959928], [-58.3202908402026, -34.608763866095046], [-58.34376031514704, -34.608763866095046]]], &quot;type&quot;: &quot;Polygon&quot;}, &quot;id&quot;: &quot;0&quot;, &quot;type&quot;: &quot;Feature&quot;}], &quot;type&quot;: &quot;FeatureCollection&quot;});\n",
       "\n",
       "        \n",
       "    \n",
       "            geo_json_84131773ad5aec9b91a42e158b513b41.addTo(map_86df2a7aa3cd2d4e6905691d1f366804);\n",
       "        \n",
       "&lt;/script&gt;\n",
       "&lt;/html&gt;\" style=\"position:absolute;width:100%;height:100%;left:0;top:0;border:none !important;\" allowfullscreen webkitallowfullscreen mozallowfullscreen></iframe></div></div>"
      ],
      "text/plain": [
       "<folium.folium.Map at 0x7f579c51cb50>"
      ]
     },
     "execution_count": 13,
     "metadata": {},
     "output_type": "execute_result"
    }
   ],
   "source": [
    "shape_file_land = gpd.read_file(\"./barriosCABA.geojson\")\n",
    "\n",
    "meters = 2612.61\n",
    "tessellation = tilers.tiler.get(\"squared\", meters=meters, base_shape=shape_file_land)\n",
    "plot_gdf(tessellation, style_func_args={'fillColor':'gray', 'color':'black', 'opacity': 0.2}, zoom = 9) \n"
   ]
  },
  {
   "cell_type": "markdown",
   "metadata": {},
   "source": [
    "DATA"
   ]
  },
  {
   "cell_type": "code",
   "execution_count": 14,
   "metadata": {},
   "outputs": [
    {
     "name": "stdout",
     "output_type": "stream",
     "text": [
      "1380\n",
      "346\n"
     ]
    }
   ],
   "source": [
    "with open(\"./generations/dia/v_train.txt\", \"rb\") as fp:   # Unpickling\n",
    "    v_train = pickle.load(fp)\n",
    "print(len(v_train))\n",
    "\n",
    "\n",
    "with open(\"./generations/dia/v_test.txt\", \"rb\") as fp:   # Unpickling\n",
    "    v_test = pickle.load(fp)\n",
    "print(len(v_test))\n",
    "\n",
    "\n",
    "\n",
    "a = list(enumerate(list(tessellation.tile_ID.values)))\n",
    "d = dict(a)\n",
    "\n",
    "tiles = np.asarray(list(d.values())).astype(int)\n",
    "zeros = np.zeros(tiles.size)\n",
    "lookup = dict(zip(tiles.astype(str), zeros))\n",
    "\n"
   ]
  },
  {
   "cell_type": "markdown",
   "metadata": {},
   "source": [
    "RADIATION"
   ]
  },
  {
   "cell_type": "code",
   "execution_count": 22,
   "metadata": {},
   "outputs": [
    {
     "name": "stderr",
     "output_type": "stream",
     "text": [
      "100%|█████████████████████████████████████████████████████████████████████████████████████████████████████████████████████████████████████████████████████████████████████████████████████████████████████████████████████████████| 64/64 [00:00<00:00, 4615.78it/s]\n"
     ]
    },
    {
     "name": "stdout",
     "output_type": "stream",
     "text": [
      "1\n"
     ]
    },
    {
     "name": "stderr",
     "output_type": "stream",
     "text": [
      "100%|█████████████████████████████████████████████████████████████████████████████████████████████████████████████████████████████████████████████████████████████████████████████████████████████████████████████████████████████| 64/64 [00:00<00:00, 5216.19it/s]\n"
     ]
    },
    {
     "name": "stdout",
     "output_type": "stream",
     "text": [
      "2\n"
     ]
    },
    {
     "name": "stderr",
     "output_type": "stream",
     "text": [
      "100%|█████████████████████████████████████████████████████████████████████████████████████████████████████████████████████████████████████████████████████████████████████████████████████████████████████████████████████████████| 64/64 [00:00<00:00, 4907.68it/s]\n"
     ]
    },
    {
     "name": "stdout",
     "output_type": "stream",
     "text": [
      "3\n"
     ]
    },
    {
     "name": "stderr",
     "output_type": "stream",
     "text": [
      "100%|█████████████████████████████████████████████████████████████████████████████████████████████████████████████████████████████████████████████████████████████████████████████████████████████████████████████████████████████| 64/64 [00:00<00:00, 5087.76it/s]\n"
     ]
    },
    {
     "name": "stdout",
     "output_type": "stream",
     "text": [
      "4\n"
     ]
    },
    {
     "name": "stderr",
     "output_type": "stream",
     "text": [
      "100%|█████████████████████████████████████████████████████████████████████████████████████████████████████████████████████████████████████████████████████████████████████████████████████████████████████████████████████████████| 64/64 [00:00<00:00, 4547.83it/s]\n"
     ]
    },
    {
     "name": "stdout",
     "output_type": "stream",
     "text": [
      "5\n"
     ]
    },
    {
     "name": "stderr",
     "output_type": "stream",
     "text": [
      "100%|█████████████████████████████████████████████████████████████████████████████████████████████████████████████████████████████████████████████████████████████████████████████████████████████████████████████████████████████| 64/64 [00:00<00:00, 5657.23it/s]\n"
     ]
    },
    {
     "name": "stdout",
     "output_type": "stream",
     "text": [
      "6\n"
     ]
    },
    {
     "name": "stderr",
     "output_type": "stream",
     "text": [
      "100%|█████████████████████████████████████████████████████████████████████████████████████████████████████████████████████████████████████████████████████████████████████████████████████████████████████████████████████████████| 64/64 [00:00<00:00, 9998.71it/s]\n"
     ]
    },
    {
     "name": "stdout",
     "output_type": "stream",
     "text": [
      "7\n"
     ]
    },
    {
     "name": "stderr",
     "output_type": "stream",
     "text": [
      "100%|█████████████████████████████████████████████████████████████████████████████████████████████████████████████████████████████████████████████████████████████████████████████████████████████████████████████████████████████| 64/64 [00:00<00:00, 5559.17it/s]\n"
     ]
    },
    {
     "name": "stdout",
     "output_type": "stream",
     "text": [
      "8\n"
     ]
    },
    {
     "name": "stderr",
     "output_type": "stream",
     "text": [
      "100%|█████████████████████████████████████████████████████████████████████████████████████████████████████████████████████████████████████████████████████████████████████████████████████████████████████████████████████████████| 64/64 [00:00<00:00, 4753.09it/s]\n"
     ]
    },
    {
     "name": "stdout",
     "output_type": "stream",
     "text": [
      "9\n"
     ]
    },
    {
     "name": "stderr",
     "output_type": "stream",
     "text": [
      "100%|█████████████████████████████████████████████████████████████████████████████████████████████████████████████████████████████████████████████████████████████████████████████████████████████████████████████████████████████| 64/64 [00:00<00:00, 5514.51it/s]\n"
     ]
    },
    {
     "name": "stdout",
     "output_type": "stream",
     "text": [
      "10\n"
     ]
    },
    {
     "name": "stderr",
     "output_type": "stream",
     "text": [
      "100%|█████████████████████████████████████████████████████████████████████████████████████████████████████████████████████████████████████████████████████████████████████████████████████████████████████████████████████████████| 64/64 [00:00<00:00, 4937.11it/s]\n"
     ]
    },
    {
     "name": "stdout",
     "output_type": "stream",
     "text": [
      "11\n"
     ]
    },
    {
     "name": "stderr",
     "output_type": "stream",
     "text": [
      "100%|█████████████████████████████████████████████████████████████████████████████████████████████████████████████████████████████████████████████████████████████████████████████████████████████████████████████████████████████| 64/64 [00:00<00:00, 4721.74it/s]\n"
     ]
    },
    {
     "name": "stdout",
     "output_type": "stream",
     "text": [
      "12\n"
     ]
    },
    {
     "name": "stderr",
     "output_type": "stream",
     "text": [
      "100%|████████████████████████████████████████████████████████████████████████████████████████████████████████████████████████████████████████████████████████████████████████████████████████████████████████████████████████████| 64/64 [00:00<00:00, 11194.61it/s]\n"
     ]
    },
    {
     "name": "stdout",
     "output_type": "stream",
     "text": [
      "13\n"
     ]
    },
    {
     "name": "stderr",
     "output_type": "stream",
     "text": [
      "100%|████████████████████████████████████████████████████████████████████████████████████████████████████████████████████████████████████████████████████████████████████████████████████████████████████████████████████████████| 64/64 [00:00<00:00, 11605.51it/s]\n"
     ]
    },
    {
     "name": "stdout",
     "output_type": "stream",
     "text": [
      "14\n"
     ]
    },
    {
     "name": "stderr",
     "output_type": "stream",
     "text": [
      "100%|█████████████████████████████████████████████████████████████████████████████████████████████████████████████████████████████████████████████████████████████████████████████████████████████████████████████████████████████| 64/64 [00:00<00:00, 4585.50it/s]\n"
     ]
    },
    {
     "name": "stdout",
     "output_type": "stream",
     "text": [
      "15\n"
     ]
    },
    {
     "name": "stderr",
     "output_type": "stream",
     "text": [
      "100%|█████████████████████████████████████████████████████████████████████████████████████████████████████████████████████████████████████████████████████████████████████████████████████████████████████████████████████████████| 64/64 [00:00<00:00, 9766.97it/s]\n"
     ]
    },
    {
     "name": "stdout",
     "output_type": "stream",
     "text": [
      "16\n"
     ]
    },
    {
     "name": "stderr",
     "output_type": "stream",
     "text": [
      "100%|█████████████████████████████████████████████████████████████████████████████████████████████████████████████████████████████████████████████████████████████████████████████████████████████████████████████████████████████| 64/64 [00:00<00:00, 4561.12it/s]\n"
     ]
    },
    {
     "name": "stdout",
     "output_type": "stream",
     "text": [
      "17\n"
     ]
    },
    {
     "name": "stderr",
     "output_type": "stream",
     "text": [
      "100%|█████████████████████████████████████████████████████████████████████████████████████████████████████████████████████████████████████████████████████████████████████████████████████████████████████████████████████████████| 64/64 [00:00<00:00, 4227.60it/s]\n"
     ]
    },
    {
     "name": "stdout",
     "output_type": "stream",
     "text": [
      "18\n"
     ]
    },
    {
     "name": "stderr",
     "output_type": "stream",
     "text": [
      "100%|█████████████████████████████████████████████████████████████████████████████████████████████████████████████████████████████████████████████████████████████████████████████████████████████████████████████████████████████| 64/64 [00:00<00:00, 5717.23it/s]\n"
     ]
    },
    {
     "name": "stdout",
     "output_type": "stream",
     "text": [
      "19\n"
     ]
    },
    {
     "name": "stderr",
     "output_type": "stream",
     "text": [
      "100%|█████████████████████████████████████████████████████████████████████████████████████████████████████████████████████████████████████████████████████████████████████████████████████████████████████████████████████████████| 64/64 [00:00<00:00, 4651.05it/s]\n"
     ]
    },
    {
     "name": "stdout",
     "output_type": "stream",
     "text": [
      "20\n"
     ]
    },
    {
     "name": "stderr",
     "output_type": "stream",
     "text": [
      "100%|█████████████████████████████████████████████████████████████████████████████████████████████████████████████████████████████████████████████████████████████████████████████████████████████████████████████████████████████| 64/64 [00:00<00:00, 4702.88it/s]\n"
     ]
    },
    {
     "name": "stdout",
     "output_type": "stream",
     "text": [
      "21\n"
     ]
    },
    {
     "name": "stderr",
     "output_type": "stream",
     "text": [
      "100%|████████████████████████████████████████████████████████████████████████████████████████████████████████████████████████████████████████████████████████████████████████████████████████████████████████████████████████████| 64/64 [00:00<00:00, 11029.03it/s]\n"
     ]
    },
    {
     "name": "stdout",
     "output_type": "stream",
     "text": [
      "22\n"
     ]
    },
    {
     "name": "stderr",
     "output_type": "stream",
     "text": [
      "100%|█████████████████████████████████████████████████████████████████████████████████████████████████████████████████████████████████████████████████████████████████████████████████████████████████████████████████████████████| 64/64 [00:00<00:00, 4341.44it/s]\n"
     ]
    },
    {
     "name": "stdout",
     "output_type": "stream",
     "text": [
      "23\n"
     ]
    },
    {
     "name": "stderr",
     "output_type": "stream",
     "text": [
      "100%|█████████████████████████████████████████████████████████████████████████████████████████████████████████████████████████████████████████████████████████████████████████████████████████████████████████████████████████████| 64/64 [00:00<00:00, 5497.46it/s]\n"
     ]
    },
    {
     "name": "stdout",
     "output_type": "stream",
     "text": [
      "24\n"
     ]
    },
    {
     "name": "stderr",
     "output_type": "stream",
     "text": [
      "100%|████████████████████████████████████████████████████████████████████████████████████████████████████████████████████████████████████████████████████████████████████████████████████████████████████████████████████████████| 64/64 [00:00<00:00, 10876.64it/s]\n"
     ]
    },
    {
     "name": "stdout",
     "output_type": "stream",
     "text": [
      "25\n"
     ]
    },
    {
     "name": "stderr",
     "output_type": "stream",
     "text": [
      "100%|█████████████████████████████████████████████████████████████████████████████████████████████████████████████████████████████████████████████████████████████████████████████████████████████████████████████████████████████| 64/64 [00:00<00:00, 5948.44it/s]\n"
     ]
    },
    {
     "name": "stdout",
     "output_type": "stream",
     "text": [
      "26\n"
     ]
    },
    {
     "name": "stderr",
     "output_type": "stream",
     "text": [
      "100%|█████████████████████████████████████████████████████████████████████████████████████████████████████████████████████████████████████████████████████████████████████████████████████████████████████████████████████████████| 64/64 [00:00<00:00, 4148.86it/s]\n"
     ]
    },
    {
     "name": "stdout",
     "output_type": "stream",
     "text": [
      "27\n"
     ]
    },
    {
     "name": "stderr",
     "output_type": "stream",
     "text": [
      "100%|████████████████████████████████████████████████████████████████████████████████████████████████████████████████████████████████████████████████████████████████████████████████████████████████████████████████████████████| 64/64 [00:00<00:00, 10362.30it/s]\n"
     ]
    },
    {
     "name": "stdout",
     "output_type": "stream",
     "text": [
      "28\n"
     ]
    },
    {
     "name": "stderr",
     "output_type": "stream",
     "text": [
      "100%|█████████████████████████████████████████████████████████████████████████████████████████████████████████████████████████████████████████████████████████████████████████████████████████████████████████████████████████████| 64/64 [00:00<00:00, 5200.62it/s]\n"
     ]
    },
    {
     "name": "stdout",
     "output_type": "stream",
     "text": [
      "29\n"
     ]
    },
    {
     "name": "stderr",
     "output_type": "stream",
     "text": [
      "100%|█████████████████████████████████████████████████████████████████████████████████████████████████████████████████████████████████████████████████████████████████████████████████████████████████████████████████████████████| 64/64 [00:00<00:00, 4361.47it/s]\n"
     ]
    },
    {
     "name": "stdout",
     "output_type": "stream",
     "text": [
      "30\n"
     ]
    },
    {
     "name": "stderr",
     "output_type": "stream",
     "text": [
      "100%|█████████████████████████████████████████████████████████████████████████████████████████████████████████████████████████████████████████████████████████████████████████████████████████████████████████████████████████████| 64/64 [00:00<00:00, 5229.30it/s]\n"
     ]
    },
    {
     "name": "stdout",
     "output_type": "stream",
     "text": [
      "31\n"
     ]
    },
    {
     "name": "stderr",
     "output_type": "stream",
     "text": [
      "100%|████████████████████████████████████████████████████████████████████████████████████████████████████████████████████████████████████████████████████████████████████████████████████████████████████████████████████████████| 64/64 [00:00<00:00, 11314.93it/s]\n"
     ]
    },
    {
     "name": "stdout",
     "output_type": "stream",
     "text": [
      "32\n"
     ]
    },
    {
     "name": "stderr",
     "output_type": "stream",
     "text": [
      "100%|█████████████████████████████████████████████████████████████████████████████████████████████████████████████████████████████████████████████████████████████████████████████████████████████████████████████████████████████| 64/64 [00:00<00:00, 8974.47it/s]\n"
     ]
    },
    {
     "name": "stdout",
     "output_type": "stream",
     "text": [
      "33\n"
     ]
    },
    {
     "name": "stderr",
     "output_type": "stream",
     "text": [
      "100%|█████████████████████████████████████████████████████████████████████████████████████████████████████████████████████████████████████████████████████████████████████████████████████████████████████████████████████████████| 64/64 [00:00<00:00, 3394.18it/s]\n"
     ]
    },
    {
     "name": "stdout",
     "output_type": "stream",
     "text": [
      "34\n"
     ]
    },
    {
     "name": "stderr",
     "output_type": "stream",
     "text": [
      "100%|█████████████████████████████████████████████████████████████████████████████████████████████████████████████████████████████████████████████████████████████████████████████████████████████████████████████████████████████| 64/64 [00:00<00:00, 4105.77it/s]"
     ]
    },
    {
     "name": "stdout",
     "output_type": "stream",
     "text": [
      "35\n"
     ]
    },
    {
     "name": "stderr",
     "output_type": "stream",
     "text": [
      "\n",
      "100%|█████████████████████████████████████████████████████████████████████████████████████████████████████████████████████████████████████████████████████████████████████████████████████████████████████████████████████████████| 64/64 [00:00<00:00, 5819.87it/s]"
     ]
    },
    {
     "name": "stdout",
     "output_type": "stream",
     "text": [
      "36\n"
     ]
    },
    {
     "name": "stderr",
     "output_type": "stream",
     "text": [
      "\n",
      "100%|█████████████████████████████████████████████████████████████████████████████████████████████████████████████████████████████████████████████████████████████████████████████████████████████████████████████████████████████| 64/64 [00:00<00:00, 4490.61it/s]\n"
     ]
    },
    {
     "name": "stdout",
     "output_type": "stream",
     "text": [
      "37\n"
     ]
    },
    {
     "name": "stderr",
     "output_type": "stream",
     "text": [
      "100%|█████████████████████████████████████████████████████████████████████████████████████████████████████████████████████████████████████████████████████████████████████████████████████████████████████████████████████████████| 64/64 [00:00<00:00, 4652.99it/s]\n"
     ]
    },
    {
     "name": "stdout",
     "output_type": "stream",
     "text": [
      "38\n"
     ]
    },
    {
     "name": "stderr",
     "output_type": "stream",
     "text": [
      "100%|█████████████████████████████████████████████████████████████████████████████████████████████████████████████████████████████████████████████████████████████████████████████████████████████████████████████████████████████| 64/64 [00:00<00:00, 4708.40it/s]\n"
     ]
    },
    {
     "name": "stdout",
     "output_type": "stream",
     "text": [
      "39\n"
     ]
    },
    {
     "name": "stderr",
     "output_type": "stream",
     "text": [
      "100%|█████████████████████████████████████████████████████████████████████████████████████████████████████████████████████████████████████████████████████████████████████████████████████████████████████████████████████████████| 64/64 [00:00<00:00, 4183.71it/s]\n"
     ]
    },
    {
     "name": "stdout",
     "output_type": "stream",
     "text": [
      "40\n"
     ]
    },
    {
     "name": "stderr",
     "output_type": "stream",
     "text": [
      "100%|██████████████████████████████████████████████████████████████████████████████████████████████████████████████████████████████████████████████████████████████████████████████████████████████████████████████████████████████| 64/64 [00:00<00:00, 676.36it/s]\n"
     ]
    },
    {
     "name": "stdout",
     "output_type": "stream",
     "text": [
      "41\n"
     ]
    },
    {
     "name": "stderr",
     "output_type": "stream",
     "text": [
      "100%|█████████████████████████████████████████████████████████████████████████████████████████████████████████████████████████████████████████████████████████████████████████████████████████████████████████████████████████████| 64/64 [00:00<00:00, 4213.13it/s]\n"
     ]
    },
    {
     "name": "stdout",
     "output_type": "stream",
     "text": [
      "42\n"
     ]
    },
    {
     "name": "stderr",
     "output_type": "stream",
     "text": [
      "100%|█████████████████████████████████████████████████████████████████████████████████████████████████████████████████████████████████████████████████████████████████████████████████████████████████████████████████████████████| 64/64 [00:00<00:00, 4288.65it/s]\n"
     ]
    },
    {
     "name": "stdout",
     "output_type": "stream",
     "text": [
      "43\n"
     ]
    },
    {
     "name": "stderr",
     "output_type": "stream",
     "text": [
      "100%|█████████████████████████████████████████████████████████████████████████████████████████████████████████████████████████████████████████████████████████████████████████████████████████████████████████████████████████████| 64/64 [00:00<00:00, 4216.64it/s]\n"
     ]
    },
    {
     "name": "stdout",
     "output_type": "stream",
     "text": [
      "44\n"
     ]
    },
    {
     "name": "stderr",
     "output_type": "stream",
     "text": [
      "100%|█████████████████████████████████████████████████████████████████████████████████████████████████████████████████████████████████████████████████████████████████████████████████████████████████████████████████████████████| 64/64 [00:00<00:00, 5155.38it/s]\n"
     ]
    },
    {
     "name": "stdout",
     "output_type": "stream",
     "text": [
      "45\n"
     ]
    },
    {
     "name": "stderr",
     "output_type": "stream",
     "text": [
      "100%|█████████████████████████████████████████████████████████████████████████████████████████████████████████████████████████████████████████████████████████████████████████████████████████████████████████████████████████████| 64/64 [00:00<00:00, 4530.10it/s]\n"
     ]
    },
    {
     "name": "stdout",
     "output_type": "stream",
     "text": [
      "46\n"
     ]
    },
    {
     "name": "stderr",
     "output_type": "stream",
     "text": [
      "100%|█████████████████████████████████████████████████████████████████████████████████████████████████████████████████████████████████████████████████████████████████████████████████████████████████████████████████████████████| 64/64 [00:00<00:00, 4831.28it/s]\n"
     ]
    },
    {
     "name": "stdout",
     "output_type": "stream",
     "text": [
      "47\n"
     ]
    },
    {
     "name": "stderr",
     "output_type": "stream",
     "text": [
      "100%|█████████████████████████████████████████████████████████████████████████████████████████████████████████████████████████████████████████████████████████████████████████████████████████████████████████████████████████████| 64/64 [00:00<00:00, 5654.96it/s]\n"
     ]
    },
    {
     "name": "stdout",
     "output_type": "stream",
     "text": [
      "48\n"
     ]
    },
    {
     "name": "stderr",
     "output_type": "stream",
     "text": [
      "100%|█████████████████████████████████████████████████████████████████████████████████████████████████████████████████████████████████████████████████████████████████████████████████████████████████████████████████████████████| 64/64 [00:00<00:00, 4571.84it/s]\n"
     ]
    },
    {
     "name": "stdout",
     "output_type": "stream",
     "text": [
      "49\n"
     ]
    },
    {
     "name": "stderr",
     "output_type": "stream",
     "text": [
      "100%|█████████████████████████████████████████████████████████████████████████████████████████████████████████████████████████████████████████████████████████████████████████████████████████████████████████████████████████████| 64/64 [00:00<00:00, 4899.08it/s]\n"
     ]
    },
    {
     "name": "stdout",
     "output_type": "stream",
     "text": [
      "50\n"
     ]
    },
    {
     "name": "stderr",
     "output_type": "stream",
     "text": [
      "100%|████████████████████████████████████████████████████████████████████████████████████████████████████████████████████████████████████████████████████████████████████████████████████████████████████████████████████████████| 64/64 [00:00<00:00, 11226.44it/s]\n"
     ]
    },
    {
     "name": "stdout",
     "output_type": "stream",
     "text": [
      "51\n"
     ]
    },
    {
     "name": "stderr",
     "output_type": "stream",
     "text": [
      "100%|█████████████████████████████████████████████████████████████████████████████████████████████████████████████████████████████████████████████████████████████████████████████████████████████████████████████████████████████| 64/64 [00:00<00:00, 4333.73it/s]\n"
     ]
    },
    {
     "name": "stdout",
     "output_type": "stream",
     "text": [
      "52\n"
     ]
    },
    {
     "name": "stderr",
     "output_type": "stream",
     "text": [
      "100%|█████████████████████████████████████████████████████████████████████████████████████████████████████████████████████████████████████████████████████████████████████████████████████████████████████████████████████████████| 64/64 [00:00<00:00, 5807.90it/s]\n"
     ]
    },
    {
     "name": "stdout",
     "output_type": "stream",
     "text": [
      "53\n"
     ]
    },
    {
     "name": "stderr",
     "output_type": "stream",
     "text": [
      "100%|█████████████████████████████████████████████████████████████████████████████████████████████████████████████████████████████████████████████████████████████████████████████████████████████████████████████████████████████| 64/64 [00:00<00:00, 4395.90it/s]\n"
     ]
    },
    {
     "name": "stdout",
     "output_type": "stream",
     "text": [
      "54\n"
     ]
    },
    {
     "name": "stderr",
     "output_type": "stream",
     "text": [
      "100%|█████████████████████████████████████████████████████████████████████████████████████████████████████████████████████████████████████████████████████████████████████████████████████████████████████████████████████████████| 64/64 [00:00<00:00, 4547.83it/s]\n"
     ]
    },
    {
     "name": "stdout",
     "output_type": "stream",
     "text": [
      "55\n"
     ]
    },
    {
     "name": "stderr",
     "output_type": "stream",
     "text": [
      "100%|█████████████████████████████████████████████████████████████████████████████████████████████████████████████████████████████████████████████████████████████████████████████████████████████████████████████████████████████| 64/64 [00:00<00:00, 4787.25it/s]\n"
     ]
    },
    {
     "name": "stdout",
     "output_type": "stream",
     "text": [
      "56\n"
     ]
    },
    {
     "name": "stderr",
     "output_type": "stream",
     "text": [
      "100%|█████████████████████████████████████████████████████████████████████████████████████████████████████████████████████████████████████████████████████████████████████████████████████████████████████████████████████████████| 64/64 [00:00<00:00, 4908.67it/s]\n"
     ]
    },
    {
     "name": "stdout",
     "output_type": "stream",
     "text": [
      "57\n"
     ]
    },
    {
     "name": "stderr",
     "output_type": "stream",
     "text": [
      "100%|█████████████████████████████████████████████████████████████████████████████████████████████████████████████████████████████████████████████████████████████████████████████████████████████████████████████████████████████| 64/64 [00:00<00:00, 4337.65it/s]\n"
     ]
    },
    {
     "name": "stdout",
     "output_type": "stream",
     "text": [
      "58\n"
     ]
    },
    {
     "name": "stderr",
     "output_type": "stream",
     "text": [
      "100%|█████████████████████████████████████████████████████████████████████████████████████████████████████████████████████████████████████████████████████████████████████████████████████████████████████████████████████████████| 64/64 [00:00<00:00, 4507.81it/s]"
     ]
    },
    {
     "name": "stdout",
     "output_type": "stream",
     "text": [
      "59\n"
     ]
    },
    {
     "name": "stderr",
     "output_type": "stream",
     "text": [
      "\n",
      "100%|█████████████████████████████████████████████████████████████████████████████████████████████████████████████████████████████████████████████████████████████████████████████████████████████████████████████████████████████| 64/64 [00:00<00:00, 5821.13it/s]\n"
     ]
    },
    {
     "name": "stdout",
     "output_type": "stream",
     "text": [
      "60\n"
     ]
    },
    {
     "name": "stderr",
     "output_type": "stream",
     "text": [
      "100%|█████████████████████████████████████████████████████████████████████████████████████████████████████████████████████████████████████████████████████████████████████████████████████████████████████████████████████████████| 64/64 [00:00<00:00, 5045.02it/s]\n"
     ]
    },
    {
     "name": "stdout",
     "output_type": "stream",
     "text": [
      "61\n"
     ]
    },
    {
     "name": "stderr",
     "output_type": "stream",
     "text": [
      "100%|█████████████████████████████████████████████████████████████████████████████████████████████████████████████████████████████████████████████████████████████████████████████████████████████████████████████████████████████| 64/64 [00:00<00:00, 5189.06it/s]\n"
     ]
    },
    {
     "name": "stdout",
     "output_type": "stream",
     "text": [
      "62\n"
     ]
    },
    {
     "name": "stderr",
     "output_type": "stream",
     "text": [
      "100%|████████████████████████████████████████████████████████████████████████████████████████████████████████████████████████████████████████████████████████████████████████████████████████████████████████████████████████████| 64/64 [00:00<00:00, 10844.12it/s]\n"
     ]
    },
    {
     "name": "stdout",
     "output_type": "stream",
     "text": [
      "63\n"
     ]
    },
    {
     "name": "stderr",
     "output_type": "stream",
     "text": [
      "100%|█████████████████████████████████████████████████████████████████████████████████████████████████████████████████████████████████████████████████████████████████████████████████████████████████████████████████████████████| 64/64 [00:00<00:00, 5478.72it/s]\n"
     ]
    },
    {
     "name": "stdout",
     "output_type": "stream",
     "text": [
      "64\n"
     ]
    },
    {
     "name": "stderr",
     "output_type": "stream",
     "text": [
      "100%|█████████████████████████████████████████████████████████████████████████████████████████████████████████████████████████████████████████████████████████████████████████████████████████████████████████████████████████████| 64/64 [00:00<00:00, 5278.76it/s]\n"
     ]
    },
    {
     "name": "stdout",
     "output_type": "stream",
     "text": [
      "65\n"
     ]
    },
    {
     "name": "stderr",
     "output_type": "stream",
     "text": [
      "100%|█████████████████████████████████████████████████████████████████████████████████████████████████████████████████████████████████████████████████████████████████████████████████████████████████████████████████████████████| 64/64 [00:00<00:00, 4318.32it/s]\n"
     ]
    },
    {
     "name": "stdout",
     "output_type": "stream",
     "text": [
      "66\n"
     ]
    },
    {
     "name": "stderr",
     "output_type": "stream",
     "text": [
      "100%|█████████████████████████████████████████████████████████████████████████████████████████████████████████████████████████████████████████████████████████████████████████████████████████████████████████████████████████████| 64/64 [00:00<00:00, 3971.00it/s]\n"
     ]
    },
    {
     "name": "stdout",
     "output_type": "stream",
     "text": [
      "67\n"
     ]
    },
    {
     "name": "stderr",
     "output_type": "stream",
     "text": [
      "100%|█████████████████████████████████████████████████████████████████████████████████████████████████████████████████████████████████████████████████████████████████████████████████████████████████████████████████████████████| 64/64 [00:00<00:00, 4201.13it/s]\n"
     ]
    },
    {
     "name": "stdout",
     "output_type": "stream",
     "text": [
      "68\n"
     ]
    },
    {
     "name": "stderr",
     "output_type": "stream",
     "text": [
      "100%|█████████████████████████████████████████████████████████████████████████████████████████████████████████████████████████████████████████████████████████████████████████████████████████████████████████████████████████████| 64/64 [00:00<00:00, 3858.55it/s]\n"
     ]
    },
    {
     "name": "stdout",
     "output_type": "stream",
     "text": [
      "69\n"
     ]
    },
    {
     "name": "stderr",
     "output_type": "stream",
     "text": [
      "100%|█████████████████████████████████████████████████████████████████████████████████████████████████████████████████████████████████████████████████████████████████████████████████████████████████████████████████████████████| 64/64 [00:00<00:00, 4858.91it/s]\n"
     ]
    },
    {
     "name": "stdout",
     "output_type": "stream",
     "text": [
      "70\n"
     ]
    },
    {
     "name": "stderr",
     "output_type": "stream",
     "text": [
      "100%|█████████████████████████████████████████████████████████████████████████████████████████████████████████████████████████████████████████████████████████████████████████████████████████████████████████████████████████████| 64/64 [00:00<00:00, 4572.85it/s]\n"
     ]
    },
    {
     "name": "stdout",
     "output_type": "stream",
     "text": [
      "71\n"
     ]
    },
    {
     "name": "stderr",
     "output_type": "stream",
     "text": [
      "100%|█████████████████████████████████████████████████████████████████████████████████████████████████████████████████████████████████████████████████████████████████████████████████████████████████████████████████████████████| 64/64 [00:00<00:00, 4487.16it/s]\n"
     ]
    },
    {
     "name": "stdout",
     "output_type": "stream",
     "text": [
      "72\n"
     ]
    },
    {
     "name": "stderr",
     "output_type": "stream",
     "text": [
      "100%|█████████████████████████████████████████████████████████████████████████████████████████████████████████████████████████████████████████████████████████████████████████████████████████████████████████████████████████████| 64/64 [00:00<00:00, 9725.22it/s]\n"
     ]
    },
    {
     "name": "stdout",
     "output_type": "stream",
     "text": [
      "73\n"
     ]
    },
    {
     "name": "stderr",
     "output_type": "stream",
     "text": [
      "100%|█████████████████████████████████████████████████████████████████████████████████████████████████████████████████████████████████████████████████████████████████████████████████████████████████████████████████████████████| 64/64 [00:00<00:00, 4330.02it/s]\n"
     ]
    },
    {
     "name": "stdout",
     "output_type": "stream",
     "text": [
      "74\n"
     ]
    },
    {
     "name": "stderr",
     "output_type": "stream",
     "text": [
      "100%|█████████████████████████████████████████████████████████████████████████████████████████████████████████████████████████████████████████████████████████████████████████████████████████████████████████████████████████████| 64/64 [00:00<00:00, 6053.62it/s]\n"
     ]
    },
    {
     "name": "stdout",
     "output_type": "stream",
     "text": [
      "75\n"
     ]
    },
    {
     "name": "stderr",
     "output_type": "stream",
     "text": [
      "100%|█████████████████████████████████████████████████████████████████████████████████████████████████████████████████████████████████████████████████████████████████████████████████████████████████████████████████████████████| 64/64 [00:00<00:00, 4747.04it/s]\n"
     ]
    },
    {
     "name": "stdout",
     "output_type": "stream",
     "text": [
      "76\n"
     ]
    },
    {
     "name": "stderr",
     "output_type": "stream",
     "text": [
      "100%|█████████████████████████████████████████████████████████████████████████████████████████████████████████████████████████████████████████████████████████████████████████████████████████████████████████████████████████████| 64/64 [00:00<00:00, 9130.77it/s]\n"
     ]
    },
    {
     "name": "stdout",
     "output_type": "stream",
     "text": [
      "77\n"
     ]
    },
    {
     "name": "stderr",
     "output_type": "stream",
     "text": [
      "100%|█████████████████████████████████████████████████████████████████████████████████████████████████████████████████████████████████████████████████████████████████████████████████████████████████████████████████████████████| 64/64 [00:00<00:00, 4899.35it/s]\n"
     ]
    },
    {
     "name": "stdout",
     "output_type": "stream",
     "text": [
      "78\n"
     ]
    },
    {
     "name": "stderr",
     "output_type": "stream",
     "text": [
      "100%|█████████████████████████████████████████████████████████████████████████████████████████████████████████████████████████████████████████████████████████████████████████████████████████████████████████████████████████████| 64/64 [00:00<00:00, 4561.20it/s]\n"
     ]
    },
    {
     "name": "stdout",
     "output_type": "stream",
     "text": [
      "79\n"
     ]
    },
    {
     "name": "stderr",
     "output_type": "stream",
     "text": [
      "100%|████████████████████████████████████████████████████████████████████████████████████████████████████████████████████████████████████████████████████████████████████████████████████████████████████████████████████████████| 64/64 [00:00<00:00, 11011.83it/s]\n"
     ]
    },
    {
     "name": "stdout",
     "output_type": "stream",
     "text": [
      "80\n"
     ]
    },
    {
     "name": "stderr",
     "output_type": "stream",
     "text": [
      "100%|█████████████████████████████████████████████████████████████████████████████████████████████████████████████████████████████████████████████████████████████████████████████████████████████████████████████████████████████| 64/64 [00:00<00:00, 4839.29it/s]\n"
     ]
    },
    {
     "name": "stdout",
     "output_type": "stream",
     "text": [
      "81\n"
     ]
    },
    {
     "name": "stderr",
     "output_type": "stream",
     "text": [
      "100%|█████████████████████████████████████████████████████████████████████████████████████████████████████████████████████████████████████████████████████████████████████████████████████████████████████████████████████████████| 64/64 [00:00<00:00, 6102.33it/s]"
     ]
    },
    {
     "name": "stdout",
     "output_type": "stream",
     "text": [
      "82\n"
     ]
    },
    {
     "name": "stderr",
     "output_type": "stream",
     "text": [
      "\n",
      "100%|█████████████████████████████████████████████████████████████████████████████████████████████████████████████████████████████████████████████████████████████████████████████████████████████████████████████████████████████| 64/64 [00:00<00:00, 3759.02it/s]\n"
     ]
    },
    {
     "name": "stdout",
     "output_type": "stream",
     "text": [
      "83\n"
     ]
    },
    {
     "name": "stderr",
     "output_type": "stream",
     "text": [
      "100%|█████████████████████████████████████████████████████████████████████████████████████████████████████████████████████████████████████████████████████████████████████████████████████████████████████████████████████████████| 64/64 [00:00<00:00, 5261.79it/s]\n"
     ]
    },
    {
     "name": "stdout",
     "output_type": "stream",
     "text": [
      "84\n"
     ]
    },
    {
     "name": "stderr",
     "output_type": "stream",
     "text": [
      "100%|█████████████████████████████████████████████████████████████████████████████████████████████████████████████████████████████████████████████████████████████████████████████████████████████████████████████████████████████| 64/64 [00:00<00:00, 5678.29it/s]\n"
     ]
    },
    {
     "name": "stdout",
     "output_type": "stream",
     "text": [
      "85\n"
     ]
    },
    {
     "name": "stderr",
     "output_type": "stream",
     "text": [
      "100%|█████████████████████████████████████████████████████████████████████████████████████████████████████████████████████████████████████████████████████████████████████████████████████████████████████████████████████████████| 64/64 [00:00<00:00, 5819.23it/s]\n"
     ]
    },
    {
     "name": "stdout",
     "output_type": "stream",
     "text": [
      "86\n"
     ]
    },
    {
     "name": "stderr",
     "output_type": "stream",
     "text": [
      "100%|█████████████████████████████████████████████████████████████████████████████████████████████████████████████████████████████████████████████████████████████████████████████████████████████████████████████████████████████| 64/64 [00:00<00:00, 4257.43it/s]\n"
     ]
    },
    {
     "name": "stdout",
     "output_type": "stream",
     "text": [
      "87\n"
     ]
    },
    {
     "name": "stderr",
     "output_type": "stream",
     "text": [
      "100%|████████████████████████████████████████████████████████████████████████████████████████████████████████████████████████████████████████████████████████████████████████████████████████████████████████████████████████████| 64/64 [00:00<00:00, 12129.93it/s]\n"
     ]
    },
    {
     "name": "stdout",
     "output_type": "stream",
     "text": [
      "88\n"
     ]
    },
    {
     "name": "stderr",
     "output_type": "stream",
     "text": [
      "100%|█████████████████████████████████████████████████████████████████████████████████████████████████████████████████████████████████████████████████████████████████████████████████████████████████████████████████████████████| 64/64 [00:00<00:00, 5021.24it/s]\n"
     ]
    },
    {
     "name": "stdout",
     "output_type": "stream",
     "text": [
      "89\n"
     ]
    },
    {
     "name": "stderr",
     "output_type": "stream",
     "text": [
      "100%|█████████████████████████████████████████████████████████████████████████████████████████████████████████████████████████████████████████████████████████████████████████████████████████████████████████████████████████████| 64/64 [00:00<00:00, 5860.78it/s]\n"
     ]
    },
    {
     "name": "stdout",
     "output_type": "stream",
     "text": [
      "90\n"
     ]
    },
    {
     "name": "stderr",
     "output_type": "stream",
     "text": [
      "100%|█████████████████████████████████████████████████████████████████████████████████████████████████████████████████████████████████████████████████████████████████████████████████████████████████████████████████████████████| 64/64 [00:00<00:00, 4402.67it/s]\n"
     ]
    },
    {
     "name": "stdout",
     "output_type": "stream",
     "text": [
      "91\n"
     ]
    },
    {
     "name": "stderr",
     "output_type": "stream",
     "text": [
      "100%|█████████████████████████████████████████████████████████████████████████████████████████████████████████████████████████████████████████████████████████████████████████████████████████████████████████████████████████████| 64/64 [00:00<00:00, 4320.34it/s]\n"
     ]
    },
    {
     "name": "stdout",
     "output_type": "stream",
     "text": [
      "92\n"
     ]
    },
    {
     "name": "stderr",
     "output_type": "stream",
     "text": [
      "100%|█████████████████████████████████████████████████████████████████████████████████████████████████████████████████████████████████████████████████████████████████████████████████████████████████████████████████████████████| 64/64 [00:00<00:00, 5629.23it/s]\n"
     ]
    },
    {
     "name": "stdout",
     "output_type": "stream",
     "text": [
      "93\n"
     ]
    },
    {
     "name": "stderr",
     "output_type": "stream",
     "text": [
      "100%|████████████████████████████████████████████████████████████████████████████████████████████████████████████████████████████████████████████████████████████████████████████████████████████████████████████████████████████| 64/64 [00:00<00:00, 10425.49it/s]\n"
     ]
    },
    {
     "name": "stdout",
     "output_type": "stream",
     "text": [
      "94\n"
     ]
    },
    {
     "name": "stderr",
     "output_type": "stream",
     "text": [
      "100%|█████████████████████████████████████████████████████████████████████████████████████████████████████████████████████████████████████████████████████████████████████████████████████████████████████████████████████████████| 64/64 [00:00<00:00, 4538.37it/s]\n"
     ]
    },
    {
     "name": "stdout",
     "output_type": "stream",
     "text": [
      "95\n"
     ]
    },
    {
     "name": "stderr",
     "output_type": "stream",
     "text": [
      "100%|█████████████████████████████████████████████████████████████████████████████████████████████████████████████████████████████████████████████████████████████████████████████████████████████████████████████████████████████| 64/64 [00:00<00:00, 4089.39it/s]\n"
     ]
    },
    {
     "name": "stdout",
     "output_type": "stream",
     "text": [
      "96\n"
     ]
    },
    {
     "name": "stderr",
     "output_type": "stream",
     "text": [
      "100%|█████████████████████████████████████████████████████████████████████████████████████████████████████████████████████████████████████████████████████████████████████████████████████████████████████████████████████████████| 64/64 [00:00<00:00, 4416.15it/s]\n"
     ]
    },
    {
     "name": "stdout",
     "output_type": "stream",
     "text": [
      "97\n"
     ]
    },
    {
     "name": "stderr",
     "output_type": "stream",
     "text": [
      "100%|████████████████████████████████████████████████████████████████████████████████████████████████████████████████████████████████████████████████████████████████████████████████████████████████████████████████████████████| 64/64 [00:00<00:00, 11286.86it/s]\n"
     ]
    },
    {
     "name": "stdout",
     "output_type": "stream",
     "text": [
      "98\n"
     ]
    },
    {
     "name": "stderr",
     "output_type": "stream",
     "text": [
      "100%|█████████████████████████████████████████████████████████████████████████████████████████████████████████████████████████████████████████████████████████████████████████████████████████████████████████████████████████████| 64/64 [00:00<00:00, 3878.96it/s]\n"
     ]
    },
    {
     "name": "stdout",
     "output_type": "stream",
     "text": [
      "99\n"
     ]
    },
    {
     "name": "stderr",
     "output_type": "stream",
     "text": [
      "100%|█████████████████████████████████████████████████████████████████████████████████████████████████████████████████████████████████████████████████████████████████████████████████████████████████████████████████████████████| 64/64 [00:00<00:00, 4071.40it/s]\n"
     ]
    },
    {
     "name": "stdout",
     "output_type": "stream",
     "text": [
      "100\n"
     ]
    },
    {
     "name": "stderr",
     "output_type": "stream",
     "text": [
      "100%|████████████████████████████████████████████████████████████████████████████████████████████████████████████████████████████████████████████████████████████████████████████████████████████████████████████████████████████| 64/64 [00:00<00:00, 10704.45it/s]\n"
     ]
    },
    {
     "name": "stdout",
     "output_type": "stream",
     "text": [
      "101\n"
     ]
    },
    {
     "name": "stderr",
     "output_type": "stream",
     "text": [
      "100%|█████████████████████████████████████████████████████████████████████████████████████████████████████████████████████████████████████████████████████████████████████████████████████████████████████████████████████████████| 64/64 [00:00<00:00, 9632.39it/s]\n"
     ]
    },
    {
     "name": "stdout",
     "output_type": "stream",
     "text": [
      "102\n"
     ]
    },
    {
     "name": "stderr",
     "output_type": "stream",
     "text": [
      "100%|█████████████████████████████████████████████████████████████████████████████████████████████████████████████████████████████████████████████████████████████████████████████████████████████████████████████████████████████| 64/64 [00:00<00:00, 4874.79it/s]\n"
     ]
    },
    {
     "name": "stdout",
     "output_type": "stream",
     "text": [
      "103\n"
     ]
    },
    {
     "name": "stderr",
     "output_type": "stream",
     "text": [
      "100%|████████████████████████████████████████████████████████████████████████████████████████████████████████████████████████████████████████████████████████████████████████████████████████████████████████████████████████████| 64/64 [00:00<00:00, 10476.76it/s]\n"
     ]
    },
    {
     "name": "stdout",
     "output_type": "stream",
     "text": [
      "104\n"
     ]
    },
    {
     "name": "stderr",
     "output_type": "stream",
     "text": [
      "100%|█████████████████████████████████████████████████████████████████████████████████████████████████████████████████████████████████████████████████████████████████████████████████████████████████████████████████████████████| 64/64 [00:00<00:00, 5084.68it/s]\n"
     ]
    },
    {
     "name": "stdout",
     "output_type": "stream",
     "text": [
      "105\n"
     ]
    },
    {
     "name": "stderr",
     "output_type": "stream",
     "text": [
      "100%|█████████████████████████████████████████████████████████████████████████████████████████████████████████████████████████████████████████████████████████████████████████████████████████████████████████████████████████████| 64/64 [00:00<00:00, 4400.36it/s]\n"
     ]
    },
    {
     "name": "stdout",
     "output_type": "stream",
     "text": [
      "106\n"
     ]
    },
    {
     "name": "stderr",
     "output_type": "stream",
     "text": [
      "100%|█████████████████████████████████████████████████████████████████████████████████████████████████████████████████████████████████████████████████████████████████████████████████████████████████████████████████████████████| 64/64 [00:00<00:00, 4680.82it/s]\n"
     ]
    },
    {
     "name": "stdout",
     "output_type": "stream",
     "text": [
      "107\n"
     ]
    },
    {
     "name": "stderr",
     "output_type": "stream",
     "text": [
      "100%|█████████████████████████████████████████████████████████████████████████████████████████████████████████████████████████████████████████████████████████████████████████████████████████████████████████████████████████████| 64/64 [00:00<00:00, 4605.41it/s]\n"
     ]
    },
    {
     "name": "stdout",
     "output_type": "stream",
     "text": [
      "108\n"
     ]
    },
    {
     "name": "stderr",
     "output_type": "stream",
     "text": [
      "100%|█████████████████████████████████████████████████████████████████████████████████████████████████████████████████████████████████████████████████████████████████████████████████████████████████████████████████████████████| 64/64 [00:00<00:00, 4729.56it/s]\n"
     ]
    },
    {
     "name": "stdout",
     "output_type": "stream",
     "text": [
      "109\n"
     ]
    },
    {
     "name": "stderr",
     "output_type": "stream",
     "text": [
      "100%|█████████████████████████████████████████████████████████████████████████████████████████████████████████████████████████████████████████████████████████████████████████████████████████████████████████████████████████████| 64/64 [00:00<00:00, 4144.83it/s]\n"
     ]
    },
    {
     "name": "stdout",
     "output_type": "stream",
     "text": [
      "110\n"
     ]
    },
    {
     "name": "stderr",
     "output_type": "stream",
     "text": [
      "100%|████████████████████████████████████████████████████████████████████████████████████████████████████████████████████████████████████████████████████████████████████████████████████████████████████████████████████████████| 64/64 [00:00<00:00, 10506.69it/s]\n"
     ]
    },
    {
     "name": "stdout",
     "output_type": "stream",
     "text": [
      "111\n"
     ]
    },
    {
     "name": "stderr",
     "output_type": "stream",
     "text": [
      "100%|█████████████████████████████████████████████████████████████████████████████████████████████████████████████████████████████████████████████████████████████████████████████████████████████████████████████████████████████| 64/64 [00:00<00:00, 5585.19it/s]\n"
     ]
    },
    {
     "name": "stdout",
     "output_type": "stream",
     "text": [
      "112\n"
     ]
    },
    {
     "name": "stderr",
     "output_type": "stream",
     "text": [
      "100%|████████████████████████████████████████████████████████████████████████████████████████████████████████████████████████████████████████████████████████████████████████████████████████████████████████████████████████████| 64/64 [00:00<00:00, 10849.82it/s]\n"
     ]
    },
    {
     "name": "stdout",
     "output_type": "stream",
     "text": [
      "113\n"
     ]
    },
    {
     "name": "stderr",
     "output_type": "stream",
     "text": [
      "100%|████████████████████████████████████████████████████████████████████████████████████████████████████████████████████████████████████████████████████████████████████████████████████████████████████████████████████████████| 64/64 [00:00<00:00, 12645.35it/s]\n"
     ]
    },
    {
     "name": "stdout",
     "output_type": "stream",
     "text": [
      "114\n"
     ]
    },
    {
     "name": "stderr",
     "output_type": "stream",
     "text": [
      "100%|████████████████████████████████████████████████████████████████████████████████████████████████████████████████████████████████████████████████████████████████████████████████████████████████████████████████████████████| 64/64 [00:00<00:00, 11334.52it/s]\n"
     ]
    },
    {
     "name": "stdout",
     "output_type": "stream",
     "text": [
      "115\n"
     ]
    },
    {
     "name": "stderr",
     "output_type": "stream",
     "text": [
      "100%|████████████████████████████████████████████████████████████████████████████████████████████████████████████████████████████████████████████████████████████████████████████████████████████████████████████████████████████| 64/64 [00:00<00:00, 11184.34it/s]\n"
     ]
    },
    {
     "name": "stdout",
     "output_type": "stream",
     "text": [
      "116\n"
     ]
    },
    {
     "name": "stderr",
     "output_type": "stream",
     "text": [
      "100%|█████████████████████████████████████████████████████████████████████████████████████████████████████████████████████████████████████████████████████████████████████████████████████████████████████████████████████████████| 64/64 [00:00<00:00, 4260.00it/s]\n"
     ]
    },
    {
     "name": "stdout",
     "output_type": "stream",
     "text": [
      "117\n"
     ]
    },
    {
     "name": "stderr",
     "output_type": "stream",
     "text": [
      "100%|████████████████████████████████████████████████████████████████████████████████████████████████████████████████████████████████████████████████████████████████████████████████████████████████████████████████████████████| 64/64 [00:00<00:00, 10464.50it/s]\n"
     ]
    },
    {
     "name": "stdout",
     "output_type": "stream",
     "text": [
      "118\n"
     ]
    },
    {
     "name": "stderr",
     "output_type": "stream",
     "text": [
      "100%|█████████████████████████████████████████████████████████████████████████████████████████████████████████████████████████████████████████████████████████████████████████████████████████████████████████████████████████████| 64/64 [00:00<00:00, 7515.62it/s]\n"
     ]
    },
    {
     "name": "stdout",
     "output_type": "stream",
     "text": [
      "119\n"
     ]
    },
    {
     "name": "stderr",
     "output_type": "stream",
     "text": [
      "100%|█████████████████████████████████████████████████████████████████████████████████████████████████████████████████████████████████████████████████████████████████████████████████████████████████████████████████████████████| 64/64 [00:00<00:00, 4665.04it/s]\n"
     ]
    },
    {
     "name": "stdout",
     "output_type": "stream",
     "text": [
      "120\n"
     ]
    },
    {
     "name": "stderr",
     "output_type": "stream",
     "text": [
      "100%|█████████████████████████████████████████████████████████████████████████████████████████████████████████████████████████████████████████████████████████████████████████████████████████████████████████████████████████████| 64/64 [00:00<00:00, 4540.83it/s]\n"
     ]
    },
    {
     "name": "stdout",
     "output_type": "stream",
     "text": [
      "121\n"
     ]
    },
    {
     "name": "stderr",
     "output_type": "stream",
     "text": [
      "100%|█████████████████████████████████████████████████████████████████████████████████████████████████████████████████████████████████████████████████████████████████████████████████████████████████████████████████████████████| 64/64 [00:00<00:00, 5297.30it/s]\n"
     ]
    },
    {
     "name": "stdout",
     "output_type": "stream",
     "text": [
      "122\n"
     ]
    },
    {
     "name": "stderr",
     "output_type": "stream",
     "text": [
      "100%|█████████████████████████████████████████████████████████████████████████████████████████████████████████████████████████████████████████████████████████████████████████████████████████████████████████████████████████████| 64/64 [00:00<00:00, 5116.86it/s]\n"
     ]
    },
    {
     "name": "stdout",
     "output_type": "stream",
     "text": [
      "123\n"
     ]
    },
    {
     "name": "stderr",
     "output_type": "stream",
     "text": [
      "100%|█████████████████████████████████████████████████████████████████████████████████████████████████████████████████████████████████████████████████████████████████████████████████████████████████████████████████████████████| 64/64 [00:00<00:00, 5989.46it/s]\n"
     ]
    },
    {
     "name": "stdout",
     "output_type": "stream",
     "text": [
      "124\n"
     ]
    },
    {
     "name": "stderr",
     "output_type": "stream",
     "text": [
      "100%|█████████████████████████████████████████████████████████████████████████████████████████████████████████████████████████████████████████████████████████████████████████████████████████████████████████████████████████████| 64/64 [00:00<00:00, 4426.27it/s]\n"
     ]
    },
    {
     "name": "stdout",
     "output_type": "stream",
     "text": [
      "125\n"
     ]
    },
    {
     "name": "stderr",
     "output_type": "stream",
     "text": [
      "100%|████████████████████████████████████████████████████████████████████████████████████████████████████████████████████████████████████████████████████████████████████████████████████████████████████████████████████████████| 64/64 [00:00<00:00, 11288.29it/s]\n"
     ]
    },
    {
     "name": "stdout",
     "output_type": "stream",
     "text": [
      "126\n"
     ]
    },
    {
     "name": "stderr",
     "output_type": "stream",
     "text": [
      "100%|█████████████████████████████████████████████████████████████████████████████████████████████████████████████████████████████████████████████████████████████████████████████████████████████████████████████████████████████| 64/64 [00:00<00:00, 4129.84it/s]\n"
     ]
    },
    {
     "name": "stdout",
     "output_type": "stream",
     "text": [
      "127\n"
     ]
    },
    {
     "name": "stderr",
     "output_type": "stream",
     "text": [
      "100%|█████████████████████████████████████████████████████████████████████████████████████████████████████████████████████████████████████████████████████████████████████████████████████████████████████████████████████████████| 64/64 [00:00<00:00, 5748.57it/s]\n"
     ]
    },
    {
     "name": "stdout",
     "output_type": "stream",
     "text": [
      "128\n"
     ]
    },
    {
     "name": "stderr",
     "output_type": "stream",
     "text": [
      "100%|█████████████████████████████████████████████████████████████████████████████████████████████████████████████████████████████████████████████████████████████████████████████████████████████████████████████████████████████| 64/64 [00:00<00:00, 5421.84it/s]\n"
     ]
    },
    {
     "name": "stdout",
     "output_type": "stream",
     "text": [
      "129\n"
     ]
    },
    {
     "name": "stderr",
     "output_type": "stream",
     "text": [
      "100%|█████████████████████████████████████████████████████████████████████████████████████████████████████████████████████████████████████████████████████████████████████████████████████████████████████████████████████████████| 64/64 [00:00<00:00, 4791.95it/s]\n"
     ]
    },
    {
     "name": "stdout",
     "output_type": "stream",
     "text": [
      "130\n"
     ]
    },
    {
     "name": "stderr",
     "output_type": "stream",
     "text": [
      "100%|█████████████████████████████████████████████████████████████████████████████████████████████████████████████████████████████████████████████████████████████████████████████████████████████████████████████████████████████| 64/64 [00:00<00:00, 5602.21it/s]\n"
     ]
    },
    {
     "name": "stdout",
     "output_type": "stream",
     "text": [
      "131\n"
     ]
    },
    {
     "name": "stderr",
     "output_type": "stream",
     "text": [
      "100%|█████████████████████████████████████████████████████████████████████████████████████████████████████████████████████████████████████████████████████████████████████████████████████████████████████████████████████████████| 64/64 [00:00<00:00, 9793.34it/s]\n"
     ]
    },
    {
     "name": "stdout",
     "output_type": "stream",
     "text": [
      "132\n"
     ]
    },
    {
     "name": "stderr",
     "output_type": "stream",
     "text": [
      "100%|█████████████████████████████████████████████████████████████████████████████████████████████████████████████████████████████████████████████████████████████████████████████████████████████████████████████████████████████| 64/64 [00:00<00:00, 5643.43it/s]\n"
     ]
    },
    {
     "name": "stdout",
     "output_type": "stream",
     "text": [
      "133\n"
     ]
    },
    {
     "name": "stderr",
     "output_type": "stream",
     "text": [
      "100%|█████████████████████████████████████████████████████████████████████████████████████████████████████████████████████████████████████████████████████████████████████████████████████████████████████████████████████████████| 64/64 [00:00<00:00, 5601.39it/s]\n"
     ]
    },
    {
     "name": "stdout",
     "output_type": "stream",
     "text": [
      "134\n"
     ]
    },
    {
     "name": "stderr",
     "output_type": "stream",
     "text": [
      "100%|█████████████████████████████████████████████████████████████████████████████████████████████████████████████████████████████████████████████████████████████████████████████████████████████████████████████████████████████| 64/64 [00:00<00:00, 8795.11it/s]\n"
     ]
    },
    {
     "name": "stdout",
     "output_type": "stream",
     "text": [
      "135\n"
     ]
    },
    {
     "name": "stderr",
     "output_type": "stream",
     "text": [
      "100%|█████████████████████████████████████████████████████████████████████████████████████████████████████████████████████████████████████████████████████████████████████████████████████████████████████████████████████████████| 64/64 [00:00<00:00, 5496.90it/s]\n"
     ]
    },
    {
     "name": "stdout",
     "output_type": "stream",
     "text": [
      "136\n"
     ]
    },
    {
     "name": "stderr",
     "output_type": "stream",
     "text": [
      "100%|█████████████████████████████████████████████████████████████████████████████████████████████████████████████████████████████████████████████████████████████████████████████████████████████████████████████████████████████| 64/64 [00:00<00:00, 9479.66it/s]\n"
     ]
    },
    {
     "name": "stdout",
     "output_type": "stream",
     "text": [
      "137\n"
     ]
    },
    {
     "name": "stderr",
     "output_type": "stream",
     "text": [
      "100%|█████████████████████████████████████████████████████████████████████████████████████████████████████████████████████████████████████████████████████████████████████████████████████████████████████████████████████████████| 64/64 [00:00<00:00, 3936.29it/s]\n"
     ]
    },
    {
     "name": "stdout",
     "output_type": "stream",
     "text": [
      "138\n"
     ]
    },
    {
     "name": "stderr",
     "output_type": "stream",
     "text": [
      "100%|█████████████████████████████████████████████████████████████████████████████████████████████████████████████████████████████████████████████████████████████████████████████████████████████████████████████████████████████| 64/64 [00:00<00:00, 4936.93it/s]\n"
     ]
    },
    {
     "name": "stdout",
     "output_type": "stream",
     "text": [
      "139\n"
     ]
    },
    {
     "name": "stderr",
     "output_type": "stream",
     "text": [
      "100%|████████████████████████████████████████████████████████████████████████████████████████████████████████████████████████████████████████████████████████████████████████████████████████████████████████████████████████████| 64/64 [00:00<00:00, 11006.42it/s]\n"
     ]
    },
    {
     "name": "stdout",
     "output_type": "stream",
     "text": [
      "140\n"
     ]
    },
    {
     "name": "stderr",
     "output_type": "stream",
     "text": [
      "100%|████████████████████████████████████████████████████████████████████████████████████████████████████████████████████████████████████████████████████████████████████████████████████████████████████████████████████████████| 64/64 [00:00<00:00, 10640.38it/s]\n"
     ]
    },
    {
     "name": "stdout",
     "output_type": "stream",
     "text": [
      "141\n"
     ]
    },
    {
     "name": "stderr",
     "output_type": "stream",
     "text": [
      "100%|█████████████████████████████████████████████████████████████████████████████████████████████████████████████████████████████████████████████████████████████████████████████████████████████████████████████████████████████| 64/64 [00:00<00:00, 5776.16it/s]\n"
     ]
    },
    {
     "name": "stdout",
     "output_type": "stream",
     "text": [
      "142\n"
     ]
    },
    {
     "name": "stderr",
     "output_type": "stream",
     "text": [
      "100%|█████████████████████████████████████████████████████████████████████████████████████████████████████████████████████████████████████████████████████████████████████████████████████████████████████████████████████████████| 64/64 [00:00<00:00, 4518.89it/s]\n"
     ]
    },
    {
     "name": "stdout",
     "output_type": "stream",
     "text": [
      "143\n"
     ]
    },
    {
     "name": "stderr",
     "output_type": "stream",
     "text": [
      "100%|█████████████████████████████████████████████████████████████████████████████████████████████████████████████████████████████████████████████████████████████████████████████████████████████████████████████████████████████| 64/64 [00:00<00:00, 3579.23it/s]\n"
     ]
    },
    {
     "name": "stdout",
     "output_type": "stream",
     "text": [
      "144\n"
     ]
    },
    {
     "name": "stderr",
     "output_type": "stream",
     "text": [
      "100%|█████████████████████████████████████████████████████████████████████████████████████████████████████████████████████████████████████████████████████████████████████████████████████████████████████████████████████████████| 64/64 [00:00<00:00, 4548.13it/s]\n"
     ]
    },
    {
     "name": "stdout",
     "output_type": "stream",
     "text": [
      "145\n"
     ]
    },
    {
     "name": "stderr",
     "output_type": "stream",
     "text": [
      "100%|█████████████████████████████████████████████████████████████████████████████████████████████████████████████████████████████████████████████████████████████████████████████████████████████████████████████████████████████| 64/64 [00:00<00:00, 4760.17it/s]\n"
     ]
    },
    {
     "name": "stdout",
     "output_type": "stream",
     "text": [
      "146\n"
     ]
    },
    {
     "name": "stderr",
     "output_type": "stream",
     "text": [
      "100%|████████████████████████████████████████████████████████████████████████████████████████████████████████████████████████████████████████████████████████████████████████████████████████████████████████████████████████████| 64/64 [00:00<00:00, 10034.60it/s]\n"
     ]
    },
    {
     "name": "stdout",
     "output_type": "stream",
     "text": [
      "147\n"
     ]
    },
    {
     "name": "stderr",
     "output_type": "stream",
     "text": [
      "100%|█████████████████████████████████████████████████████████████████████████████████████████████████████████████████████████████████████████████████████████████████████████████████████████████████████████████████████████████| 64/64 [00:00<00:00, 4478.48it/s]\n"
     ]
    },
    {
     "name": "stdout",
     "output_type": "stream",
     "text": [
      "148\n"
     ]
    },
    {
     "name": "stderr",
     "output_type": "stream",
     "text": [
      "100%|████████████████████████████████████████████████████████████████████████████████████████████████████████████████████████████████████████████████████████████████████████████████████████████████████████████████████████████| 64/64 [00:00<00:00, 10260.12it/s]\n"
     ]
    },
    {
     "name": "stdout",
     "output_type": "stream",
     "text": [
      "149\n"
     ]
    },
    {
     "name": "stderr",
     "output_type": "stream",
     "text": [
      "100%|█████████████████████████████████████████████████████████████████████████████████████████████████████████████████████████████████████████████████████████████████████████████████████████████████████████████████████████████| 64/64 [00:00<00:00, 9263.42it/s]\n"
     ]
    },
    {
     "name": "stdout",
     "output_type": "stream",
     "text": [
      "150\n"
     ]
    },
    {
     "name": "stderr",
     "output_type": "stream",
     "text": [
      "100%|█████████████████████████████████████████████████████████████████████████████████████████████████████████████████████████████████████████████████████████████████████████████████████████████████████████████████████████████| 64/64 [00:00<00:00, 5074.39it/s]\n"
     ]
    },
    {
     "name": "stdout",
     "output_type": "stream",
     "text": [
      "151\n"
     ]
    },
    {
     "name": "stderr",
     "output_type": "stream",
     "text": [
      "100%|█████████████████████████████████████████████████████████████████████████████████████████████████████████████████████████████████████████████████████████████████████████████████████████████████████████████████████████████| 64/64 [00:00<00:00, 4537.45it/s]\n"
     ]
    },
    {
     "name": "stdout",
     "output_type": "stream",
     "text": [
      "152\n"
     ]
    },
    {
     "name": "stderr",
     "output_type": "stream",
     "text": [
      "100%|█████████████████████████████████████████████████████████████████████████████████████████████████████████████████████████████████████████████████████████████████████████████████████████████████████████████████████████████| 64/64 [00:00<00:00, 5571.17it/s]\n"
     ]
    },
    {
     "name": "stdout",
     "output_type": "stream",
     "text": [
      "153\n"
     ]
    },
    {
     "name": "stderr",
     "output_type": "stream",
     "text": [
      "100%|█████████████████████████████████████████████████████████████████████████████████████████████████████████████████████████████████████████████████████████████████████████████████████████████████████████████████████████████| 64/64 [00:00<00:00, 4303.71it/s]\n"
     ]
    },
    {
     "name": "stdout",
     "output_type": "stream",
     "text": [
      "154\n"
     ]
    },
    {
     "name": "stderr",
     "output_type": "stream",
     "text": [
      "100%|█████████████████████████████████████████████████████████████████████████████████████████████████████████████████████████████████████████████████████████████████████████████████████████████████████████████████████████████| 64/64 [00:00<00:00, 5237.36it/s]\n"
     ]
    },
    {
     "name": "stdout",
     "output_type": "stream",
     "text": [
      "155\n"
     ]
    },
    {
     "name": "stderr",
     "output_type": "stream",
     "text": [
      "100%|█████████████████████████████████████████████████████████████████████████████████████████████████████████████████████████████████████████████████████████████████████████████████████████████████████████████████████████████| 64/64 [00:00<00:00, 4516.07it/s]\n"
     ]
    },
    {
     "name": "stdout",
     "output_type": "stream",
     "text": [
      "156\n"
     ]
    },
    {
     "name": "stderr",
     "output_type": "stream",
     "text": [
      "100%|█████████████████████████████████████████████████████████████████████████████████████████████████████████████████████████████████████████████████████████████████████████████████████████████████████████████████████████████| 64/64 [00:00<00:00, 5863.47it/s]\n"
     ]
    },
    {
     "name": "stdout",
     "output_type": "stream",
     "text": [
      "157\n"
     ]
    },
    {
     "name": "stderr",
     "output_type": "stream",
     "text": [
      "100%|████████████████████████████████████████████████████████████████████████████████████████████████████████████████████████████████████████████████████████████████████████████████████████████████████████████████████████████| 64/64 [00:00<00:00, 10719.41it/s]\n"
     ]
    },
    {
     "name": "stdout",
     "output_type": "stream",
     "text": [
      "158\n"
     ]
    },
    {
     "name": "stderr",
     "output_type": "stream",
     "text": [
      "100%|████████████████████████████████████████████████████████████████████████████████████████████████████████████████████████████████████████████████████████████████████████████████████████████████████████████████████████████| 64/64 [00:00<00:00, 11022.69it/s]\n"
     ]
    },
    {
     "name": "stdout",
     "output_type": "stream",
     "text": [
      "159\n"
     ]
    },
    {
     "name": "stderr",
     "output_type": "stream",
     "text": [
      "100%|████████████████████████████████████████████████████████████████████████████████████████████████████████████████████████████████████████████████████████████████████████████████████████████████████████████████████████████| 64/64 [00:00<00:00, 11223.63it/s]\n"
     ]
    },
    {
     "name": "stdout",
     "output_type": "stream",
     "text": [
      "160\n"
     ]
    },
    {
     "name": "stderr",
     "output_type": "stream",
     "text": [
      "100%|█████████████████████████████████████████████████████████████████████████████████████████████████████████████████████████████████████████████████████████████████████████████████████████████████████████████████████████████| 64/64 [00:00<00:00, 4584.41it/s]"
     ]
    },
    {
     "name": "stdout",
     "output_type": "stream",
     "text": [
      "161"
     ]
    },
    {
     "name": "stderr",
     "output_type": "stream",
     "text": [
      "\n"
     ]
    },
    {
     "name": "stdout",
     "output_type": "stream",
     "text": [
      "\n"
     ]
    },
    {
     "name": "stderr",
     "output_type": "stream",
     "text": [
      "100%|█████████████████████████████████████████████████████████████████████████████████████████████████████████████████████████████████████████████████████████████████████████████████████████████████████████████████████████████| 64/64 [00:00<00:00, 6163.00it/s]"
     ]
    },
    {
     "name": "stdout",
     "output_type": "stream",
     "text": [
      "162\n"
     ]
    },
    {
     "name": "stderr",
     "output_type": "stream",
     "text": [
      "\n",
      "100%|█████████████████████████████████████████████████████████████████████████████████████████████████████████████████████████████████████████████████████████████████████████████████████████████████████████████████████████████| 64/64 [00:00<00:00, 4530.40it/s]\n"
     ]
    },
    {
     "name": "stdout",
     "output_type": "stream",
     "text": [
      "163\n"
     ]
    },
    {
     "name": "stderr",
     "output_type": "stream",
     "text": [
      "100%|█████████████████████████████████████████████████████████████████████████████████████████████████████████████████████████████████████████████████████████████████████████████████████████████████████████████████████████████| 64/64 [00:00<00:00, 4643.89it/s]\n"
     ]
    },
    {
     "name": "stdout",
     "output_type": "stream",
     "text": [
      "164\n"
     ]
    },
    {
     "name": "stderr",
     "output_type": "stream",
     "text": [
      "100%|████████████████████████████████████████████████████████████████████████████████████████████████████████████████████████████████████████████████████████████████████████████████████████████████████████████████████████████| 64/64 [00:00<00:00, 10368.31it/s]\n"
     ]
    },
    {
     "name": "stdout",
     "output_type": "stream",
     "text": [
      "165\n"
     ]
    },
    {
     "name": "stderr",
     "output_type": "stream",
     "text": [
      "100%|█████████████████████████████████████████████████████████████████████████████████████████████████████████████████████████████████████████████████████████████████████████████████████████████████████████████████████████████| 64/64 [00:00<00:00, 4220.48it/s]\n"
     ]
    },
    {
     "name": "stdout",
     "output_type": "stream",
     "text": [
      "166\n"
     ]
    },
    {
     "name": "stderr",
     "output_type": "stream",
     "text": [
      "100%|████████████████████████████████████████████████████████████████████████████████████████████████████████████████████████████████████████████████████████████████████████████████████████████████████████████████████████████| 64/64 [00:00<00:00, 11098.80it/s]\n"
     ]
    },
    {
     "name": "stdout",
     "output_type": "stream",
     "text": [
      "167\n"
     ]
    },
    {
     "name": "stderr",
     "output_type": "stream",
     "text": [
      "100%|█████████████████████████████████████████████████████████████████████████████████████████████████████████████████████████████████████████████████████████████████████████████████████████████████████████████████████████████| 64/64 [00:00<00:00, 4912.62it/s]\n"
     ]
    },
    {
     "name": "stdout",
     "output_type": "stream",
     "text": [
      "168\n"
     ]
    },
    {
     "name": "stderr",
     "output_type": "stream",
     "text": [
      "100%|█████████████████████████████████████████████████████████████████████████████████████████████████████████████████████████████████████████████████████████████████████████████████████████████████████████████████████████████| 64/64 [00:00<00:00, 4308.13it/s]\n"
     ]
    },
    {
     "name": "stdout",
     "output_type": "stream",
     "text": [
      "169\n"
     ]
    },
    {
     "name": "stderr",
     "output_type": "stream",
     "text": [
      "100%|█████████████████████████████████████████████████████████████████████████████████████████████████████████████████████████████████████████████████████████████████████████████████████████████████████████████████████████████| 64/64 [00:00<00:00, 4026.33it/s]\n"
     ]
    },
    {
     "name": "stdout",
     "output_type": "stream",
     "text": [
      "170\n"
     ]
    },
    {
     "name": "stderr",
     "output_type": "stream",
     "text": [
      "100%|█████████████████████████████████████████████████████████████████████████████████████████████████████████████████████████████████████████████████████████████████████████████████████████████████████████████████████████████| 64/64 [00:00<00:00, 4299.92it/s]\n"
     ]
    },
    {
     "name": "stdout",
     "output_type": "stream",
     "text": [
      "171\n"
     ]
    },
    {
     "name": "stderr",
     "output_type": "stream",
     "text": [
      "100%|████████████████████████████████████████████████████████████████████████████████████████████████████████████████████████████████████████████████████████████████████████████████████████████████████████████████████████████| 64/64 [00:00<00:00, 10581.24it/s]\n"
     ]
    },
    {
     "name": "stdout",
     "output_type": "stream",
     "text": [
      "172\n"
     ]
    },
    {
     "name": "stderr",
     "output_type": "stream",
     "text": [
      "100%|█████████████████████████████████████████████████████████████████████████████████████████████████████████████████████████████████████████████████████████████████████████████████████████████████████████████████████████████| 64/64 [00:00<00:00, 4039.66it/s]\n"
     ]
    },
    {
     "name": "stdout",
     "output_type": "stream",
     "text": [
      "173\n"
     ]
    },
    {
     "name": "stderr",
     "output_type": "stream",
     "text": [
      "100%|█████████████████████████████████████████████████████████████████████████████████████████████████████████████████████████████████████████████████████████████████████████████████████████████████████████████████████████████| 64/64 [00:00<00:00, 9596.58it/s]\n"
     ]
    },
    {
     "name": "stdout",
     "output_type": "stream",
     "text": [
      "174\n"
     ]
    },
    {
     "name": "stderr",
     "output_type": "stream",
     "text": [
      "100%|█████████████████████████████████████████████████████████████████████████████████████████████████████████████████████████████████████████████████████████████████████████████████████████████████████████████████████████████| 64/64 [00:00<00:00, 4371.49it/s]\n"
     ]
    },
    {
     "name": "stdout",
     "output_type": "stream",
     "text": [
      "175\n"
     ]
    },
    {
     "name": "stderr",
     "output_type": "stream",
     "text": [
      "100%|█████████████████████████████████████████████████████████████████████████████████████████████████████████████████████████████████████████████████████████████████████████████████████████████████████████████████████████████| 64/64 [00:00<00:00, 5879.65it/s]\n"
     ]
    },
    {
     "name": "stdout",
     "output_type": "stream",
     "text": [
      "176\n"
     ]
    },
    {
     "name": "stderr",
     "output_type": "stream",
     "text": [
      "100%|█████████████████████████████████████████████████████████████████████████████████████████████████████████████████████████████████████████████████████████████████████████████████████████████████████████████████████████████| 64/64 [00:00<00:00, 4647.35it/s]\n"
     ]
    },
    {
     "name": "stdout",
     "output_type": "stream",
     "text": [
      "177\n"
     ]
    },
    {
     "name": "stderr",
     "output_type": "stream",
     "text": [
      "100%|████████████████████████████████████████████████████████████████████████████████████████████████████████████████████████████████████████████████████████████████████████████████████████████████████████████████████████████| 64/64 [00:00<00:00, 10560.01it/s]\n"
     ]
    },
    {
     "name": "stdout",
     "output_type": "stream",
     "text": [
      "178\n"
     ]
    },
    {
     "name": "stderr",
     "output_type": "stream",
     "text": [
      "100%|████████████████████████████████████████████████████████████████████████████████████████████████████████████████████████████████████████████████████████████████████████████████████████████████████████████████████████████| 64/64 [00:00<00:00, 10618.49it/s]\n"
     ]
    },
    {
     "name": "stdout",
     "output_type": "stream",
     "text": [
      "179\n"
     ]
    },
    {
     "name": "stderr",
     "output_type": "stream",
     "text": [
      "100%|█████████████████████████████████████████████████████████████████████████████████████████████████████████████████████████████████████████████████████████████████████████████████████████████████████████████████████████████| 64/64 [00:00<00:00, 4351.71it/s]\n"
     ]
    },
    {
     "name": "stdout",
     "output_type": "stream",
     "text": [
      "180\n"
     ]
    },
    {
     "name": "stderr",
     "output_type": "stream",
     "text": [
      "100%|█████████████████████████████████████████████████████████████████████████████████████████████████████████████████████████████████████████████████████████████████████████████████████████████████████████████████████████████| 64/64 [00:00<00:00, 9359.35it/s]\n"
     ]
    },
    {
     "name": "stdout",
     "output_type": "stream",
     "text": [
      "181\n"
     ]
    },
    {
     "name": "stderr",
     "output_type": "stream",
     "text": [
      "100%|████████████████████████████████████████████████████████████████████████████████████████████████████████████████████████████████████████████████████████████████████████████████████████████████████████████████████████████| 64/64 [00:00<00:00, 10263.26it/s]\n"
     ]
    },
    {
     "name": "stdout",
     "output_type": "stream",
     "text": [
      "182\n"
     ]
    },
    {
     "name": "stderr",
     "output_type": "stream",
     "text": [
      "100%|█████████████████████████████████████████████████████████████████████████████████████████████████████████████████████████████████████████████████████████████████████████████████████████████████████████████████████████████| 64/64 [00:00<00:00, 9734.03it/s]\n"
     ]
    },
    {
     "name": "stdout",
     "output_type": "stream",
     "text": [
      "183\n"
     ]
    },
    {
     "name": "stderr",
     "output_type": "stream",
     "text": [
      "100%|█████████████████████████████████████████████████████████████████████████████████████████████████████████████████████████████████████████████████████████████████████████████████████████████████████████████████████████████| 64/64 [00:00<00:00, 6112.89it/s]\n"
     ]
    },
    {
     "name": "stdout",
     "output_type": "stream",
     "text": [
      "184\n"
     ]
    },
    {
     "name": "stderr",
     "output_type": "stream",
     "text": [
      "100%|█████████████████████████████████████████████████████████████████████████████████████████████████████████████████████████████████████████████████████████████████████████████████████████████████████████████████████████████| 64/64 [00:00<00:00, 2582.55it/s]\n"
     ]
    },
    {
     "name": "stdout",
     "output_type": "stream",
     "text": [
      "185\n"
     ]
    },
    {
     "name": "stderr",
     "output_type": "stream",
     "text": [
      "100%|█████████████████████████████████████████████████████████████████████████████████████████████████████████████████████████████████████████████████████████████████████████████████████████████████████████████████████████████| 64/64 [00:00<00:00, 4666.49it/s]\n"
     ]
    },
    {
     "name": "stdout",
     "output_type": "stream",
     "text": [
      "186\n"
     ]
    },
    {
     "name": "stderr",
     "output_type": "stream",
     "text": [
      "100%|████████████████████████████████████████████████████████████████████████████████████████████████████████████████████████████████████████████████████████████████████████████████████████████████████████████████████████████| 64/64 [00:00<00:00, 10694.21it/s]\n"
     ]
    },
    {
     "name": "stdout",
     "output_type": "stream",
     "text": [
      "187\n"
     ]
    },
    {
     "name": "stderr",
     "output_type": "stream",
     "text": [
      "100%|████████████████████████████████████████████████████████████████████████████████████████████████████████████████████████████████████████████████████████████████████████████████████████████████████████████████████████████| 64/64 [00:00<00:00, 11880.83it/s]\n"
     ]
    },
    {
     "name": "stdout",
     "output_type": "stream",
     "text": [
      "188\n"
     ]
    },
    {
     "name": "stderr",
     "output_type": "stream",
     "text": [
      "100%|████████████████████████████████████████████████████████████████████████████████████████████████████████████████████████████████████████████████████████████████████████████████████████████████████████████████████████████| 64/64 [00:00<00:00, 11457.40it/s]\n"
     ]
    },
    {
     "name": "stdout",
     "output_type": "stream",
     "text": [
      "189\n"
     ]
    },
    {
     "name": "stderr",
     "output_type": "stream",
     "text": [
      "100%|████████████████████████████████████████████████████████████████████████████████████████████████████████████████████████████████████████████████████████████████████████████████████████████████████████████████████████████| 64/64 [00:00<00:00, 11000.10it/s]\n"
     ]
    },
    {
     "name": "stdout",
     "output_type": "stream",
     "text": [
      "190\n"
     ]
    },
    {
     "name": "stderr",
     "output_type": "stream",
     "text": [
      "100%|█████████████████████████████████████████████████████████████████████████████████████████████████████████████████████████████████████████████████████████████████████████████████████████████████████████████████████████████| 64/64 [00:00<00:00, 9792.98it/s]\n"
     ]
    },
    {
     "name": "stdout",
     "output_type": "stream",
     "text": [
      "191\n"
     ]
    },
    {
     "name": "stderr",
     "output_type": "stream",
     "text": [
      "100%|█████████████████████████████████████████████████████████████████████████████████████████████████████████████████████████████████████████████████████████████████████████████████████████████████████████████████████████████| 64/64 [00:00<00:00, 4576.05it/s]\n"
     ]
    },
    {
     "name": "stdout",
     "output_type": "stream",
     "text": [
      "192\n"
     ]
    },
    {
     "name": "stderr",
     "output_type": "stream",
     "text": [
      "100%|████████████████████████████████████████████████████████████████████████████████████████████████████████████████████████████████████████████████████████████████████████████████████████████████████████████████████████████| 64/64 [00:00<00:00, 11074.07it/s]\n"
     ]
    },
    {
     "name": "stdout",
     "output_type": "stream",
     "text": [
      "193\n"
     ]
    },
    {
     "name": "stderr",
     "output_type": "stream",
     "text": [
      "100%|████████████████████████████████████████████████████████████████████████████████████████████████████████████████████████████████████████████████████████████████████████████████████████████████████████████████████████████| 64/64 [00:00<00:00, 10205.90it/s]\n"
     ]
    },
    {
     "name": "stdout",
     "output_type": "stream",
     "text": [
      "194\n"
     ]
    },
    {
     "name": "stderr",
     "output_type": "stream",
     "text": [
      "100%|█████████████████████████████████████████████████████████████████████████████████████████████████████████████████████████████████████████████████████████████████████████████████████████████████████████████████████████████| 64/64 [00:00<00:00, 4165.15it/s]\n"
     ]
    },
    {
     "name": "stdout",
     "output_type": "stream",
     "text": [
      "195\n"
     ]
    },
    {
     "name": "stderr",
     "output_type": "stream",
     "text": [
      "100%|█████████████████████████████████████████████████████████████████████████████████████████████████████████████████████████████████████████████████████████████████████████████████████████████████████████████████████████████| 64/64 [00:00<00:00, 5528.94it/s]\n"
     ]
    },
    {
     "name": "stdout",
     "output_type": "stream",
     "text": [
      "196\n"
     ]
    },
    {
     "name": "stderr",
     "output_type": "stream",
     "text": [
      "100%|█████████████████████████████████████████████████████████████████████████████████████████████████████████████████████████████████████████████████████████████████████████████████████████████████████████████████████████████| 64/64 [00:00<00:00, 4754.86it/s]\n"
     ]
    },
    {
     "name": "stdout",
     "output_type": "stream",
     "text": [
      "197\n"
     ]
    },
    {
     "name": "stderr",
     "output_type": "stream",
     "text": [
      "100%|█████████████████████████████████████████████████████████████████████████████████████████████████████████████████████████████████████████████████████████████████████████████████████████████████████████████████████████████| 64/64 [00:00<00:00, 4183.13it/s]\n"
     ]
    },
    {
     "name": "stdout",
     "output_type": "stream",
     "text": [
      "198\n"
     ]
    },
    {
     "name": "stderr",
     "output_type": "stream",
     "text": [
      "100%|█████████████████████████████████████████████████████████████████████████████████████████████████████████████████████████████████████████████████████████████████████████████████████████████████████████████████████████████| 64/64 [00:00<00:00, 3943.17it/s]\n"
     ]
    },
    {
     "name": "stdout",
     "output_type": "stream",
     "text": [
      "199\n"
     ]
    },
    {
     "name": "stderr",
     "output_type": "stream",
     "text": [
      "100%|█████████████████████████████████████████████████████████████████████████████████████████████████████████████████████████████████████████████████████████████████████████████████████████████████████████████████████████████| 64/64 [00:00<00:00, 4388.06it/s]\n"
     ]
    },
    {
     "name": "stdout",
     "output_type": "stream",
     "text": [
      "200\n"
     ]
    },
    {
     "name": "stderr",
     "output_type": "stream",
     "text": [
      "100%|█████████████████████████████████████████████████████████████████████████████████████████████████████████████████████████████████████████████████████████████████████████████████████████████████████████████████████████████| 64/64 [00:00<00:00, 9504.83it/s]\n"
     ]
    },
    {
     "name": "stdout",
     "output_type": "stream",
     "text": [
      "201\n"
     ]
    },
    {
     "name": "stderr",
     "output_type": "stream",
     "text": [
      "100%|█████████████████████████████████████████████████████████████████████████████████████████████████████████████████████████████████████████████████████████████████████████████████████████████████████████████████████████████| 64/64 [00:00<00:00, 4660.18it/s]\n"
     ]
    },
    {
     "name": "stdout",
     "output_type": "stream",
     "text": [
      "202\n"
     ]
    },
    {
     "name": "stderr",
     "output_type": "stream",
     "text": [
      "100%|████████████████████████████████████████████████████████████████████████████████████████████████████████████████████████████████████████████████████████████████████████████████████████████████████████████████████████████| 64/64 [00:00<00:00, 10047.37it/s]"
     ]
    },
    {
     "name": "stdout",
     "output_type": "stream",
     "text": [
      "203\n"
     ]
    },
    {
     "name": "stderr",
     "output_type": "stream",
     "text": [
      "\n",
      "100%|█████████████████████████████████████████████████████████████████████████████████████████████████████████████████████████████████████████████████████████████████████████████████████████████████████████████████████████████| 64/64 [00:00<00:00, 4622.86it/s]\n"
     ]
    },
    {
     "name": "stdout",
     "output_type": "stream",
     "text": [
      "204\n"
     ]
    },
    {
     "name": "stderr",
     "output_type": "stream",
     "text": [
      "100%|████████████████████████████████████████████████████████████████████████████████████████████████████████████████████████████████████████████████████████████████████████████████████████████████████████████████████████████| 64/64 [00:00<00:00, 10094.59it/s]\n"
     ]
    },
    {
     "name": "stdout",
     "output_type": "stream",
     "text": [
      "205\n"
     ]
    },
    {
     "name": "stderr",
     "output_type": "stream",
     "text": [
      "100%|█████████████████████████████████████████████████████████████████████████████████████████████████████████████████████████████████████████████████████████████████████████████████████████████████████████████████████████████| 64/64 [00:00<00:00, 4191.49it/s]\n"
     ]
    },
    {
     "name": "stdout",
     "output_type": "stream",
     "text": [
      "206\n"
     ]
    },
    {
     "name": "stderr",
     "output_type": "stream",
     "text": [
      "100%|█████████████████████████████████████████████████████████████████████████████████████████████████████████████████████████████████████████████████████████████████████████████████████████████████████████████████████████████| 64/64 [00:00<00:00, 4666.90it/s]\n"
     ]
    },
    {
     "name": "stdout",
     "output_type": "stream",
     "text": [
      "207\n"
     ]
    },
    {
     "name": "stderr",
     "output_type": "stream",
     "text": [
      "100%|█████████████████████████████████████████████████████████████████████████████████████████████████████████████████████████████████████████████████████████████████████████████████████████████████████████████████████████████| 64/64 [00:00<00:00, 4626.28it/s]\n"
     ]
    },
    {
     "name": "stdout",
     "output_type": "stream",
     "text": [
      "208\n"
     ]
    },
    {
     "name": "stderr",
     "output_type": "stream",
     "text": [
      "100%|█████████████████████████████████████████████████████████████████████████████████████████████████████████████████████████████████████████████████████████████████████████████████████████████████████████████████████████████| 64/64 [00:00<00:00, 6293.62it/s]\n"
     ]
    },
    {
     "name": "stdout",
     "output_type": "stream",
     "text": [
      "209\n"
     ]
    },
    {
     "name": "stderr",
     "output_type": "stream",
     "text": [
      "100%|█████████████████████████████████████████████████████████████████████████████████████████████████████████████████████████████████████████████████████████████████████████████████████████████████████████████████████████████| 64/64 [00:00<00:00, 4599.73it/s]\n"
     ]
    },
    {
     "name": "stdout",
     "output_type": "stream",
     "text": [
      "210\n"
     ]
    },
    {
     "name": "stderr",
     "output_type": "stream",
     "text": [
      "100%|█████████████████████████████████████████████████████████████████████████████████████████████████████████████████████████████████████████████████████████████████████████████████████████████████████████████████████████████| 64/64 [00:00<00:00, 7768.13it/s]\n"
     ]
    },
    {
     "name": "stdout",
     "output_type": "stream",
     "text": [
      "211\n"
     ]
    },
    {
     "name": "stderr",
     "output_type": "stream",
     "text": [
      "100%|█████████████████████████████████████████████████████████████████████████████████████████████████████████████████████████████████████████████████████████████████████████████████████████████████████████████████████████████| 64/64 [00:00<00:00, 4533.00it/s]\n"
     ]
    },
    {
     "name": "stdout",
     "output_type": "stream",
     "text": [
      "212\n"
     ]
    },
    {
     "name": "stderr",
     "output_type": "stream",
     "text": [
      "100%|█████████████████████████████████████████████████████████████████████████████████████████████████████████████████████████████████████████████████████████████████████████████████████████████████████████████████████████████| 64/64 [00:00<00:00, 4946.11it/s]\n"
     ]
    },
    {
     "name": "stdout",
     "output_type": "stream",
     "text": [
      "213\n"
     ]
    },
    {
     "name": "stderr",
     "output_type": "stream",
     "text": [
      "100%|█████████████████████████████████████████████████████████████████████████████████████████████████████████████████████████████████████████████████████████████████████████████████████████████████████████████████████████████| 64/64 [00:00<00:00, 5839.23it/s]\n"
     ]
    },
    {
     "name": "stdout",
     "output_type": "stream",
     "text": [
      "214\n"
     ]
    },
    {
     "name": "stderr",
     "output_type": "stream",
     "text": [
      "100%|█████████████████████████████████████████████████████████████████████████████████████████████████████████████████████████████████████████████████████████████████████████████████████████████████████████████████████████████| 64/64 [00:00<00:00, 4736.48it/s]\n"
     ]
    },
    {
     "name": "stdout",
     "output_type": "stream",
     "text": [
      "215\n"
     ]
    },
    {
     "name": "stderr",
     "output_type": "stream",
     "text": [
      "100%|█████████████████████████████████████████████████████████████████████████████████████████████████████████████████████████████████████████████████████████████████████████████████████████████████████████████████████████████| 64/64 [00:00<00:00, 4594.69it/s]\n"
     ]
    },
    {
     "name": "stdout",
     "output_type": "stream",
     "text": [
      "216\n"
     ]
    },
    {
     "name": "stderr",
     "output_type": "stream",
     "text": [
      "100%|█████████████████████████████████████████████████████████████████████████████████████████████████████████████████████████████████████████████████████████████████████████████████████████████████████████████████████████████| 64/64 [00:00<00:00, 4565.93it/s]\n"
     ]
    },
    {
     "name": "stdout",
     "output_type": "stream",
     "text": [
      "217\n"
     ]
    },
    {
     "name": "stderr",
     "output_type": "stream",
     "text": [
      "100%|████████████████████████████████████████████████████████████████████████████████████████████████████████████████████████████████████████████████████████████████████████████████████████████████████████████████████████████| 64/64 [00:00<00:00, 10356.71it/s]\n"
     ]
    },
    {
     "name": "stdout",
     "output_type": "stream",
     "text": [
      "218\n"
     ]
    },
    {
     "name": "stderr",
     "output_type": "stream",
     "text": [
      "100%|█████████████████████████████████████████████████████████████████████████████████████████████████████████████████████████████████████████████████████████████████████████████████████████████████████████████████████████████| 64/64 [00:00<00:00, 4514.33it/s]\n"
     ]
    },
    {
     "name": "stdout",
     "output_type": "stream",
     "text": [
      "219\n"
     ]
    },
    {
     "name": "stderr",
     "output_type": "stream",
     "text": [
      "100%|█████████████████████████████████████████████████████████████████████████████████████████████████████████████████████████████████████████████████████████████████████████████████████████████████████████████████████████████| 64/64 [00:00<00:00, 5244.31it/s]\n"
     ]
    },
    {
     "name": "stdout",
     "output_type": "stream",
     "text": [
      "220\n"
     ]
    },
    {
     "name": "stderr",
     "output_type": "stream",
     "text": [
      "100%|█████████████████████████████████████████████████████████████████████████████████████████████████████████████████████████████████████████████████████████████████████████████████████████████████████████████████████████████| 64/64 [00:00<00:00, 4597.13it/s]\n"
     ]
    },
    {
     "name": "stdout",
     "output_type": "stream",
     "text": [
      "221\n"
     ]
    },
    {
     "name": "stderr",
     "output_type": "stream",
     "text": [
      "100%|████████████████████████████████████████████████████████████████████████████████████████████████████████████████████████████████████████████████████████████████████████████████████████████████████████████████████████████| 64/64 [00:00<00:00, 11076.81it/s]\n"
     ]
    },
    {
     "name": "stdout",
     "output_type": "stream",
     "text": [
      "222\n"
     ]
    },
    {
     "name": "stderr",
     "output_type": "stream",
     "text": [
      "100%|█████████████████████████████████████████████████████████████████████████████████████████████████████████████████████████████████████████████████████████████████████████████████████████████████████████████████████████████| 64/64 [00:00<00:00, 9087.80it/s]\n"
     ]
    },
    {
     "name": "stdout",
     "output_type": "stream",
     "text": [
      "223\n"
     ]
    },
    {
     "name": "stderr",
     "output_type": "stream",
     "text": [
      "100%|█████████████████████████████████████████████████████████████████████████████████████████████████████████████████████████████████████████████████████████████████████████████████████████████████████████████████████████████| 64/64 [00:00<00:00, 4516.07it/s]\n"
     ]
    },
    {
     "name": "stdout",
     "output_type": "stream",
     "text": [
      "224\n"
     ]
    },
    {
     "name": "stderr",
     "output_type": "stream",
     "text": [
      "100%|█████████████████████████████████████████████████████████████████████████████████████████████████████████████████████████████████████████████████████████████████████████████████████████████████████████████████████████████| 64/64 [00:00<00:00, 4805.59it/s]\n"
     ]
    },
    {
     "name": "stdout",
     "output_type": "stream",
     "text": [
      "225\n"
     ]
    },
    {
     "name": "stderr",
     "output_type": "stream",
     "text": [
      "100%|█████████████████████████████████████████████████████████████████████████████████████████████████████████████████████████████████████████████████████████████████████████████████████████████████████████████████████████████| 64/64 [00:00<00:00, 9557.28it/s]\n"
     ]
    },
    {
     "name": "stdout",
     "output_type": "stream",
     "text": [
      "226\n"
     ]
    },
    {
     "name": "stderr",
     "output_type": "stream",
     "text": [
      "100%|█████████████████████████████████████████████████████████████████████████████████████████████████████████████████████████████████████████████████████████████████████████████████████████████████████████████████████████████| 64/64 [00:00<00:00, 5095.78it/s]\n"
     ]
    },
    {
     "name": "stdout",
     "output_type": "stream",
     "text": [
      "227\n"
     ]
    },
    {
     "name": "stderr",
     "output_type": "stream",
     "text": [
      "100%|████████████████████████████████████████████████████████████████████████████████████████████████████████████████████████████████████████████████████████████████████████████████████████████████████████████████████████████| 64/64 [00:00<00:00, 97471.12it/s]\n"
     ]
    },
    {
     "ename": "IndexError",
     "evalue": "list index out of range",
     "output_type": "error",
     "traceback": [
      "\u001b[0;31m---------------------------------------------------------------------------\u001b[0m",
      "\u001b[0;31mIndexError\u001b[0m                                Traceback (most recent call last)",
      "Cell \u001b[0;32mIn[22], line 32\u001b[0m\n\u001b[1;32m     28\u001b[0m fdf \u001b[38;5;241m=\u001b[39m skmob\u001b[38;5;241m.\u001b[39mFlowDataFrame(data \u001b[38;5;241m=\u001b[39m flow,tessellation\u001b[38;5;241m=\u001b[39mtessellation, tile_id\u001b[38;5;241m=\u001b[39m\u001b[38;5;124m'\u001b[39m\u001b[38;5;124mtile_ID\u001b[39m\u001b[38;5;124m'\u001b[39m, origin \u001b[38;5;241m=\u001b[39m\u001b[38;5;241m0\u001b[39m, \n\u001b[1;32m     29\u001b[0m                           destination \u001b[38;5;241m=\u001b[39m \u001b[38;5;241m1\u001b[39m, flow \u001b[38;5;241m=\u001b[39m \u001b[38;5;241m2\u001b[39m)\n\u001b[1;32m     31\u001b[0m radiation \u001b[38;5;241m=\u001b[39m Radiation()\n\u001b[0;32m---> 32\u001b[0m rad_flows \u001b[38;5;241m=\u001b[39m \u001b[43mradiation\u001b[49m\u001b[38;5;241;43m.\u001b[39;49m\u001b[43mgenerate\u001b[49m\u001b[43m(\u001b[49m\u001b[43mtessellation\u001b[49m\u001b[43m,\u001b[49m\u001b[43m \u001b[49m\n\u001b[1;32m     33\u001b[0m \u001b[43m            \u001b[49m\u001b[43mtile_id_column\u001b[49m\u001b[38;5;241;43m=\u001b[39;49m\u001b[38;5;124;43m'\u001b[39;49m\u001b[38;5;124;43mtile_ID\u001b[39;49m\u001b[38;5;124;43m'\u001b[39;49m\u001b[43m,\u001b[49m\u001b[43m \u001b[49m\n\u001b[1;32m     34\u001b[0m \u001b[43m            \u001b[49m\u001b[43mtot_outflows_column\u001b[49m\u001b[38;5;241;43m=\u001b[39;49m\u001b[38;5;124;43m'\u001b[39;49m\u001b[38;5;124;43mtot_outflow\u001b[39;49m\u001b[38;5;124;43m'\u001b[39;49m\u001b[43m,\u001b[49m\u001b[43m \u001b[49m\n\u001b[1;32m     35\u001b[0m \u001b[43m            \u001b[49m\u001b[43mrelevance_column\u001b[49m\u001b[38;5;241;43m=\u001b[39;49m\u001b[43m \u001b[49m\u001b[38;5;124;43m'\u001b[39;49m\u001b[38;5;124;43mrelevance\u001b[39;49m\u001b[38;5;124;43m'\u001b[39;49m\u001b[43m,\u001b[49m\u001b[43m \u001b[49m\n\u001b[1;32m     36\u001b[0m \u001b[43m            \u001b[49m\u001b[43mout_format\u001b[49m\u001b[38;5;241;43m=\u001b[39;49m\u001b[38;5;124;43m'\u001b[39;49m\u001b[38;5;124;43mflows\u001b[39;49m\u001b[38;5;124;43m'\u001b[39;49m\u001b[43m)\u001b[49m\n\u001b[1;32m     38\u001b[0m l\u001b[38;5;241m.\u001b[39mappend(rad_flows)\n\u001b[1;32m     40\u001b[0m a\u001b[38;5;241m+\u001b[39m\u001b[38;5;241m=\u001b[39m\u001b[38;5;241m1\u001b[39m\n",
      "File \u001b[0;32m/opt/conda/lib/python3.11/site-packages/skmob/models/radiation.py:240\u001b[0m, in \u001b[0;36mRadiation.generate\u001b[0;34m(self, spatial_tessellation, tile_id_column, tot_outflows_column, relevance_column, out_format)\u001b[0m\n\u001b[1;32m    238\u001b[0m \u001b[38;5;66;03m# Always return a FlowDataFrame\u001b[39;00m\n\u001b[1;32m    239\u001b[0m \u001b[38;5;28;01mif\u001b[39;00m \u001b[38;5;28;01mTrue\u001b[39;00m:  \u001b[38;5;66;03m# 'flows' in out_format:\u001b[39;00m\n\u001b[0;32m--> 240\u001b[0m     \u001b[38;5;28;01mreturn\u001b[39;00m \u001b[38;5;28;43mself\u001b[39;49m\u001b[38;5;241;43m.\u001b[39;49m\u001b[43m_from_matrix_to_flowdf\u001b[49m\u001b[43m(\u001b[49m\u001b[43mall_flows\u001b[49m\u001b[43m,\u001b[49m\u001b[43m \u001b[49m\u001b[43mspatial_tessellation\u001b[49m\u001b[43m)\u001b[49m\n\u001b[1;32m    241\u001b[0m \u001b[38;5;28;01melse\u001b[39;00m:\n\u001b[1;32m    242\u001b[0m     \u001b[38;5;28;01mreturn\u001b[39;00m all_flows\n",
      "File \u001b[0;32m/opt/conda/lib/python3.11/site-packages/skmob/models/radiation.py:247\u001b[0m, in \u001b[0;36mRadiation._from_matrix_to_flowdf\u001b[0;34m(self, all_flows, spatial_tessellation)\u001b[0m\n\u001b[1;32m    245\u001b[0m index2tileid \u001b[38;5;241m=\u001b[39m \u001b[38;5;28mdict\u001b[39m([(i, tileid) \u001b[38;5;28;01mfor\u001b[39;00m i, tileid \u001b[38;5;129;01min\u001b[39;00m \u001b[38;5;28menumerate\u001b[39m(spatial_tessellation[\u001b[38;5;28mself\u001b[39m\u001b[38;5;241m.\u001b[39m_tile_id_column]\u001b[38;5;241m.\u001b[39mvalues)])\n\u001b[1;32m    246\u001b[0m output_list \u001b[38;5;241m=\u001b[39m [[index2tileid[i], index2tileid[j], flow] \u001b[38;5;28;01mfor\u001b[39;00m i, j, flow \u001b[38;5;129;01min\u001b[39;00m all_flows \u001b[38;5;28;01mif\u001b[39;00m flow \u001b[38;5;241m>\u001b[39m \u001b[38;5;241m0.\u001b[39m]\n\u001b[0;32m--> 247\u001b[0m \u001b[38;5;28;01mreturn\u001b[39;00m \u001b[43mFlowDataFrame\u001b[49m\u001b[43m(\u001b[49m\u001b[43moutput_list\u001b[49m\u001b[43m,\u001b[49m\u001b[43m \u001b[49m\u001b[43morigin\u001b[49m\u001b[38;5;241;43m=\u001b[39;49m\u001b[38;5;241;43m0\u001b[39;49m\u001b[43m,\u001b[49m\u001b[43m \u001b[49m\u001b[43mdestination\u001b[49m\u001b[38;5;241;43m=\u001b[39;49m\u001b[38;5;241;43m1\u001b[39;49m\u001b[43m,\u001b[49m\u001b[43m \u001b[49m\u001b[43mflow\u001b[49m\u001b[38;5;241;43m=\u001b[39;49m\u001b[38;5;241;43m2\u001b[39;49m\u001b[43m,\u001b[49m\n\u001b[1;32m    248\u001b[0m \u001b[43m                     \u001b[49m\u001b[43mtile_id\u001b[49m\u001b[38;5;241;43m=\u001b[39;49m\u001b[38;5;28;43mself\u001b[39;49m\u001b[38;5;241;43m.\u001b[39;49m\u001b[43m_tile_id_column\u001b[49m\u001b[43m,\u001b[49m\u001b[43m \u001b[49m\u001b[43mtessellation\u001b[49m\u001b[38;5;241;43m=\u001b[39;49m\u001b[43mspatial_tessellation\u001b[49m\u001b[43m)\u001b[49m\n",
      "File \u001b[0;32m/opt/conda/lib/python3.11/site-packages/skmob/core/flowdataframe.py:108\u001b[0m, in \u001b[0;36mFlowDataFrame.__init__\u001b[0;34m(self, data, origin, destination, flow, datetime, tile_id, timestamp, tessellation, parameters)\u001b[0m\n\u001b[1;32m    106\u001b[0m fdf \u001b[38;5;241m=\u001b[39m data\n\u001b[1;32m    107\u001b[0m columns \u001b[38;5;241m=\u001b[39m []\n\u001b[0;32m--> 108\u001b[0m num_columns \u001b[38;5;241m=\u001b[39m \u001b[38;5;28mlen\u001b[39m(\u001b[43mdata\u001b[49m\u001b[43m[\u001b[49m\u001b[38;5;241;43m0\u001b[39;49m\u001b[43m]\u001b[49m)\n\u001b[1;32m    109\u001b[0m \u001b[38;5;28;01mfor\u001b[39;00m i \u001b[38;5;129;01min\u001b[39;00m \u001b[38;5;28mrange\u001b[39m(num_columns):\n\u001b[1;32m    110\u001b[0m     \u001b[38;5;28;01mtry\u001b[39;00m:\n",
      "\u001b[0;31mIndexError\u001b[0m: list index out of range"
     ]
    }
   ],
   "source": [
    "np.random.seed(0)\n",
    "a = 0\n",
    "l = []\n",
    "\n",
    "for n in v_test:\n",
    "    \n",
    "    \n",
    "    lookup = dict(zip(tiles.astype(str), zeros))\n",
    "    lookup_pick = dict(zip(tiles.astype(str), zeros))\n",
    "\n",
    "    flow = toFdf(n, tessellation, d)\n",
    "    flow = flow[flow[0] != flow[1]]\n",
    "    \n",
    "    z = flow.groupby([0])[2].sum()\n",
    "    for el in z.keys():\n",
    "        lookup[el] += z[el]\n",
    "    \n",
    "    flow_pick = toFdf(n, tessellation, d)    \n",
    "    z = flow_pick.groupby([0])[2].sum()\n",
    "    for el in z.keys():\n",
    "        lookup_pick[el] += z[el]\n",
    "    \n",
    "    tessellation['tot_outflow'] = tessellation['tile_ID'].map(lookup)\n",
    "    tessellation['relevance'] = tessellation['tile_ID'].map(lookup_pick)\n",
    "    tessellation['relevance'] = tessellation['relevance'] / (tessellation['relevance'].max())\n",
    "    tessellation['relevance'] = tessellation['relevance'] + 0.00001\n",
    "    \n",
    "    fdf = skmob.FlowDataFrame(data = flow,tessellation=tessellation, tile_id='tile_ID', origin =0, \n",
    "                              destination = 1, flow = 2)\n",
    "    \n",
    "    radiation = Radiation()\n",
    "    rad_flows = radiation.generate(tessellation, \n",
    "                tile_id_column='tile_ID', \n",
    "                tot_outflows_column='tot_outflow', \n",
    "                relevance_column= 'relevance', \n",
    "                out_format='flows')\n",
    "    \n",
    "    l.append(rad_flows)\n",
    "    \n",
    "    a+=1\n",
    "    print(a)\n"
   ]
  },
  {
   "cell_type": "code",
   "execution_count": 9,
   "metadata": {},
   "outputs": [
    {
     "name": "stderr",
     "output_type": "stream",
     "text": [
      "/tmp/ipykernel_125/3612077396.py:4: FutureWarning: Downcasting object dtype arrays on .fillna, .ffill, .bfill is deprecated and will change in a future version. Call result.infer_objects(copy=False) instead. To opt-in to the future behavior, set `pd.set_option('future.no_silent_downcasting', True)`\n",
      "  adj = adj.fillna(0)\n"
     ]
    },
    {
     "name": "stderr",
     "output_type": "stream",
     "text": [
      "/tmp/ipykernel_125/3612077396.py:4: FutureWarning: Downcasting object dtype arrays on .fillna, .ffill, .bfill is deprecated and will change in a future version. Call result.infer_objects(copy=False) instead. To opt-in to the future behavior, set `pd.set_option('future.no_silent_downcasting', True)`\n",
      "  adj = adj.fillna(0)\n",
      "/tmp/ipykernel_125/3612077396.py:4: FutureWarning: Downcasting object dtype arrays on .fillna, .ffill, .bfill is deprecated and will change in a future version. Call result.infer_objects(copy=False) instead. To opt-in to the future behavior, set `pd.set_option('future.no_silent_downcasting', True)`\n",
      "  adj = adj.fillna(0)\n",
      "/tmp/ipykernel_125/3612077396.py:4: FutureWarning: Downcasting object dtype arrays on .fillna, .ffill, .bfill is deprecated and will change in a future version. Call result.infer_objects(copy=False) instead. To opt-in to the future behavior, set `pd.set_option('future.no_silent_downcasting', True)`\n",
      "  adj = adj.fillna(0)\n",
      "/tmp/ipykernel_125/3612077396.py:4: FutureWarning: Downcasting object dtype arrays on .fillna, .ffill, .bfill is deprecated and will change in a future version. Call result.infer_objects(copy=False) instead. To opt-in to the future behavior, set `pd.set_option('future.no_silent_downcasting', True)`\n",
      "  adj = adj.fillna(0)\n",
      "/tmp/ipykernel_125/3612077396.py:4: FutureWarning: Downcasting object dtype arrays on .fillna, .ffill, .bfill is deprecated and will change in a future version. Call result.infer_objects(copy=False) instead. To opt-in to the future behavior, set `pd.set_option('future.no_silent_downcasting', True)`\n",
      "  adj = adj.fillna(0)\n",
      "/tmp/ipykernel_125/3612077396.py:4: FutureWarning: Downcasting object dtype arrays on .fillna, .ffill, .bfill is deprecated and will change in a future version. Call result.infer_objects(copy=False) instead. To opt-in to the future behavior, set `pd.set_option('future.no_silent_downcasting', True)`\n",
      "  adj = adj.fillna(0)\n",
      "/tmp/ipykernel_125/3612077396.py:4: FutureWarning: Downcasting object dtype arrays on .fillna, .ffill, .bfill is deprecated and will change in a future version. Call result.infer_objects(copy=False) instead. To opt-in to the future behavior, set `pd.set_option('future.no_silent_downcasting', True)`\n",
      "  adj = adj.fillna(0)\n",
      "/tmp/ipykernel_125/3612077396.py:4: FutureWarning: Downcasting object dtype arrays on .fillna, .ffill, .bfill is deprecated and will change in a future version. Call result.infer_objects(copy=False) instead. To opt-in to the future behavior, set `pd.set_option('future.no_silent_downcasting', True)`\n",
      "  adj = adj.fillna(0)\n",
      "/tmp/ipykernel_125/3612077396.py:4: FutureWarning: Downcasting object dtype arrays on .fillna, .ffill, .bfill is deprecated and will change in a future version. Call result.infer_objects(copy=False) instead. To opt-in to the future behavior, set `pd.set_option('future.no_silent_downcasting', True)`\n",
      "  adj = adj.fillna(0)\n",
      "/tmp/ipykernel_125/3612077396.py:4: FutureWarning: Downcasting object dtype arrays on .fillna, .ffill, .bfill is deprecated and will change in a future version. Call result.infer_objects(copy=False) instead. To opt-in to the future behavior, set `pd.set_option('future.no_silent_downcasting', True)`\n",
      "  adj = adj.fillna(0)\n",
      "/tmp/ipykernel_125/3612077396.py:4: FutureWarning: Downcasting object dtype arrays on .fillna, .ffill, .bfill is deprecated and will change in a future version. Call result.infer_objects(copy=False) instead. To opt-in to the future behavior, set `pd.set_option('future.no_silent_downcasting', True)`\n",
      "  adj = adj.fillna(0)\n",
      "/tmp/ipykernel_125/3612077396.py:4: FutureWarning: Downcasting object dtype arrays on .fillna, .ffill, .bfill is deprecated and will change in a future version. Call result.infer_objects(copy=False) instead. To opt-in to the future behavior, set `pd.set_option('future.no_silent_downcasting', True)`\n",
      "  adj = adj.fillna(0)\n",
      "/tmp/ipykernel_125/3612077396.py:4: FutureWarning: Downcasting object dtype arrays on .fillna, .ffill, .bfill is deprecated and will change in a future version. Call result.infer_objects(copy=False) instead. To opt-in to the future behavior, set `pd.set_option('future.no_silent_downcasting', True)`\n",
      "  adj = adj.fillna(0)\n",
      "/tmp/ipykernel_125/3612077396.py:4: FutureWarning: Downcasting object dtype arrays on .fillna, .ffill, .bfill is deprecated and will change in a future version. Call result.infer_objects(copy=False) instead. To opt-in to the future behavior, set `pd.set_option('future.no_silent_downcasting', True)`\n",
      "  adj = adj.fillna(0)\n",
      "/tmp/ipykernel_125/3612077396.py:4: FutureWarning: Downcasting object dtype arrays on .fillna, .ffill, .bfill is deprecated and will change in a future version. Call result.infer_objects(copy=False) instead. To opt-in to the future behavior, set `pd.set_option('future.no_silent_downcasting', True)`\n",
      "  adj = adj.fillna(0)\n",
      "/tmp/ipykernel_125/3612077396.py:4: FutureWarning: Downcasting object dtype arrays on .fillna, .ffill, .bfill is deprecated and will change in a future version. Call result.infer_objects(copy=False) instead. To opt-in to the future behavior, set `pd.set_option('future.no_silent_downcasting', True)`\n",
      "  adj = adj.fillna(0)\n",
      "/tmp/ipykernel_125/3612077396.py:4: FutureWarning: Downcasting object dtype arrays on .fillna, .ffill, .bfill is deprecated and will change in a future version. Call result.infer_objects(copy=False) instead. To opt-in to the future behavior, set `pd.set_option('future.no_silent_downcasting', True)`\n",
      "  adj = adj.fillna(0)\n",
      "/tmp/ipykernel_125/3612077396.py:4: FutureWarning: Downcasting object dtype arrays on .fillna, .ffill, .bfill is deprecated and will change in a future version. Call result.infer_objects(copy=False) instead. To opt-in to the future behavior, set `pd.set_option('future.no_silent_downcasting', True)`\n",
      "  adj = adj.fillna(0)\n",
      "/tmp/ipykernel_125/3612077396.py:4: FutureWarning: Downcasting object dtype arrays on .fillna, .ffill, .bfill is deprecated and will change in a future version. Call result.infer_objects(copy=False) instead. To opt-in to the future behavior, set `pd.set_option('future.no_silent_downcasting', True)`\n",
      "  adj = adj.fillna(0)\n",
      "/tmp/ipykernel_125/3612077396.py:4: FutureWarning: Downcasting object dtype arrays on .fillna, .ffill, .bfill is deprecated and will change in a future version. Call result.infer_objects(copy=False) instead. To opt-in to the future behavior, set `pd.set_option('future.no_silent_downcasting', True)`\n",
      "  adj = adj.fillna(0)\n",
      "/tmp/ipykernel_125/3612077396.py:4: FutureWarning: Downcasting object dtype arrays on .fillna, .ffill, .bfill is deprecated and will change in a future version. Call result.infer_objects(copy=False) instead. To opt-in to the future behavior, set `pd.set_option('future.no_silent_downcasting', True)`\n",
      "  adj = adj.fillna(0)\n",
      "/tmp/ipykernel_125/3612077396.py:4: FutureWarning: Downcasting object dtype arrays on .fillna, .ffill, .bfill is deprecated and will change in a future version. Call result.infer_objects(copy=False) instead. To opt-in to the future behavior, set `pd.set_option('future.no_silent_downcasting', True)`\n",
      "  adj = adj.fillna(0)\n",
      "/tmp/ipykernel_125/3612077396.py:4: FutureWarning: Downcasting object dtype arrays on .fillna, .ffill, .bfill is deprecated and will change in a future version. Call result.infer_objects(copy=False) instead. To opt-in to the future behavior, set `pd.set_option('future.no_silent_downcasting', True)`\n",
      "  adj = adj.fillna(0)\n",
      "/tmp/ipykernel_125/3612077396.py:4: FutureWarning: Downcasting object dtype arrays on .fillna, .ffill, .bfill is deprecated and will change in a future version. Call result.infer_objects(copy=False) instead. To opt-in to the future behavior, set `pd.set_option('future.no_silent_downcasting', True)`\n",
      "  adj = adj.fillna(0)\n",
      "/tmp/ipykernel_125/3612077396.py:4: FutureWarning: Downcasting object dtype arrays on .fillna, .ffill, .bfill is deprecated and will change in a future version. Call result.infer_objects(copy=False) instead. To opt-in to the future behavior, set `pd.set_option('future.no_silent_downcasting', True)`\n",
      "  adj = adj.fillna(0)\n",
      "/tmp/ipykernel_125/3612077396.py:4: FutureWarning: Downcasting object dtype arrays on .fillna, .ffill, .bfill is deprecated and will change in a future version. Call result.infer_objects(copy=False) instead. To opt-in to the future behavior, set `pd.set_option('future.no_silent_downcasting', True)`\n",
      "  adj = adj.fillna(0)\n",
      "/tmp/ipykernel_125/3612077396.py:4: FutureWarning: Downcasting object dtype arrays on .fillna, .ffill, .bfill is deprecated and will change in a future version. Call result.infer_objects(copy=False) instead. To opt-in to the future behavior, set `pd.set_option('future.no_silent_downcasting', True)`\n",
      "  adj = adj.fillna(0)\n",
      "/tmp/ipykernel_125/3612077396.py:4: FutureWarning: Downcasting object dtype arrays on .fillna, .ffill, .bfill is deprecated and will change in a future version. Call result.infer_objects(copy=False) instead. To opt-in to the future behavior, set `pd.set_option('future.no_silent_downcasting', True)`\n",
      "  adj = adj.fillna(0)\n",
      "/tmp/ipykernel_125/3612077396.py:4: FutureWarning: Downcasting object dtype arrays on .fillna, .ffill, .bfill is deprecated and will change in a future version. Call result.infer_objects(copy=False) instead. To opt-in to the future behavior, set `pd.set_option('future.no_silent_downcasting', True)`\n",
      "  adj = adj.fillna(0)\n",
      "/tmp/ipykernel_125/3612077396.py:4: FutureWarning: Downcasting object dtype arrays on .fillna, .ffill, .bfill is deprecated and will change in a future version. Call result.infer_objects(copy=False) instead. To opt-in to the future behavior, set `pd.set_option('future.no_silent_downcasting', True)`\n",
      "  adj = adj.fillna(0)\n",
      "/tmp/ipykernel_125/3612077396.py:4: FutureWarning: Downcasting object dtype arrays on .fillna, .ffill, .bfill is deprecated and will change in a future version. Call result.infer_objects(copy=False) instead. To opt-in to the future behavior, set `pd.set_option('future.no_silent_downcasting', True)`\n",
      "  adj = adj.fillna(0)\n",
      "/tmp/ipykernel_125/3612077396.py:4: FutureWarning: Downcasting object dtype arrays on .fillna, .ffill, .bfill is deprecated and will change in a future version. Call result.infer_objects(copy=False) instead. To opt-in to the future behavior, set `pd.set_option('future.no_silent_downcasting', True)`\n",
      "  adj = adj.fillna(0)\n",
      "/tmp/ipykernel_125/3612077396.py:4: FutureWarning: Downcasting object dtype arrays on .fillna, .ffill, .bfill is deprecated and will change in a future version. Call result.infer_objects(copy=False) instead. To opt-in to the future behavior, set `pd.set_option('future.no_silent_downcasting', True)`\n",
      "  adj = adj.fillna(0)\n",
      "/tmp/ipykernel_125/3612077396.py:4: FutureWarning: Downcasting object dtype arrays on .fillna, .ffill, .bfill is deprecated and will change in a future version. Call result.infer_objects(copy=False) instead. To opt-in to the future behavior, set `pd.set_option('future.no_silent_downcasting', True)`\n",
      "  adj = adj.fillna(0)\n",
      "/tmp/ipykernel_125/3612077396.py:4: FutureWarning: Downcasting object dtype arrays on .fillna, .ffill, .bfill is deprecated and will change in a future version. Call result.infer_objects(copy=False) instead. To opt-in to the future behavior, set `pd.set_option('future.no_silent_downcasting', True)`\n",
      "  adj = adj.fillna(0)\n",
      "/tmp/ipykernel_125/3612077396.py:4: FutureWarning: Downcasting object dtype arrays on .fillna, .ffill, .bfill is deprecated and will change in a future version. Call result.infer_objects(copy=False) instead. To opt-in to the future behavior, set `pd.set_option('future.no_silent_downcasting', True)`\n",
      "  adj = adj.fillna(0)\n",
      "/tmp/ipykernel_125/3612077396.py:4: FutureWarning: Downcasting object dtype arrays on .fillna, .ffill, .bfill is deprecated and will change in a future version. Call result.infer_objects(copy=False) instead. To opt-in to the future behavior, set `pd.set_option('future.no_silent_downcasting', True)`\n",
      "  adj = adj.fillna(0)\n",
      "/tmp/ipykernel_125/3612077396.py:4: FutureWarning: Downcasting object dtype arrays on .fillna, .ffill, .bfill is deprecated and will change in a future version. Call result.infer_objects(copy=False) instead. To opt-in to the future behavior, set `pd.set_option('future.no_silent_downcasting', True)`\n",
      "  adj = adj.fillna(0)\n",
      "/tmp/ipykernel_125/3612077396.py:4: FutureWarning: Downcasting object dtype arrays on .fillna, .ffill, .bfill is deprecated and will change in a future version. Call result.infer_objects(copy=False) instead. To opt-in to the future behavior, set `pd.set_option('future.no_silent_downcasting', True)`\n",
      "  adj = adj.fillna(0)\n",
      "/tmp/ipykernel_125/3612077396.py:4: FutureWarning: Downcasting object dtype arrays on .fillna, .ffill, .bfill is deprecated and will change in a future version. Call result.infer_objects(copy=False) instead. To opt-in to the future behavior, set `pd.set_option('future.no_silent_downcasting', True)`\n",
      "  adj = adj.fillna(0)\n",
      "/tmp/ipykernel_125/3612077396.py:4: FutureWarning: Downcasting object dtype arrays on .fillna, .ffill, .bfill is deprecated and will change in a future version. Call result.infer_objects(copy=False) instead. To opt-in to the future behavior, set `pd.set_option('future.no_silent_downcasting', True)`\n",
      "  adj = adj.fillna(0)\n",
      "/tmp/ipykernel_125/3612077396.py:4: FutureWarning: Downcasting object dtype arrays on .fillna, .ffill, .bfill is deprecated and will change in a future version. Call result.infer_objects(copy=False) instead. To opt-in to the future behavior, set `pd.set_option('future.no_silent_downcasting', True)`\n",
      "  adj = adj.fillna(0)\n",
      "/tmp/ipykernel_125/3612077396.py:4: FutureWarning: Downcasting object dtype arrays on .fillna, .ffill, .bfill is deprecated and will change in a future version. Call result.infer_objects(copy=False) instead. To opt-in to the future behavior, set `pd.set_option('future.no_silent_downcasting', True)`\n",
      "  adj = adj.fillna(0)\n",
      "/tmp/ipykernel_125/3612077396.py:4: FutureWarning: Downcasting object dtype arrays on .fillna, .ffill, .bfill is deprecated and will change in a future version. Call result.infer_objects(copy=False) instead. To opt-in to the future behavior, set `pd.set_option('future.no_silent_downcasting', True)`\n",
      "  adj = adj.fillna(0)\n",
      "/tmp/ipykernel_125/3612077396.py:4: FutureWarning: Downcasting object dtype arrays on .fillna, .ffill, .bfill is deprecated and will change in a future version. Call result.infer_objects(copy=False) instead. To opt-in to the future behavior, set `pd.set_option('future.no_silent_downcasting', True)`\n",
      "  adj = adj.fillna(0)\n",
      "/tmp/ipykernel_125/3612077396.py:4: FutureWarning: Downcasting object dtype arrays on .fillna, .ffill, .bfill is deprecated and will change in a future version. Call result.infer_objects(copy=False) instead. To opt-in to the future behavior, set `pd.set_option('future.no_silent_downcasting', True)`\n",
      "  adj = adj.fillna(0)\n",
      "/tmp/ipykernel_125/3612077396.py:4: FutureWarning: Downcasting object dtype arrays on .fillna, .ffill, .bfill is deprecated and will change in a future version. Call result.infer_objects(copy=False) instead. To opt-in to the future behavior, set `pd.set_option('future.no_silent_downcasting', True)`\n",
      "  adj = adj.fillna(0)\n",
      "/tmp/ipykernel_125/3612077396.py:4: FutureWarning: Downcasting object dtype arrays on .fillna, .ffill, .bfill is deprecated and will change in a future version. Call result.infer_objects(copy=False) instead. To opt-in to the future behavior, set `pd.set_option('future.no_silent_downcasting', True)`\n",
      "  adj = adj.fillna(0)\n",
      "/tmp/ipykernel_125/3612077396.py:4: FutureWarning: Downcasting object dtype arrays on .fillna, .ffill, .bfill is deprecated and will change in a future version. Call result.infer_objects(copy=False) instead. To opt-in to the future behavior, set `pd.set_option('future.no_silent_downcasting', True)`\n",
      "  adj = adj.fillna(0)\n",
      "/tmp/ipykernel_125/3612077396.py:4: FutureWarning: Downcasting object dtype arrays on .fillna, .ffill, .bfill is deprecated and will change in a future version. Call result.infer_objects(copy=False) instead. To opt-in to the future behavior, set `pd.set_option('future.no_silent_downcasting', True)`\n",
      "  adj = adj.fillna(0)\n"
     ]
    }
   ],
   "source": [
    "\n",
    "\n",
    "fake_set = []\n",
    "for fdf in l:\n",
    "    adj = toAdj(fdf, tessellation)\n",
    "    adj = adj.fillna(0)\n",
    "    arr = np.rint(adj.to_numpy())\n",
    "    fake_set.append(arr)\n",
    "\n",
    "with open(\"./generations/dia/fake_set_radiation.txt\", \"wb\") as fp:   # Unpickling\n",
    "    pickle.dump(fake_set,fp)"
   ]
  },
  {
   "cell_type": "code",
   "execution_count": 10,
   "metadata": {},
   "outputs": [
    {
     "data": {
      "text/plain": [
       "[array([[ 0.,  0.,  0., ...,  0.,  0.,  0.],\n",
       "        [ 0.,  0.,  6., ...,  0.,  0.,  0.],\n",
       "        [ 0., 24.,  0., ...,  0.,  0.,  0.],\n",
       "        ...,\n",
       "        [ 0.,  0.,  0., ...,  0.,  0.,  0.],\n",
       "        [ 0.,  0.,  0., ...,  0.,  0.,  0.],\n",
       "        [ 0.,  0.,  0., ...,  0.,  0.,  0.]]),\n",
       " array([[0., 0., 0., ..., 0., 0., 0.],\n",
       "        [0., 0., 0., ..., 0., 0., 0.],\n",
       "        [0., 0., 0., ..., 0., 0., 0.],\n",
       "        ...,\n",
       "        [0., 0., 0., ..., 0., 0., 0.],\n",
       "        [0., 0., 0., ..., 0., 0., 0.],\n",
       "        [0., 0., 0., ..., 0., 0., 0.]]),\n",
       " array([[ 0.,  0.,  0., ...,  0.,  0.,  0.],\n",
       "        [ 0.,  0.,  5., ...,  0.,  0.,  0.],\n",
       "        [ 0., 19.,  0., ...,  0.,  0.,  0.],\n",
       "        ...,\n",
       "        [ 0.,  0.,  0., ...,  0.,  0.,  0.],\n",
       "        [ 0.,  0.,  0., ...,  0.,  0.,  0.],\n",
       "        [ 0.,  0.,  0., ...,  0.,  0.,  0.]]),\n",
       " array([[ 0.,  0.,  0., ...,  0.,  0.,  0.],\n",
       "        [ 0.,  0., 11., ...,  0.,  0.,  0.],\n",
       "        [ 0., 37.,  0., ...,  0.,  0.,  0.],\n",
       "        ...,\n",
       "        [ 0.,  0.,  0., ...,  0.,  0.,  0.],\n",
       "        [ 0.,  0.,  0., ...,  0.,  0.,  0.],\n",
       "        [ 0.,  0.,  0., ...,  0.,  0.,  0.]]),\n",
       " array([[0., 0., 0., ..., 0., 0., 0.],\n",
       "        [0., 0., 0., ..., 0., 0., 0.],\n",
       "        [0., 0., 0., ..., 0., 0., 0.],\n",
       "        ...,\n",
       "        [0., 0., 0., ..., 0., 0., 0.],\n",
       "        [0., 0., 0., ..., 0., 0., 0.],\n",
       "        [0., 0., 0., ..., 0., 0., 0.]]),\n",
       " array([[  0.,   0.,   0., ...,   0.,   0.,   0.],\n",
       "        [  0.,   0.,  64., ...,   0.,   0.,   0.],\n",
       "        [  0., 213.,   0., ...,   0.,   0.,   0.],\n",
       "        ...,\n",
       "        [  0.,   0.,   0., ...,   0.,   0.,   0.],\n",
       "        [  0.,   0.,   0., ...,   0.,   0.,   0.],\n",
       "        [  0.,   0.,   0., ...,   0.,   0.,   0.]]),\n",
       " array([[0., 0., 0., ..., 0., 0., 0.],\n",
       "        [0., 0., 0., ..., 0., 0., 0.],\n",
       "        [0., 0., 0., ..., 0., 0., 0.],\n",
       "        ...,\n",
       "        [0., 0., 0., ..., 0., 0., 0.],\n",
       "        [0., 0., 0., ..., 0., 0., 0.],\n",
       "        [0., 0., 0., ..., 0., 0., 0.]]),\n",
       " array([[0., 0., 0., ..., 0., 0., 0.],\n",
       "        [0., 0., 0., ..., 0., 0., 0.],\n",
       "        [0., 0., 0., ..., 0., 0., 0.],\n",
       "        ...,\n",
       "        [0., 0., 0., ..., 0., 0., 0.],\n",
       "        [0., 0., 0., ..., 0., 0., 0.],\n",
       "        [0., 0., 0., ..., 0., 0., 0.]]),\n",
       " array([[ 0.,  0.,  0., ...,  0.,  0.,  0.],\n",
       "        [ 0.,  0., 20., ...,  0.,  0.,  0.],\n",
       "        [ 0., 81.,  0., ...,  0.,  0.,  0.],\n",
       "        ...,\n",
       "        [ 0.,  0.,  0., ...,  0.,  0.,  0.],\n",
       "        [ 0.,  0.,  0., ...,  0.,  0.,  0.],\n",
       "        [ 0.,  0.,  0., ...,  0.,  0.,  0.]]),\n",
       " array([[0., 0., 0., ..., 0., 0., 0.],\n",
       "        [0., 0., 0., ..., 0., 0., 0.],\n",
       "        [0., 0., 0., ..., 0., 0., 0.],\n",
       "        ...,\n",
       "        [0., 0., 0., ..., 0., 0., 0.],\n",
       "        [0., 0., 0., ..., 0., 0., 0.],\n",
       "        [0., 0., 0., ..., 0., 0., 0.]]),\n",
       " array([[ 0.,  0.,  0., ...,  0.,  0.,  0.],\n",
       "        [ 0.,  0., 10., ...,  0.,  0.,  0.],\n",
       "        [ 0., 30.,  0., ...,  0.,  0.,  0.],\n",
       "        ...,\n",
       "        [ 0.,  0.,  0., ...,  0.,  0.,  0.],\n",
       "        [ 0.,  0.,  0., ...,  0.,  0.,  0.],\n",
       "        [ 0.,  0.,  0., ...,  0.,  0.,  0.]]),\n",
       " array([[ 0.,  0.,  0., ...,  0.,  0.,  0.],\n",
       "        [ 0.,  0.,  9., ...,  0.,  0.,  0.],\n",
       "        [ 0., 48.,  0., ...,  0.,  0.,  0.],\n",
       "        ...,\n",
       "        [ 0.,  0.,  0., ...,  0.,  0.,  0.],\n",
       "        [ 0.,  0.,  0., ...,  0.,  0.,  0.],\n",
       "        [ 0.,  0.,  0., ...,  0.,  0.,  0.]]),\n",
       " array([[ 0.,  0.,  0., ...,  0.,  0.,  0.],\n",
       "        [ 0.,  0.,  5., ...,  0.,  0.,  0.],\n",
       "        [ 0., 36.,  0., ...,  0.,  0.,  0.],\n",
       "        ...,\n",
       "        [ 0.,  0.,  0., ...,  0.,  0.,  0.],\n",
       "        [ 0.,  0.,  0., ...,  0.,  0.,  0.],\n",
       "        [ 0.,  0.,  0., ...,  0.,  0.,  0.]]),\n",
       " array([[0., 0., 0., ..., 0., 0., 0.],\n",
       "        [0., 0., 0., ..., 0., 0., 0.],\n",
       "        [0., 2., 0., ..., 0., 0., 0.],\n",
       "        ...,\n",
       "        [0., 0., 0., ..., 0., 0., 0.],\n",
       "        [0., 0., 0., ..., 0., 0., 0.],\n",
       "        [0., 0., 0., ..., 0., 0., 0.]]),\n",
       " array([[0., 0., 0., ..., 0., 0., 0.],\n",
       "        [0., 0., 0., ..., 0., 0., 0.],\n",
       "        [0., 0., 0., ..., 0., 0., 0.],\n",
       "        ...,\n",
       "        [0., 0., 0., ..., 0., 0., 0.],\n",
       "        [0., 0., 0., ..., 0., 0., 0.],\n",
       "        [0., 0., 0., ..., 0., 0., 0.]]),\n",
       " array([[ 0.,  0.,  0., ...,  0.,  0.,  0.],\n",
       "        [ 0.,  0.,  8., ...,  0.,  0.,  0.],\n",
       "        [ 0., 27.,  0., ...,  0.,  0.,  0.],\n",
       "        ...,\n",
       "        [ 0.,  0.,  0., ...,  0.,  0.,  0.],\n",
       "        [ 0.,  0.,  0., ...,  0.,  0.,  0.],\n",
       "        [ 0.,  0.,  0., ...,  0.,  0.,  0.]]),\n",
       " array([[ 0.,  0.,  0., ...,  0.,  0.,  0.],\n",
       "        [ 0.,  0.,  6., ...,  0.,  0.,  0.],\n",
       "        [ 0., 27.,  0., ...,  0.,  0.,  0.],\n",
       "        ...,\n",
       "        [ 0.,  0.,  0., ...,  0.,  0.,  0.],\n",
       "        [ 0.,  0.,  0., ...,  0.,  0.,  0.],\n",
       "        [ 0.,  0.,  0., ...,  0.,  0.,  0.]]),\n",
       " array([[ 0.,  0.,  0., ...,  0.,  0.,  0.],\n",
       "        [ 0.,  0.,  8., ...,  0.,  0.,  0.],\n",
       "        [ 0., 28.,  0., ...,  0.,  0.,  0.],\n",
       "        ...,\n",
       "        [ 0.,  0.,  0., ...,  0.,  0.,  0.],\n",
       "        [ 0.,  0.,  0., ...,  0.,  0.,  0.],\n",
       "        [ 0.,  0.,  0., ...,  0.,  0.,  0.]]),\n",
       " array([[ 0.,  0.,  0., ...,  0.,  0.,  0.],\n",
       "        [ 0.,  0.,  5., ...,  0.,  0.,  0.],\n",
       "        [ 0., 17.,  0., ...,  0.,  0.,  0.],\n",
       "        ...,\n",
       "        [ 0.,  0.,  0., ...,  0.,  0.,  0.],\n",
       "        [ 0.,  0.,  0., ...,  0.,  0.,  0.],\n",
       "        [ 0.,  0.,  0., ...,  0.,  0.,  0.]]),\n",
       " array([[0., 0., 0., ..., 0., 0., 0.],\n",
       "        [0., 0., 0., ..., 0., 0., 0.],\n",
       "        [0., 0., 0., ..., 0., 0., 0.],\n",
       "        ...,\n",
       "        [0., 0., 0., ..., 0., 0., 0.],\n",
       "        [0., 0., 0., ..., 0., 0., 0.],\n",
       "        [0., 0., 0., ..., 0., 0., 0.]]),\n",
       " array([[0., 0., 0., ..., 0., 0., 0.],\n",
       "        [0., 0., 0., ..., 0., 0., 0.],\n",
       "        [0., 0., 0., ..., 0., 0., 0.],\n",
       "        ...,\n",
       "        [0., 0., 0., ..., 0., 0., 0.],\n",
       "        [0., 0., 0., ..., 0., 0., 0.],\n",
       "        [0., 0., 0., ..., 0., 0., 0.]]),\n",
       " array([[ 0.,  0.,  0., ...,  0.,  0.,  0.],\n",
       "        [ 0.,  0.,  7., ...,  0.,  0.,  0.],\n",
       "        [ 0., 35.,  0., ...,  0.,  0.,  0.],\n",
       "        ...,\n",
       "        [ 0.,  0.,  0., ...,  0.,  0.,  0.],\n",
       "        [ 0.,  0.,  0., ...,  0.,  0.,  0.],\n",
       "        [ 0.,  0.,  0., ...,  0.,  0.,  0.]]),\n",
       " array([[ 0.,  0.,  0., ...,  0.,  0.,  0.],\n",
       "        [ 0.,  0.,  5., ...,  0.,  0.,  0.],\n",
       "        [ 0., 20.,  0., ...,  0.,  0.,  0.],\n",
       "        ...,\n",
       "        [ 0.,  0.,  0., ...,  0.,  0.,  0.],\n",
       "        [ 0.,  0.,  0., ...,  0.,  0.,  0.],\n",
       "        [ 0.,  0.,  0., ...,  0.,  0.,  0.]]),\n",
       " array([[ 0.,  0.,  0., ...,  0.,  0.,  0.],\n",
       "        [ 0.,  0.,  7., ...,  0.,  0.,  0.],\n",
       "        [ 0., 28.,  0., ...,  0.,  0.,  0.],\n",
       "        ...,\n",
       "        [ 0.,  0.,  0., ...,  0.,  0.,  0.],\n",
       "        [ 0.,  0.,  0., ...,  0.,  0.,  0.],\n",
       "        [ 0.,  0.,  0., ...,  0.,  0.,  0.]]),\n",
       " array([[  0.,   0.,   0., ...,   0.,   0.,   0.],\n",
       "        [  0.,   0.,  64., ...,   0.,   0.,   0.],\n",
       "        [  0., 243.,   0., ...,   0.,   0.,   0.],\n",
       "        ...,\n",
       "        [  0.,   0.,   0., ...,   0.,   0.,   0.],\n",
       "        [  0.,   0.,   0., ...,   0.,   0.,   0.],\n",
       "        [  0.,   0.,   0., ...,   0.,   0.,   0.]]),\n",
       " array([[ 0.,  0.,  0., ...,  0.,  0.,  0.],\n",
       "        [ 0.,  0.,  0., ...,  0.,  0.,  0.],\n",
       "        [ 0., 10.,  0., ...,  0.,  0.,  0.],\n",
       "        ...,\n",
       "        [ 0.,  0.,  0., ...,  0.,  0.,  0.],\n",
       "        [ 0.,  0.,  0., ...,  0.,  0.,  0.],\n",
       "        [ 0.,  0.,  0., ...,  0.,  0.,  0.]]),\n",
       " array([[0., 0., 0., ..., 0., 0., 0.],\n",
       "        [0., 0., 0., ..., 0., 0., 0.],\n",
       "        [0., 0., 0., ..., 0., 0., 0.],\n",
       "        ...,\n",
       "        [0., 0., 0., ..., 0., 0., 0.],\n",
       "        [0., 0., 0., ..., 0., 0., 0.],\n",
       "        [0., 0., 0., ..., 0., 0., 0.]]),\n",
       " array([[0., 0., 0., ..., 0., 0., 0.],\n",
       "        [0., 0., 0., ..., 0., 0., 0.],\n",
       "        [0., 0., 0., ..., 0., 0., 0.],\n",
       "        ...,\n",
       "        [0., 0., 0., ..., 0., 0., 0.],\n",
       "        [0., 0., 0., ..., 0., 0., 0.],\n",
       "        [0., 0., 0., ..., 0., 0., 0.]]),\n",
       " array([[ 0.,  0.,  0., ...,  0.,  0.,  0.],\n",
       "        [ 0.,  0., 12., ...,  0.,  0.,  0.],\n",
       "        [ 0., 59.,  0., ...,  0.,  0.,  0.],\n",
       "        ...,\n",
       "        [ 0.,  0.,  0., ...,  0.,  0.,  0.],\n",
       "        [ 0.,  0.,  0., ...,  0.,  0.,  0.],\n",
       "        [ 0.,  0.,  0., ...,  0.,  0.,  0.]]),\n",
       " array([[ 0.,  0.,  0., ...,  0.,  0.,  0.],\n",
       "        [ 0.,  0.,  2., ...,  0.,  0.,  0.],\n",
       "        [ 0., 21.,  0., ...,  0.,  0.,  0.],\n",
       "        ...,\n",
       "        [ 0.,  0.,  0., ...,  0.,  0.,  0.],\n",
       "        [ 0.,  0.,  0., ...,  0.,  0.,  0.],\n",
       "        [ 0.,  0.,  0., ...,  0.,  0.,  0.]]),\n",
       " array([[  0.,   0.,   0., ...,   0.,   0.,   0.],\n",
       "        [  0.,   0.,  21., ...,   0.,   0.,   0.],\n",
       "        [  0., 101.,   0., ...,   0.,   0.,   0.],\n",
       "        ...,\n",
       "        [  0.,   0.,   0., ...,   0.,   0.,   0.],\n",
       "        [  0.,   0.,   0., ...,   0.,   0.,   0.],\n",
       "        [  0.,   0.,   0., ...,   0.,   0.,   0.]]),\n",
       " array([[0., 0., 0., ..., 0., 0., 0.],\n",
       "        [0., 0., 0., ..., 0., 0., 0.],\n",
       "        [0., 0., 0., ..., 0., 0., 0.],\n",
       "        ...,\n",
       "        [0., 0., 0., ..., 0., 0., 0.],\n",
       "        [0., 0., 0., ..., 0., 0., 0.],\n",
       "        [0., 0., 0., ..., 0., 0., 0.]]),\n",
       " array([[ 0.,  0.,  0., ...,  0.,  0.,  0.],\n",
       "        [ 0.,  0.,  8., ...,  0.,  0.,  0.],\n",
       "        [ 0., 32.,  0., ...,  0.,  0.,  0.],\n",
       "        ...,\n",
       "        [ 0.,  0.,  0., ...,  0.,  0.,  0.],\n",
       "        [ 0.,  0.,  0., ...,  0.,  0.,  0.],\n",
       "        [ 0.,  0.,  0., ...,  0.,  0.,  0.]]),\n",
       " array([[0., 0., 0., ..., 0., 0., 0.],\n",
       "        [0., 0., 0., ..., 0., 0., 0.],\n",
       "        [0., 0., 0., ..., 0., 0., 0.],\n",
       "        ...,\n",
       "        [0., 0., 0., ..., 0., 0., 0.],\n",
       "        [0., 0., 0., ..., 0., 0., 0.],\n",
       "        [0., 0., 0., ..., 0., 0., 0.]]),\n",
       " array([[ 0.,  0.,  0., ...,  0.,  0.,  0.],\n",
       "        [ 0.,  0., 18., ...,  0.,  0.,  0.],\n",
       "        [ 0., 71.,  0., ...,  0.,  0.,  0.],\n",
       "        ...,\n",
       "        [ 0.,  0.,  0., ...,  0.,  0.,  0.],\n",
       "        [ 0.,  0.,  0., ...,  0.,  0.,  0.],\n",
       "        [ 0.,  0.,  0., ...,  0.,  0.,  0.]]),\n",
       " array([[0., 0., 0., ..., 0., 0., 0.],\n",
       "        [0., 0., 0., ..., 0., 0., 0.],\n",
       "        [0., 0., 0., ..., 0., 0., 0.],\n",
       "        ...,\n",
       "        [0., 0., 0., ..., 0., 0., 0.],\n",
       "        [0., 0., 0., ..., 0., 0., 0.],\n",
       "        [0., 0., 0., ..., 0., 0., 0.]]),\n",
       " array([[0., 0., 0., ..., 0., 0., 0.],\n",
       "        [0., 0., 0., ..., 0., 0., 0.],\n",
       "        [0., 0., 0., ..., 0., 0., 0.],\n",
       "        ...,\n",
       "        [0., 0., 0., ..., 0., 0., 0.],\n",
       "        [0., 0., 0., ..., 0., 0., 0.],\n",
       "        [0., 0., 0., ..., 0., 0., 0.]]),\n",
       " array([[0., 0., 0., ..., 0., 0., 0.],\n",
       "        [0., 0., 0., ..., 0., 0., 0.],\n",
       "        [0., 0., 0., ..., 0., 0., 0.],\n",
       "        ...,\n",
       "        [0., 0., 0., ..., 0., 0., 0.],\n",
       "        [0., 0., 0., ..., 0., 0., 0.],\n",
       "        [0., 0., 0., ..., 0., 0., 0.]]),\n",
       " array([[  0.,   0.,   0., ...,   0.,   0.,   0.],\n",
       "        [  0.,   0.,  28., ...,   0.,   0.,   0.],\n",
       "        [  0., 163.,   0., ...,   0.,   0.,   0.],\n",
       "        ...,\n",
       "        [  0.,   0.,   0., ...,   0.,   0.,   0.],\n",
       "        [  0.,   0.,   0., ...,   0.,   0.,   0.],\n",
       "        [  0.,   0.,   0., ...,   0.,   0.,   0.]]),\n",
       " array([[0., 0., 0., ..., 0., 0., 0.],\n",
       "        [0., 0., 0., ..., 0., 0., 0.],\n",
       "        [0., 0., 0., ..., 0., 0., 0.],\n",
       "        ...,\n",
       "        [0., 0., 0., ..., 0., 0., 0.],\n",
       "        [0., 0., 0., ..., 0., 0., 0.],\n",
       "        [0., 0., 0., ..., 0., 0., 0.]]),\n",
       " array([[0., 0., 0., ..., 0., 0., 0.],\n",
       "        [0., 0., 0., ..., 0., 0., 0.],\n",
       "        [0., 0., 0., ..., 0., 0., 0.],\n",
       "        ...,\n",
       "        [0., 0., 0., ..., 0., 0., 0.],\n",
       "        [0., 0., 0., ..., 0., 0., 0.],\n",
       "        [0., 0., 0., ..., 0., 0., 0.]]),\n",
       " array([[ 0.,  0.,  0., ...,  0.,  0.,  0.],\n",
       "        [ 0.,  0.,  7., ...,  0.,  0.,  0.],\n",
       "        [ 0., 60.,  0., ...,  0.,  0.,  0.],\n",
       "        ...,\n",
       "        [ 0.,  0.,  0., ...,  0.,  0.,  0.],\n",
       "        [ 0.,  0.,  0., ...,  0.,  0.,  0.],\n",
       "        [ 0.,  0.,  0., ...,  0.,  0.,  0.]]),\n",
       " array([[0., 0., 0., ..., 0., 0., 0.],\n",
       "        [0., 0., 0., ..., 0., 0., 0.],\n",
       "        [0., 0., 0., ..., 0., 0., 0.],\n",
       "        ...,\n",
       "        [0., 0., 0., ..., 0., 0., 0.],\n",
       "        [0., 0., 0., ..., 0., 0., 0.],\n",
       "        [0., 0., 0., ..., 0., 0., 0.]]),\n",
       " array([[0., 0., 0., ..., 0., 0., 0.],\n",
       "        [0., 0., 0., ..., 0., 0., 0.],\n",
       "        [0., 0., 0., ..., 0., 0., 0.],\n",
       "        ...,\n",
       "        [0., 0., 0., ..., 0., 0., 0.],\n",
       "        [0., 0., 0., ..., 0., 0., 0.],\n",
       "        [0., 0., 0., ..., 0., 0., 0.]]),\n",
       " array([[  0.,   0.,   0., ...,   0.,   0.,   0.],\n",
       "        [  0.,   0.,  30., ...,   0.,   0.,   0.],\n",
       "        [  0., 107.,   0., ...,   0.,   0.,   0.],\n",
       "        ...,\n",
       "        [  0.,   0.,   0., ...,   0.,   0.,   0.],\n",
       "        [  0.,   0.,   0., ...,   0.,   0.,   0.],\n",
       "        [  0.,   0.,   0., ...,   0.,   0.,   0.]]),\n",
       " array([[0., 0., 0., ..., 0., 0., 0.],\n",
       "        [0., 0., 0., ..., 0., 0., 0.],\n",
       "        [0., 0., 0., ..., 0., 0., 0.],\n",
       "        ...,\n",
       "        [0., 0., 0., ..., 0., 0., 0.],\n",
       "        [0., 0., 0., ..., 0., 0., 0.],\n",
       "        [0., 0., 0., ..., 0., 0., 0.]]),\n",
       " array([[0., 0., 0., ..., 0., 0., 0.],\n",
       "        [0., 0., 0., ..., 0., 0., 0.],\n",
       "        [0., 0., 0., ..., 0., 0., 0.],\n",
       "        ...,\n",
       "        [0., 0., 0., ..., 0., 0., 0.],\n",
       "        [0., 0., 0., ..., 0., 0., 0.],\n",
       "        [0., 0., 0., ..., 0., 0., 0.]]),\n",
       " array([[0., 0., 0., ..., 0., 0., 0.],\n",
       "        [0., 0., 0., ..., 0., 0., 0.],\n",
       "        [0., 0., 0., ..., 0., 0., 0.],\n",
       "        ...,\n",
       "        [0., 0., 0., ..., 0., 0., 0.],\n",
       "        [0., 0., 0., ..., 0., 0., 0.],\n",
       "        [0., 0., 0., ..., 0., 0., 0.]]),\n",
       " array([[0., 0., 0., ..., 0., 0., 0.],\n",
       "        [0., 0., 0., ..., 0., 0., 0.],\n",
       "        [0., 0., 0., ..., 0., 0., 0.],\n",
       "        ...,\n",
       "        [0., 0., 0., ..., 0., 0., 0.],\n",
       "        [0., 0., 0., ..., 0., 0., 0.],\n",
       "        [0., 0., 0., ..., 0., 0., 0.]]),\n",
       " array([[0., 0., 0., ..., 0., 0., 0.],\n",
       "        [0., 0., 0., ..., 0., 0., 0.],\n",
       "        [0., 0., 0., ..., 0., 0., 0.],\n",
       "        ...,\n",
       "        [0., 0., 0., ..., 0., 0., 0.],\n",
       "        [0., 0., 0., ..., 0., 0., 0.],\n",
       "        [0., 0., 0., ..., 0., 0., 0.]]),\n",
       " array([[0., 0., 0., ..., 0., 0., 0.],\n",
       "        [0., 0., 0., ..., 0., 0., 0.],\n",
       "        [0., 0., 0., ..., 0., 0., 0.],\n",
       "        ...,\n",
       "        [0., 0., 0., ..., 0., 0., 0.],\n",
       "        [0., 0., 0., ..., 0., 0., 0.],\n",
       "        [0., 0., 0., ..., 0., 0., 0.]])]"
      ]
     },
     "execution_count": 10,
     "metadata": {},
     "output_type": "execute_result"
    }
   ],
   "source": [
    "fake_set"
   ]
  }
 ],
 "metadata": {
  "kernelspec": {
   "display_name": "Python 3 (ipykernel)",
   "language": "python",
   "name": "python3"
  },
  "language_info": {
   "codemirror_mode": {
    "name": "ipython",
    "version": 3
   },
   "file_extension": ".py",
   "mimetype": "text/x-python",
   "name": "python",
   "nbconvert_exporter": "python",
   "pygments_lexer": "ipython3",
   "version": "3.11.9"
  }
 },
 "nbformat": 4,
 "nbformat_minor": 2
}
